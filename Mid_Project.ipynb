{
 "cells": [
  {
   "cell_type": "markdown",
   "metadata": {},
   "source": [
    "*Mid Project: Drug Performance Evaluation*"
   ]
  },
  {
   "cell_type": "markdown",
   "metadata": {},
   "source": [
    "**Start to import all packages required in this project**"
   ]
  },
  {
   "cell_type": "code",
   "execution_count": 135,
   "metadata": {},
   "outputs": [],
   "source": [
    "import pandas as pd\n",
    "import numpy as np\n",
    "import seaborn as sns\n",
    "import matplotlib.pyplot as plt\n",
    "from scipy import stats as st\n",
    "from sklearn.linear_model import LinearRegression\n",
    "import plotly.express as px"
   ]
  },
  {
   "cell_type": "markdown",
   "metadata": {},
   "source": [
    "**Read the CSV File using pandas library**"
   ]
  },
  {
   "cell_type": "code",
   "execution_count": 4,
   "metadata": {},
   "outputs": [],
   "source": [
    "df = pd.read_csv('D:\\AI\\Epsilon_Data_Science\\sessions\\Sat_Group\\Mid Project/Drug.csv')"
   ]
  },
  {
   "cell_type": "code",
   "execution_count": 5,
   "metadata": {},
   "outputs": [
    {
     "data": {
      "text/html": [
       "<div>\n",
       "<style scoped>\n",
       "    .dataframe tbody tr th:only-of-type {\n",
       "        vertical-align: middle;\n",
       "    }\n",
       "\n",
       "    .dataframe tbody tr th {\n",
       "        vertical-align: top;\n",
       "    }\n",
       "\n",
       "    .dataframe thead th {\n",
       "        text-align: right;\n",
       "    }\n",
       "</style>\n",
       "<table border=\"1\" class=\"dataframe\">\n",
       "  <thead>\n",
       "    <tr style=\"text-align: right;\">\n",
       "      <th></th>\n",
       "      <th>Condition</th>\n",
       "      <th>Drug</th>\n",
       "      <th>EaseOfUse</th>\n",
       "      <th>Effective</th>\n",
       "      <th>Form</th>\n",
       "      <th>Indication</th>\n",
       "      <th>Price</th>\n",
       "      <th>Reviews</th>\n",
       "      <th>Satisfaction</th>\n",
       "      <th>Type</th>\n",
       "    </tr>\n",
       "  </thead>\n",
       "  <tbody>\n",
       "    <tr>\n",
       "      <th>0</th>\n",
       "      <td>Acute Bacterial Sinusitis</td>\n",
       "      <td>Amoxicillin</td>\n",
       "      <td>3.852353</td>\n",
       "      <td>3.655882</td>\n",
       "      <td>Capsule</td>\n",
       "      <td>On Label</td>\n",
       "      <td>12.590000</td>\n",
       "      <td>86.294118</td>\n",
       "      <td>3.197647</td>\n",
       "      <td>RX</td>\n",
       "    </tr>\n",
       "    <tr>\n",
       "      <th>1</th>\n",
       "      <td>Acute Bacterial Sinusitis</td>\n",
       "      <td>Amoxicillin-Pot Clavulanate</td>\n",
       "      <td>3.470000</td>\n",
       "      <td>3.290000</td>\n",
       "      <td>Liquid (Drink)</td>\n",
       "      <td>Off Label</td>\n",
       "      <td>287.370000</td>\n",
       "      <td>43.000000</td>\n",
       "      <td>2.590000</td>\n",
       "      <td>RX</td>\n",
       "    </tr>\n",
       "    <tr>\n",
       "      <th>2</th>\n",
       "      <td>Acute Bacterial Sinusitis</td>\n",
       "      <td>Amoxicillin-Pot Clavulanate</td>\n",
       "      <td>3.121429</td>\n",
       "      <td>2.962857</td>\n",
       "      <td>Tablet</td>\n",
       "      <td>On Label</td>\n",
       "      <td>70.608571</td>\n",
       "      <td>267.285714</td>\n",
       "      <td>2.248571</td>\n",
       "      <td>RX</td>\n",
       "    </tr>\n",
       "    <tr>\n",
       "      <th>3</th>\n",
       "      <td>Acute Bacterial Sinusitis</td>\n",
       "      <td>Ampicillin</td>\n",
       "      <td>2.000000</td>\n",
       "      <td>3.000000</td>\n",
       "      <td>Capsule</td>\n",
       "      <td>On Label</td>\n",
       "      <td>12.590000</td>\n",
       "      <td>1.000000</td>\n",
       "      <td>1.000000</td>\n",
       "      <td>RX</td>\n",
       "    </tr>\n",
       "    <tr>\n",
       "      <th>4</th>\n",
       "      <td>Acute Bacterial Sinusitis</td>\n",
       "      <td>Ampicillin</td>\n",
       "      <td>3.250000</td>\n",
       "      <td>3.000000</td>\n",
       "      <td>Tablet</td>\n",
       "      <td>On Label</td>\n",
       "      <td>125.240000</td>\n",
       "      <td>15.000000</td>\n",
       "      <td>3.000000</td>\n",
       "      <td>RX</td>\n",
       "    </tr>\n",
       "    <tr>\n",
       "      <th>...</th>\n",
       "      <td>...</td>\n",
       "      <td>...</td>\n",
       "      <td>...</td>\n",
       "      <td>...</td>\n",
       "      <td>...</td>\n",
       "      <td>...</td>\n",
       "      <td>...</td>\n",
       "      <td>...</td>\n",
       "      <td>...</td>\n",
       "      <td>...</td>\n",
       "    </tr>\n",
       "    <tr>\n",
       "      <th>680</th>\n",
       "      <td>vulvovaginal candidiasis</td>\n",
       "      <td>Miconazole Nitrate</td>\n",
       "      <td>3.465000</td>\n",
       "      <td>2.770000</td>\n",
       "      <td>Cream</td>\n",
       "      <td>On Label</td>\n",
       "      <td>13.990000</td>\n",
       "      <td>19.500000</td>\n",
       "      <td>2.345000</td>\n",
       "      <td>RX/OTC</td>\n",
       "    </tr>\n",
       "    <tr>\n",
       "      <th>681</th>\n",
       "      <td>vulvovaginal candidiasis</td>\n",
       "      <td>Miconazole-Skin Clnsr17</td>\n",
       "      <td>4.750000</td>\n",
       "      <td>3.000000</td>\n",
       "      <td>Cream</td>\n",
       "      <td>On Label</td>\n",
       "      <td>13.990000</td>\n",
       "      <td>4.000000</td>\n",
       "      <td>3.000000</td>\n",
       "      <td>OTC</td>\n",
       "    </tr>\n",
       "    <tr>\n",
       "      <th>682</th>\n",
       "      <td>vulvovaginal candidiasis</td>\n",
       "      <td>Miconazole-Skin Clnsr17</td>\n",
       "      <td>4.000000</td>\n",
       "      <td>1.000000</td>\n",
       "      <td>Other</td>\n",
       "      <td>On Label</td>\n",
       "      <td>125.990000</td>\n",
       "      <td>1.000000</td>\n",
       "      <td>1.000000</td>\n",
       "      <td>OTC</td>\n",
       "    </tr>\n",
       "    <tr>\n",
       "      <th>683</th>\n",
       "      <td>vulvovaginal candidiasis</td>\n",
       "      <td>Terconazole</td>\n",
       "      <td>3.525000</td>\n",
       "      <td>3.047500</td>\n",
       "      <td>Cream</td>\n",
       "      <td>On Label</td>\n",
       "      <td>68.990000</td>\n",
       "      <td>20.000000</td>\n",
       "      <td>2.717500</td>\n",
       "      <td>RX</td>\n",
       "    </tr>\n",
       "    <tr>\n",
       "      <th>684</th>\n",
       "      <td>vulvovaginal candidiasis</td>\n",
       "      <td>Tioconazole</td>\n",
       "      <td>3.852500</td>\n",
       "      <td>2.022500</td>\n",
       "      <td>Other</td>\n",
       "      <td>On Label</td>\n",
       "      <td>22.990000</td>\n",
       "      <td>145.000000</td>\n",
       "      <td>1.827500</td>\n",
       "      <td>OTC</td>\n",
       "    </tr>\n",
       "  </tbody>\n",
       "</table>\n",
       "<p>685 rows × 10 columns</p>\n",
       "</div>"
      ],
      "text/plain": [
       "                     Condition                         Drug  EaseOfUse  \\\n",
       "0    Acute Bacterial Sinusitis                  Amoxicillin   3.852353   \n",
       "1    Acute Bacterial Sinusitis  Amoxicillin-Pot Clavulanate   3.470000   \n",
       "2    Acute Bacterial Sinusitis  Amoxicillin-Pot Clavulanate   3.121429   \n",
       "3    Acute Bacterial Sinusitis                   Ampicillin   2.000000   \n",
       "4    Acute Bacterial Sinusitis                   Ampicillin   3.250000   \n",
       "..                         ...                          ...        ...   \n",
       "680   vulvovaginal candidiasis           Miconazole Nitrate   3.465000   \n",
       "681   vulvovaginal candidiasis      Miconazole-Skin Clnsr17   4.750000   \n",
       "682   vulvovaginal candidiasis      Miconazole-Skin Clnsr17   4.000000   \n",
       "683   vulvovaginal candidiasis                  Terconazole   3.525000   \n",
       "684   vulvovaginal candidiasis                  Tioconazole   3.852500   \n",
       "\n",
       "     Effective            Form Indication       Price     Reviews  \\\n",
       "0     3.655882         Capsule   On Label   12.590000   86.294118   \n",
       "1     3.290000  Liquid (Drink)  Off Label  287.370000   43.000000   \n",
       "2     2.962857          Tablet   On Label   70.608571  267.285714   \n",
       "3     3.000000         Capsule   On Label   12.590000    1.000000   \n",
       "4     3.000000          Tablet   On Label  125.240000   15.000000   \n",
       "..         ...             ...        ...         ...         ...   \n",
       "680   2.770000           Cream   On Label   13.990000   19.500000   \n",
       "681   3.000000           Cream   On Label   13.990000    4.000000   \n",
       "682   1.000000           Other   On Label  125.990000    1.000000   \n",
       "683   3.047500           Cream   On Label   68.990000   20.000000   \n",
       "684   2.022500           Other   On Label   22.990000  145.000000   \n",
       "\n",
       "     Satisfaction    Type  \n",
       "0        3.197647      RX  \n",
       "1        2.590000      RX  \n",
       "2        2.248571      RX  \n",
       "3        1.000000      RX  \n",
       "4        3.000000      RX  \n",
       "..            ...     ...  \n",
       "680      2.345000  RX/OTC  \n",
       "681      3.000000     OTC  \n",
       "682      1.000000     OTC  \n",
       "683      2.717500      RX  \n",
       "684      1.827500     OTC  \n",
       "\n",
       "[685 rows x 10 columns]"
      ]
     },
     "execution_count": 5,
     "metadata": {},
     "output_type": "execute_result"
    }
   ],
   "source": [
    "df"
   ]
  },
  {
   "cell_type": "code",
   "execution_count": 17,
   "metadata": {},
   "outputs": [
    {
     "data": {
      "text/html": [
       "<div>\n",
       "<style scoped>\n",
       "    .dataframe tbody tr th:only-of-type {\n",
       "        vertical-align: middle;\n",
       "    }\n",
       "\n",
       "    .dataframe tbody tr th {\n",
       "        vertical-align: top;\n",
       "    }\n",
       "\n",
       "    .dataframe thead th {\n",
       "        text-align: right;\n",
       "    }\n",
       "</style>\n",
       "<table border=\"1\" class=\"dataframe\">\n",
       "  <thead>\n",
       "    <tr style=\"text-align: right;\">\n",
       "      <th></th>\n",
       "      <th>Condition</th>\n",
       "      <th>Drug</th>\n",
       "      <th>EaseOfUse</th>\n",
       "      <th>Effective</th>\n",
       "      <th>Form</th>\n",
       "      <th>Indication</th>\n",
       "      <th>Price</th>\n",
       "      <th>Reviews</th>\n",
       "      <th>Satisfaction</th>\n",
       "      <th>Type</th>\n",
       "    </tr>\n",
       "  </thead>\n",
       "  <tbody>\n",
       "    <tr>\n",
       "      <th>0</th>\n",
       "      <td>Acute Bacterial Sinusitis</td>\n",
       "      <td>Amoxicillin</td>\n",
       "      <td>3.852353</td>\n",
       "      <td>3.655882</td>\n",
       "      <td>Capsule</td>\n",
       "      <td>On Label</td>\n",
       "      <td>12.590000</td>\n",
       "      <td>86.294118</td>\n",
       "      <td>3.197647</td>\n",
       "      <td>RX</td>\n",
       "    </tr>\n",
       "    <tr>\n",
       "      <th>1</th>\n",
       "      <td>Acute Bacterial Sinusitis</td>\n",
       "      <td>Amoxicillin-Pot Clavulanate</td>\n",
       "      <td>3.470000</td>\n",
       "      <td>3.290000</td>\n",
       "      <td>Liquid (Drink)</td>\n",
       "      <td>Off Label</td>\n",
       "      <td>287.370000</td>\n",
       "      <td>43.000000</td>\n",
       "      <td>2.590000</td>\n",
       "      <td>RX</td>\n",
       "    </tr>\n",
       "    <tr>\n",
       "      <th>2</th>\n",
       "      <td>Acute Bacterial Sinusitis</td>\n",
       "      <td>Amoxicillin-Pot Clavulanate</td>\n",
       "      <td>3.121429</td>\n",
       "      <td>2.962857</td>\n",
       "      <td>Tablet</td>\n",
       "      <td>On Label</td>\n",
       "      <td>70.608571</td>\n",
       "      <td>267.285714</td>\n",
       "      <td>2.248571</td>\n",
       "      <td>RX</td>\n",
       "    </tr>\n",
       "    <tr>\n",
       "      <th>3</th>\n",
       "      <td>Acute Bacterial Sinusitis</td>\n",
       "      <td>Ampicillin</td>\n",
       "      <td>2.000000</td>\n",
       "      <td>3.000000</td>\n",
       "      <td>Capsule</td>\n",
       "      <td>On Label</td>\n",
       "      <td>12.590000</td>\n",
       "      <td>1.000000</td>\n",
       "      <td>1.000000</td>\n",
       "      <td>RX</td>\n",
       "    </tr>\n",
       "    <tr>\n",
       "      <th>4</th>\n",
       "      <td>Acute Bacterial Sinusitis</td>\n",
       "      <td>Ampicillin</td>\n",
       "      <td>3.250000</td>\n",
       "      <td>3.000000</td>\n",
       "      <td>Tablet</td>\n",
       "      <td>On Label</td>\n",
       "      <td>125.240000</td>\n",
       "      <td>15.000000</td>\n",
       "      <td>3.000000</td>\n",
       "      <td>RX</td>\n",
       "    </tr>\n",
       "    <tr>\n",
       "      <th>5</th>\n",
       "      <td>Acute Bacterial Sinusitis</td>\n",
       "      <td>Ampicillin Sodium</td>\n",
       "      <td>3.000000</td>\n",
       "      <td>3.000000</td>\n",
       "      <td>Tablet</td>\n",
       "      <td>Off Label</td>\n",
       "      <td>143.215000</td>\n",
       "      <td>1.000000</td>\n",
       "      <td>3.000000</td>\n",
       "      <td>RX</td>\n",
       "    </tr>\n",
       "    <tr>\n",
       "      <th>6</th>\n",
       "      <td>Acute Bacterial Sinusitis</td>\n",
       "      <td>Azithromycin</td>\n",
       "      <td>4.091667</td>\n",
       "      <td>3.341667</td>\n",
       "      <td>Tablet</td>\n",
       "      <td>On Label</td>\n",
       "      <td>32.100000</td>\n",
       "      <td>490.000000</td>\n",
       "      <td>2.758333</td>\n",
       "      <td>RX</td>\n",
       "    </tr>\n",
       "    <tr>\n",
       "      <th>7</th>\n",
       "      <td>Acute Bacterial Sinusitis</td>\n",
       "      <td>Clarithromycin</td>\n",
       "      <td>3.582000</td>\n",
       "      <td>3.458000</td>\n",
       "      <td>Tablet</td>\n",
       "      <td>On Label</td>\n",
       "      <td>99.490000</td>\n",
       "      <td>141.600000</td>\n",
       "      <td>2.780000</td>\n",
       "      <td>RX</td>\n",
       "    </tr>\n",
       "    <tr>\n",
       "      <th>8</th>\n",
       "      <td>Acute Bacterial Sinusitis</td>\n",
       "      <td>Erythromycin</td>\n",
       "      <td>2.895000</td>\n",
       "      <td>3.255000</td>\n",
       "      <td>Tablet</td>\n",
       "      <td>On Label</td>\n",
       "      <td>125.240000</td>\n",
       "      <td>41.000000</td>\n",
       "      <td>2.510000</td>\n",
       "      <td>RX</td>\n",
       "    </tr>\n",
       "    <tr>\n",
       "      <th>9</th>\n",
       "      <td>Acute Bacterial Sinusitis</td>\n",
       "      <td>Erythromycin Ethylsuccinate</td>\n",
       "      <td>2.944444</td>\n",
       "      <td>3.277778</td>\n",
       "      <td>Liquid (Drink)</td>\n",
       "      <td>On Label</td>\n",
       "      <td>332.630000</td>\n",
       "      <td>3.666667</td>\n",
       "      <td>3.222222</td>\n",
       "      <td>RX</td>\n",
       "    </tr>\n",
       "  </tbody>\n",
       "</table>\n",
       "</div>"
      ],
      "text/plain": [
       "                   Condition                         Drug  EaseOfUse  \\\n",
       "0  Acute Bacterial Sinusitis                  Amoxicillin   3.852353   \n",
       "1  Acute Bacterial Sinusitis  Amoxicillin-Pot Clavulanate   3.470000   \n",
       "2  Acute Bacterial Sinusitis  Amoxicillin-Pot Clavulanate   3.121429   \n",
       "3  Acute Bacterial Sinusitis                   Ampicillin   2.000000   \n",
       "4  Acute Bacterial Sinusitis                   Ampicillin   3.250000   \n",
       "5  Acute Bacterial Sinusitis            Ampicillin Sodium   3.000000   \n",
       "6  Acute Bacterial Sinusitis                 Azithromycin   4.091667   \n",
       "7  Acute Bacterial Sinusitis               Clarithromycin   3.582000   \n",
       "8  Acute Bacterial Sinusitis                 Erythromycin   2.895000   \n",
       "9  Acute Bacterial Sinusitis  Erythromycin Ethylsuccinate   2.944444   \n",
       "\n",
       "   Effective            Form Indication       Price     Reviews  Satisfaction  \\\n",
       "0   3.655882         Capsule   On Label   12.590000   86.294118      3.197647   \n",
       "1   3.290000  Liquid (Drink)  Off Label  287.370000   43.000000      2.590000   \n",
       "2   2.962857          Tablet   On Label   70.608571  267.285714      2.248571   \n",
       "3   3.000000         Capsule   On Label   12.590000    1.000000      1.000000   \n",
       "4   3.000000          Tablet   On Label  125.240000   15.000000      3.000000   \n",
       "5   3.000000          Tablet  Off Label  143.215000    1.000000      3.000000   \n",
       "6   3.341667          Tablet   On Label   32.100000  490.000000      2.758333   \n",
       "7   3.458000          Tablet   On Label   99.490000  141.600000      2.780000   \n",
       "8   3.255000          Tablet   On Label  125.240000   41.000000      2.510000   \n",
       "9   3.277778  Liquid (Drink)   On Label  332.630000    3.666667      3.222222   \n",
       "\n",
       "  Type  \n",
       "0   RX  \n",
       "1   RX  \n",
       "2   RX  \n",
       "3   RX  \n",
       "4   RX  \n",
       "5   RX  \n",
       "6   RX  \n",
       "7   RX  \n",
       "8   RX  \n",
       "9   RX  "
      ]
     },
     "execution_count": 17,
     "metadata": {},
     "output_type": "execute_result"
    }
   ],
   "source": [
    "df.head(10)"
   ]
  },
  {
   "cell_type": "code",
   "execution_count": 18,
   "metadata": {},
   "outputs": [
    {
     "data": {
      "text/html": [
       "<div>\n",
       "<style scoped>\n",
       "    .dataframe tbody tr th:only-of-type {\n",
       "        vertical-align: middle;\n",
       "    }\n",
       "\n",
       "    .dataframe tbody tr th {\n",
       "        vertical-align: top;\n",
       "    }\n",
       "\n",
       "    .dataframe thead th {\n",
       "        text-align: right;\n",
       "    }\n",
       "</style>\n",
       "<table border=\"1\" class=\"dataframe\">\n",
       "  <thead>\n",
       "    <tr style=\"text-align: right;\">\n",
       "      <th></th>\n",
       "      <th>Condition</th>\n",
       "      <th>Drug</th>\n",
       "      <th>EaseOfUse</th>\n",
       "      <th>Effective</th>\n",
       "      <th>Form</th>\n",
       "      <th>Indication</th>\n",
       "      <th>Price</th>\n",
       "      <th>Reviews</th>\n",
       "      <th>Satisfaction</th>\n",
       "      <th>Type</th>\n",
       "    </tr>\n",
       "  </thead>\n",
       "  <tbody>\n",
       "    <tr>\n",
       "      <th>675</th>\n",
       "      <td>vulvovaginal candidiasis</td>\n",
       "      <td>Butoconazole Nitrate</td>\n",
       "      <td>5.000000</td>\n",
       "      <td>5.000000</td>\n",
       "      <td>Other</td>\n",
       "      <td>On Label</td>\n",
       "      <td>125.99</td>\n",
       "      <td>1.000000</td>\n",
       "      <td>5.000000</td>\n",
       "      <td>OTC</td>\n",
       "    </tr>\n",
       "    <tr>\n",
       "      <th>676</th>\n",
       "      <td>vulvovaginal candidiasis</td>\n",
       "      <td>Butoconazole Nitrate</td>\n",
       "      <td>5.000000</td>\n",
       "      <td>5.000000</td>\n",
       "      <td>Other</td>\n",
       "      <td>On Label</td>\n",
       "      <td>125.99</td>\n",
       "      <td>1.000000</td>\n",
       "      <td>5.000000</td>\n",
       "      <td>RX</td>\n",
       "    </tr>\n",
       "    <tr>\n",
       "      <th>677</th>\n",
       "      <td>vulvovaginal candidiasis</td>\n",
       "      <td>Clotrimazole</td>\n",
       "      <td>4.625000</td>\n",
       "      <td>4.750000</td>\n",
       "      <td>Cream</td>\n",
       "      <td>On Label</td>\n",
       "      <td>25.63</td>\n",
       "      <td>1.750000</td>\n",
       "      <td>4.750000</td>\n",
       "      <td>OTC</td>\n",
       "    </tr>\n",
       "    <tr>\n",
       "      <th>678</th>\n",
       "      <td>vulvovaginal candidiasis</td>\n",
       "      <td>Fluconazole</td>\n",
       "      <td>4.415000</td>\n",
       "      <td>3.600000</td>\n",
       "      <td>Tablet</td>\n",
       "      <td>On Label</td>\n",
       "      <td>17.99</td>\n",
       "      <td>196.500000</td>\n",
       "      <td>3.220000</td>\n",
       "      <td>RX</td>\n",
       "    </tr>\n",
       "    <tr>\n",
       "      <th>679</th>\n",
       "      <td>vulvovaginal candidiasis</td>\n",
       "      <td>Miconazole Nitrate</td>\n",
       "      <td>3.575714</td>\n",
       "      <td>2.708571</td>\n",
       "      <td>Cream</td>\n",
       "      <td>On Label</td>\n",
       "      <td>13.99</td>\n",
       "      <td>63.142857</td>\n",
       "      <td>2.192857</td>\n",
       "      <td>OTC</td>\n",
       "    </tr>\n",
       "    <tr>\n",
       "      <th>680</th>\n",
       "      <td>vulvovaginal candidiasis</td>\n",
       "      <td>Miconazole Nitrate</td>\n",
       "      <td>3.465000</td>\n",
       "      <td>2.770000</td>\n",
       "      <td>Cream</td>\n",
       "      <td>On Label</td>\n",
       "      <td>13.99</td>\n",
       "      <td>19.500000</td>\n",
       "      <td>2.345000</td>\n",
       "      <td>RX/OTC</td>\n",
       "    </tr>\n",
       "    <tr>\n",
       "      <th>681</th>\n",
       "      <td>vulvovaginal candidiasis</td>\n",
       "      <td>Miconazole-Skin Clnsr17</td>\n",
       "      <td>4.750000</td>\n",
       "      <td>3.000000</td>\n",
       "      <td>Cream</td>\n",
       "      <td>On Label</td>\n",
       "      <td>13.99</td>\n",
       "      <td>4.000000</td>\n",
       "      <td>3.000000</td>\n",
       "      <td>OTC</td>\n",
       "    </tr>\n",
       "    <tr>\n",
       "      <th>682</th>\n",
       "      <td>vulvovaginal candidiasis</td>\n",
       "      <td>Miconazole-Skin Clnsr17</td>\n",
       "      <td>4.000000</td>\n",
       "      <td>1.000000</td>\n",
       "      <td>Other</td>\n",
       "      <td>On Label</td>\n",
       "      <td>125.99</td>\n",
       "      <td>1.000000</td>\n",
       "      <td>1.000000</td>\n",
       "      <td>OTC</td>\n",
       "    </tr>\n",
       "    <tr>\n",
       "      <th>683</th>\n",
       "      <td>vulvovaginal candidiasis</td>\n",
       "      <td>Terconazole</td>\n",
       "      <td>3.525000</td>\n",
       "      <td>3.047500</td>\n",
       "      <td>Cream</td>\n",
       "      <td>On Label</td>\n",
       "      <td>68.99</td>\n",
       "      <td>20.000000</td>\n",
       "      <td>2.717500</td>\n",
       "      <td>RX</td>\n",
       "    </tr>\n",
       "    <tr>\n",
       "      <th>684</th>\n",
       "      <td>vulvovaginal candidiasis</td>\n",
       "      <td>Tioconazole</td>\n",
       "      <td>3.852500</td>\n",
       "      <td>2.022500</td>\n",
       "      <td>Other</td>\n",
       "      <td>On Label</td>\n",
       "      <td>22.99</td>\n",
       "      <td>145.000000</td>\n",
       "      <td>1.827500</td>\n",
       "      <td>OTC</td>\n",
       "    </tr>\n",
       "  </tbody>\n",
       "</table>\n",
       "</div>"
      ],
      "text/plain": [
       "                    Condition                     Drug  EaseOfUse  Effective  \\\n",
       "675  vulvovaginal candidiasis     Butoconazole Nitrate   5.000000   5.000000   \n",
       "676  vulvovaginal candidiasis     Butoconazole Nitrate   5.000000   5.000000   \n",
       "677  vulvovaginal candidiasis             Clotrimazole   4.625000   4.750000   \n",
       "678  vulvovaginal candidiasis              Fluconazole   4.415000   3.600000   \n",
       "679  vulvovaginal candidiasis       Miconazole Nitrate   3.575714   2.708571   \n",
       "680  vulvovaginal candidiasis       Miconazole Nitrate   3.465000   2.770000   \n",
       "681  vulvovaginal candidiasis  Miconazole-Skin Clnsr17   4.750000   3.000000   \n",
       "682  vulvovaginal candidiasis  Miconazole-Skin Clnsr17   4.000000   1.000000   \n",
       "683  vulvovaginal candidiasis              Terconazole   3.525000   3.047500   \n",
       "684  vulvovaginal candidiasis              Tioconazole   3.852500   2.022500   \n",
       "\n",
       "       Form Indication   Price     Reviews  Satisfaction    Type  \n",
       "675   Other   On Label  125.99    1.000000      5.000000     OTC  \n",
       "676   Other   On Label  125.99    1.000000      5.000000      RX  \n",
       "677   Cream   On Label   25.63    1.750000      4.750000     OTC  \n",
       "678  Tablet   On Label   17.99  196.500000      3.220000      RX  \n",
       "679   Cream   On Label   13.99   63.142857      2.192857     OTC  \n",
       "680   Cream   On Label   13.99   19.500000      2.345000  RX/OTC  \n",
       "681   Cream   On Label   13.99    4.000000      3.000000     OTC  \n",
       "682   Other   On Label  125.99    1.000000      1.000000     OTC  \n",
       "683   Cream   On Label   68.99   20.000000      2.717500      RX  \n",
       "684   Other   On Label   22.99  145.000000      1.827500     OTC  "
      ]
     },
     "execution_count": 18,
     "metadata": {},
     "output_type": "execute_result"
    }
   ],
   "source": [
    "df.tail(10)"
   ]
  },
  {
   "cell_type": "code",
   "execution_count": 20,
   "metadata": {},
   "outputs": [
    {
     "data": {
      "text/plain": [
       "Index(['Condition', 'Drug', 'EaseOfUse', 'Effective', 'Form', 'Indication',\n",
       "       'Price', 'Reviews', 'Satisfaction', 'Type'],\n",
       "      dtype='object')"
      ]
     },
     "execution_count": 20,
     "metadata": {},
     "output_type": "execute_result"
    }
   ],
   "source": [
    "df.columns"
   ]
  },
  {
   "cell_type": "markdown",
   "metadata": {},
   "source": [
    "**Make some corrections for the column names**"
   ]
  },
  {
   "cell_type": "code",
   "execution_count": 23,
   "metadata": {},
   "outputs": [],
   "source": [
    "df = df.rename(columns = {'Drug':'Generic_Name','EaseOfUse':'Ease_Of_Use', 'Type':'Prescription_Type', 'Effective': 'Effectiveness'})"
   ]
  },
  {
   "cell_type": "code",
   "execution_count": 69,
   "metadata": {},
   "outputs": [],
   "source": [
    "df = df.rename(columns = {'Form':'Dosage_Form'})"
   ]
  },
  {
   "cell_type": "code",
   "execution_count": 70,
   "metadata": {},
   "outputs": [
    {
     "data": {
      "text/plain": [
       "Index(['Condition', 'Generic_Name', 'Ease_Of_Use', 'Effectiveness',\n",
       "       'Dosage_Form', 'Indication', 'Price', 'Reviews', 'Satisfaction',\n",
       "       'Prescription_Type'],\n",
       "      dtype='object')"
      ]
     },
     "execution_count": 70,
     "metadata": {},
     "output_type": "execute_result"
    }
   ],
   "source": [
    "df.columns"
   ]
  },
  {
   "cell_type": "markdown",
   "metadata": {},
   "source": [
    "**Checking for NA Values**"
   ]
  },
  {
   "cell_type": "code",
   "execution_count": 26,
   "metadata": {},
   "outputs": [
    {
     "data": {
      "text/plain": [
       "Condition            0\n",
       "Generic_Name         0\n",
       "Ease_Of_Use          0\n",
       "Effectiveness        0\n",
       "Form                 0\n",
       "Indication           0\n",
       "Price                0\n",
       "Reviews              0\n",
       "Satisfaction         0\n",
       "Prescription_Type    0\n",
       "dtype: int64"
      ]
     },
     "execution_count": 26,
     "metadata": {},
     "output_type": "execute_result"
    }
   ],
   "source": [
    "df.isna().sum()"
   ]
  },
  {
   "cell_type": "code",
   "execution_count": 79,
   "metadata": {},
   "outputs": [
    {
     "data": {
      "text/plain": [
       "Condition             object\n",
       "Generic_Name          object\n",
       "Ease_Of_Use          float64\n",
       "Effectiveness        float64\n",
       "Dosage_Form           object\n",
       "Indication            object\n",
       "Price                float64\n",
       "Reviews              float64\n",
       "Satisfaction         float64\n",
       "Prescription_Type     object\n",
       "dtype: object"
      ]
     },
     "execution_count": 79,
     "metadata": {},
     "output_type": "execute_result"
    }
   ],
   "source": [
    "df.dtypes"
   ]
  },
  {
   "cell_type": "markdown",
   "metadata": {},
   "source": [
    "**It looks good, so we will start going deeply to the data**"
   ]
  },
  {
   "cell_type": "code",
   "execution_count": 27,
   "metadata": {},
   "outputs": [
    {
     "data": {
      "text/html": [
       "<div>\n",
       "<style scoped>\n",
       "    .dataframe tbody tr th:only-of-type {\n",
       "        vertical-align: middle;\n",
       "    }\n",
       "\n",
       "    .dataframe tbody tr th {\n",
       "        vertical-align: top;\n",
       "    }\n",
       "\n",
       "    .dataframe thead th {\n",
       "        text-align: right;\n",
       "    }\n",
       "</style>\n",
       "<table border=\"1\" class=\"dataframe\">\n",
       "  <thead>\n",
       "    <tr style=\"text-align: right;\">\n",
       "      <th></th>\n",
       "      <th>Condition</th>\n",
       "      <th>Generic_Name</th>\n",
       "      <th>Ease_Of_Use</th>\n",
       "      <th>Effectiveness</th>\n",
       "      <th>Form</th>\n",
       "      <th>Indication</th>\n",
       "      <th>Price</th>\n",
       "      <th>Reviews</th>\n",
       "      <th>Satisfaction</th>\n",
       "      <th>Prescription_Type</th>\n",
       "    </tr>\n",
       "  </thead>\n",
       "  <tbody>\n",
       "    <tr>\n",
       "      <th>0</th>\n",
       "      <td>Acute Bacterial Sinusitis</td>\n",
       "      <td>Amoxicillin</td>\n",
       "      <td>3.852353</td>\n",
       "      <td>3.655882</td>\n",
       "      <td>Capsule</td>\n",
       "      <td>On Label</td>\n",
       "      <td>12.590000</td>\n",
       "      <td>86.294118</td>\n",
       "      <td>3.197647</td>\n",
       "      <td>RX</td>\n",
       "    </tr>\n",
       "    <tr>\n",
       "      <th>1</th>\n",
       "      <td>Acute Bacterial Sinusitis</td>\n",
       "      <td>Amoxicillin-Pot Clavulanate</td>\n",
       "      <td>3.470000</td>\n",
       "      <td>3.290000</td>\n",
       "      <td>Liquid (Drink)</td>\n",
       "      <td>Off Label</td>\n",
       "      <td>287.370000</td>\n",
       "      <td>43.000000</td>\n",
       "      <td>2.590000</td>\n",
       "      <td>RX</td>\n",
       "    </tr>\n",
       "    <tr>\n",
       "      <th>2</th>\n",
       "      <td>Acute Bacterial Sinusitis</td>\n",
       "      <td>Amoxicillin-Pot Clavulanate</td>\n",
       "      <td>3.121429</td>\n",
       "      <td>2.962857</td>\n",
       "      <td>Tablet</td>\n",
       "      <td>On Label</td>\n",
       "      <td>70.608571</td>\n",
       "      <td>267.285714</td>\n",
       "      <td>2.248571</td>\n",
       "      <td>RX</td>\n",
       "    </tr>\n",
       "    <tr>\n",
       "      <th>3</th>\n",
       "      <td>Acute Bacterial Sinusitis</td>\n",
       "      <td>Ampicillin</td>\n",
       "      <td>2.000000</td>\n",
       "      <td>3.000000</td>\n",
       "      <td>Capsule</td>\n",
       "      <td>On Label</td>\n",
       "      <td>12.590000</td>\n",
       "      <td>1.000000</td>\n",
       "      <td>1.000000</td>\n",
       "      <td>RX</td>\n",
       "    </tr>\n",
       "    <tr>\n",
       "      <th>4</th>\n",
       "      <td>Acute Bacterial Sinusitis</td>\n",
       "      <td>Ampicillin</td>\n",
       "      <td>3.250000</td>\n",
       "      <td>3.000000</td>\n",
       "      <td>Tablet</td>\n",
       "      <td>On Label</td>\n",
       "      <td>125.240000</td>\n",
       "      <td>15.000000</td>\n",
       "      <td>3.000000</td>\n",
       "      <td>RX</td>\n",
       "    </tr>\n",
       "  </tbody>\n",
       "</table>\n",
       "</div>"
      ],
      "text/plain": [
       "                   Condition                 Generic_Name  Ease_Of_Use  \\\n",
       "0  Acute Bacterial Sinusitis                  Amoxicillin     3.852353   \n",
       "1  Acute Bacterial Sinusitis  Amoxicillin-Pot Clavulanate     3.470000   \n",
       "2  Acute Bacterial Sinusitis  Amoxicillin-Pot Clavulanate     3.121429   \n",
       "3  Acute Bacterial Sinusitis                   Ampicillin     2.000000   \n",
       "4  Acute Bacterial Sinusitis                   Ampicillin     3.250000   \n",
       "\n",
       "   Effectiveness            Form Indication       Price     Reviews  \\\n",
       "0       3.655882         Capsule   On Label   12.590000   86.294118   \n",
       "1       3.290000  Liquid (Drink)  Off Label  287.370000   43.000000   \n",
       "2       2.962857          Tablet   On Label   70.608571  267.285714   \n",
       "3       3.000000         Capsule   On Label   12.590000    1.000000   \n",
       "4       3.000000          Tablet   On Label  125.240000   15.000000   \n",
       "\n",
       "   Satisfaction Prescription_Type  \n",
       "0      3.197647                RX  \n",
       "1      2.590000                RX  \n",
       "2      2.248571                RX  \n",
       "3      1.000000                RX  \n",
       "4      3.000000                RX  "
      ]
     },
     "execution_count": 27,
     "metadata": {},
     "output_type": "execute_result"
    }
   ],
   "source": [
    "df.head()"
   ]
  },
  {
   "cell_type": "code",
   "execution_count": 36,
   "metadata": {},
   "outputs": [
    {
     "data": {
      "text/plain": [
       "RX        484\n",
       "OTC       168\n",
       "RX/OTC     28\n",
       "\\r\\r\\n      5\n",
       "Name: Prescription_Type, dtype: int64"
      ]
     },
     "execution_count": 36,
     "metadata": {},
     "output_type": "execute_result"
    }
   ],
   "source": [
    "df['Prescription_Type'].value_counts()"
   ]
  },
  {
   "cell_type": "markdown",
   "metadata": {},
   "source": [
    "**There is a strange value (\\r\\r\\n ), so I updated to unkown**"
   ]
  },
  {
   "cell_type": "code",
   "execution_count": 41,
   "metadata": {},
   "outputs": [],
   "source": [
    "df['Prescription_Type']=df['Prescription_Type'].replace(['\\r\\r\\n'],['Unkown'])"
   ]
  },
  {
   "cell_type": "code",
   "execution_count": 42,
   "metadata": {},
   "outputs": [
    {
     "data": {
      "text/plain": [
       "RX        484\n",
       "OTC       168\n",
       "RX/OTC     28\n",
       "Unkown      5\n",
       "Name: Prescription_Type, dtype: int64"
      ]
     },
     "execution_count": 42,
     "metadata": {},
     "output_type": "execute_result"
    }
   ],
   "source": [
    "df['Prescription_Type'].value_counts()"
   ]
  },
  {
   "cell_type": "code",
   "execution_count": 55,
   "metadata": {},
   "outputs": [
    {
     "data": {
      "text/plain": [
       "On Label     548\n",
       "Off Label    129\n",
       "\\r\\r\\n         8\n",
       "Name: Indication, dtype: int64"
      ]
     },
     "execution_count": 55,
     "metadata": {},
     "output_type": "execute_result"
    }
   ],
   "source": [
    "df['Indication'].value_counts()"
   ]
  },
  {
   "cell_type": "code",
   "execution_count": 56,
   "metadata": {},
   "outputs": [],
   "source": [
    "df['Indication']=df['Indication'].replace(['\\r\\r\\n'],['Unkown'])"
   ]
  },
  {
   "cell_type": "code",
   "execution_count": 57,
   "metadata": {},
   "outputs": [
    {
     "data": {
      "text/plain": [
       "On Label     548\n",
       "Off Label    129\n",
       "Unkown         8\n",
       "Name: Indication, dtype: int64"
      ]
     },
     "execution_count": 57,
     "metadata": {},
     "output_type": "execute_result"
    }
   ],
   "source": [
    "df['Indication'].value_counts()"
   ]
  },
  {
   "cell_type": "markdown",
   "metadata": {},
   "source": [
    "**Round the float values to one decimal place**"
   ]
  },
  {
   "cell_type": "code",
   "execution_count": 44,
   "metadata": {},
   "outputs": [],
   "source": [
    "df['Satisfaction']=df['Satisfaction'].round(1)"
   ]
  },
  {
   "cell_type": "code",
   "execution_count": 48,
   "metadata": {},
   "outputs": [],
   "source": [
    "df['Ease_Of_Use']=df['Ease_Of_Use'].round(1)"
   ]
  },
  {
   "cell_type": "code",
   "execution_count": 50,
   "metadata": {},
   "outputs": [],
   "source": [
    "df['Price']=df['Price'].round(1)"
   ]
  },
  {
   "cell_type": "code",
   "execution_count": 51,
   "metadata": {},
   "outputs": [],
   "source": [
    "df['Reviews']=df['Reviews'].round(1)"
   ]
  },
  {
   "cell_type": "markdown",
   "metadata": {},
   "source": [
    "**Convert lower cases to upper cases**"
   ]
  },
  {
   "cell_type": "code",
   "execution_count": 65,
   "metadata": {},
   "outputs": [],
   "source": [
    "df['Condition']=df['Condition'].str.title()"
   ]
  },
  {
   "cell_type": "code",
   "execution_count": 71,
   "metadata": {},
   "outputs": [
    {
     "data": {
      "text/plain": [
       "Tablet             300\n",
       "Liquid (Drink)     119\n",
       "Cream               90\n",
       "Capsule             73\n",
       "Liquid (Inject)     57\n",
       "Other               46\n",
       "Name: Dosage_Form, dtype: int64"
      ]
     },
     "execution_count": 71,
     "metadata": {},
     "output_type": "execute_result"
    }
   ],
   "source": [
    "df['Dosage_Form'].value_counts()"
   ]
  },
  {
   "cell_type": "code",
   "execution_count": 72,
   "metadata": {},
   "outputs": [],
   "source": [
    "df['Dosage_Form']=df['Dosage_Form'].replace(['Liquid (Inject)'],['Injection'])"
   ]
  },
  {
   "cell_type": "code",
   "execution_count": 73,
   "metadata": {},
   "outputs": [
    {
     "data": {
      "text/plain": [
       "Tablet            300\n",
       "Liquid (Drink)    119\n",
       "Cream              90\n",
       "Capsule            73\n",
       "Injection          57\n",
       "Other              46\n",
       "Name: Dosage_Form, dtype: int64"
      ]
     },
     "execution_count": 73,
     "metadata": {},
     "output_type": "execute_result"
    }
   ],
   "source": [
    "df['Dosage_Form'].value_counts()"
   ]
  },
  {
   "cell_type": "markdown",
   "metadata": {},
   "source": [
    "**Now, the data is almost clean, so can we recognize some analytical facts?**"
   ]
  },
  {
   "cell_type": "code",
   "execution_count": 80,
   "metadata": {},
   "outputs": [
    {
     "data": {
      "text/html": [
       "<div>\n",
       "<style scoped>\n",
       "    .dataframe tbody tr th:only-of-type {\n",
       "        vertical-align: middle;\n",
       "    }\n",
       "\n",
       "    .dataframe tbody tr th {\n",
       "        vertical-align: top;\n",
       "    }\n",
       "\n",
       "    .dataframe thead th {\n",
       "        text-align: right;\n",
       "    }\n",
       "</style>\n",
       "<table border=\"1\" class=\"dataframe\">\n",
       "  <thead>\n",
       "    <tr style=\"text-align: right;\">\n",
       "      <th></th>\n",
       "      <th>Condition</th>\n",
       "      <th>Generic_Name</th>\n",
       "      <th>Ease_Of_Use</th>\n",
       "      <th>Effectiveness</th>\n",
       "      <th>Dosage_Form</th>\n",
       "      <th>Indication</th>\n",
       "      <th>Price</th>\n",
       "      <th>Reviews</th>\n",
       "      <th>Satisfaction</th>\n",
       "      <th>Prescription_Type</th>\n",
       "    </tr>\n",
       "  </thead>\n",
       "  <tbody>\n",
       "    <tr>\n",
       "      <th>0</th>\n",
       "      <td>Acute Bacterial Sinusitis</td>\n",
       "      <td>Amoxicillin</td>\n",
       "      <td>3.9</td>\n",
       "      <td>3.7</td>\n",
       "      <td>Capsule</td>\n",
       "      <td>On Label</td>\n",
       "      <td>12.6</td>\n",
       "      <td>86.3</td>\n",
       "      <td>3.2</td>\n",
       "      <td>RX</td>\n",
       "    </tr>\n",
       "    <tr>\n",
       "      <th>1</th>\n",
       "      <td>Acute Bacterial Sinusitis</td>\n",
       "      <td>Amoxicillin-Pot Clavulanate</td>\n",
       "      <td>3.5</td>\n",
       "      <td>3.3</td>\n",
       "      <td>Liquid (Drink)</td>\n",
       "      <td>Off Label</td>\n",
       "      <td>287.4</td>\n",
       "      <td>43.0</td>\n",
       "      <td>2.6</td>\n",
       "      <td>RX</td>\n",
       "    </tr>\n",
       "    <tr>\n",
       "      <th>2</th>\n",
       "      <td>Acute Bacterial Sinusitis</td>\n",
       "      <td>Amoxicillin-Pot Clavulanate</td>\n",
       "      <td>3.1</td>\n",
       "      <td>3.0</td>\n",
       "      <td>Tablet</td>\n",
       "      <td>On Label</td>\n",
       "      <td>70.6</td>\n",
       "      <td>267.3</td>\n",
       "      <td>2.2</td>\n",
       "      <td>RX</td>\n",
       "    </tr>\n",
       "    <tr>\n",
       "      <th>3</th>\n",
       "      <td>Acute Bacterial Sinusitis</td>\n",
       "      <td>Ampicillin</td>\n",
       "      <td>2.0</td>\n",
       "      <td>3.0</td>\n",
       "      <td>Capsule</td>\n",
       "      <td>On Label</td>\n",
       "      <td>12.6</td>\n",
       "      <td>1.0</td>\n",
       "      <td>1.0</td>\n",
       "      <td>RX</td>\n",
       "    </tr>\n",
       "    <tr>\n",
       "      <th>4</th>\n",
       "      <td>Acute Bacterial Sinusitis</td>\n",
       "      <td>Ampicillin</td>\n",
       "      <td>3.2</td>\n",
       "      <td>3.0</td>\n",
       "      <td>Tablet</td>\n",
       "      <td>On Label</td>\n",
       "      <td>125.2</td>\n",
       "      <td>15.0</td>\n",
       "      <td>3.0</td>\n",
       "      <td>RX</td>\n",
       "    </tr>\n",
       "    <tr>\n",
       "      <th>5</th>\n",
       "      <td>Acute Bacterial Sinusitis</td>\n",
       "      <td>Ampicillin Sodium</td>\n",
       "      <td>3.0</td>\n",
       "      <td>3.0</td>\n",
       "      <td>Tablet</td>\n",
       "      <td>Off Label</td>\n",
       "      <td>143.2</td>\n",
       "      <td>1.0</td>\n",
       "      <td>3.0</td>\n",
       "      <td>RX</td>\n",
       "    </tr>\n",
       "    <tr>\n",
       "      <th>6</th>\n",
       "      <td>Acute Bacterial Sinusitis</td>\n",
       "      <td>Azithromycin</td>\n",
       "      <td>4.1</td>\n",
       "      <td>3.3</td>\n",
       "      <td>Tablet</td>\n",
       "      <td>On Label</td>\n",
       "      <td>32.1</td>\n",
       "      <td>490.0</td>\n",
       "      <td>2.8</td>\n",
       "      <td>RX</td>\n",
       "    </tr>\n",
       "    <tr>\n",
       "      <th>7</th>\n",
       "      <td>Acute Bacterial Sinusitis</td>\n",
       "      <td>Clarithromycin</td>\n",
       "      <td>3.6</td>\n",
       "      <td>3.5</td>\n",
       "      <td>Tablet</td>\n",
       "      <td>On Label</td>\n",
       "      <td>99.5</td>\n",
       "      <td>141.6</td>\n",
       "      <td>2.8</td>\n",
       "      <td>RX</td>\n",
       "    </tr>\n",
       "    <tr>\n",
       "      <th>8</th>\n",
       "      <td>Acute Bacterial Sinusitis</td>\n",
       "      <td>Erythromycin</td>\n",
       "      <td>2.9</td>\n",
       "      <td>3.3</td>\n",
       "      <td>Tablet</td>\n",
       "      <td>On Label</td>\n",
       "      <td>125.2</td>\n",
       "      <td>41.0</td>\n",
       "      <td>2.5</td>\n",
       "      <td>RX</td>\n",
       "    </tr>\n",
       "    <tr>\n",
       "      <th>9</th>\n",
       "      <td>Acute Bacterial Sinusitis</td>\n",
       "      <td>Erythromycin Ethylsuccinate</td>\n",
       "      <td>2.9</td>\n",
       "      <td>3.3</td>\n",
       "      <td>Liquid (Drink)</td>\n",
       "      <td>On Label</td>\n",
       "      <td>332.6</td>\n",
       "      <td>3.7</td>\n",
       "      <td>3.2</td>\n",
       "      <td>RX</td>\n",
       "    </tr>\n",
       "  </tbody>\n",
       "</table>\n",
       "</div>"
      ],
      "text/plain": [
       "                   Condition                 Generic_Name  Ease_Of_Use  \\\n",
       "0  Acute Bacterial Sinusitis                  Amoxicillin          3.9   \n",
       "1  Acute Bacterial Sinusitis  Amoxicillin-Pot Clavulanate          3.5   \n",
       "2  Acute Bacterial Sinusitis  Amoxicillin-Pot Clavulanate          3.1   \n",
       "3  Acute Bacterial Sinusitis                   Ampicillin          2.0   \n",
       "4  Acute Bacterial Sinusitis                   Ampicillin          3.2   \n",
       "5  Acute Bacterial Sinusitis            Ampicillin Sodium          3.0   \n",
       "6  Acute Bacterial Sinusitis                 Azithromycin          4.1   \n",
       "7  Acute Bacterial Sinusitis               Clarithromycin          3.6   \n",
       "8  Acute Bacterial Sinusitis                 Erythromycin          2.9   \n",
       "9  Acute Bacterial Sinusitis  Erythromycin Ethylsuccinate          2.9   \n",
       "\n",
       "   Effectiveness     Dosage_Form Indication  Price  Reviews  Satisfaction  \\\n",
       "0            3.7         Capsule   On Label   12.6     86.3           3.2   \n",
       "1            3.3  Liquid (Drink)  Off Label  287.4     43.0           2.6   \n",
       "2            3.0          Tablet   On Label   70.6    267.3           2.2   \n",
       "3            3.0         Capsule   On Label   12.6      1.0           1.0   \n",
       "4            3.0          Tablet   On Label  125.2     15.0           3.0   \n",
       "5            3.0          Tablet  Off Label  143.2      1.0           3.0   \n",
       "6            3.3          Tablet   On Label   32.1    490.0           2.8   \n",
       "7            3.5          Tablet   On Label   99.5    141.6           2.8   \n",
       "8            3.3          Tablet   On Label  125.2     41.0           2.5   \n",
       "9            3.3  Liquid (Drink)   On Label  332.6      3.7           3.2   \n",
       "\n",
       "  Prescription_Type  \n",
       "0                RX  \n",
       "1                RX  \n",
       "2                RX  \n",
       "3                RX  \n",
       "4                RX  \n",
       "5                RX  \n",
       "6                RX  \n",
       "7                RX  \n",
       "8                RX  \n",
       "9                RX  "
      ]
     },
     "execution_count": 80,
     "metadata": {},
     "output_type": "execute_result"
    }
   ],
   "source": [
    "df.head(10)"
   ]
  },
  {
   "cell_type": "code",
   "execution_count": 207,
   "metadata": {},
   "outputs": [
    {
     "data": {
      "text/html": [
       "<div>\n",
       "<style scoped>\n",
       "    .dataframe tbody tr th:only-of-type {\n",
       "        vertical-align: middle;\n",
       "    }\n",
       "\n",
       "    .dataframe tbody tr th {\n",
       "        vertical-align: top;\n",
       "    }\n",
       "\n",
       "    .dataframe thead th {\n",
       "        text-align: right;\n",
       "    }\n",
       "</style>\n",
       "<table border=\"1\" class=\"dataframe\">\n",
       "  <thead>\n",
       "    <tr style=\"text-align: right;\">\n",
       "      <th></th>\n",
       "      <th>Prescription_Type</th>\n",
       "      <th>OTC</th>\n",
       "      <th>RX</th>\n",
       "      <th>RX/OTC</th>\n",
       "      <th>Unkown</th>\n",
       "    </tr>\n",
       "  </thead>\n",
       "  <tbody>\n",
       "    <tr>\n",
       "      <th rowspan=\"8\" valign=\"top\">Ease_Of_Use</th>\n",
       "      <th>count</th>\n",
       "      <td>168.000000</td>\n",
       "      <td>477.000000</td>\n",
       "      <td>28.000000</td>\n",
       "      <td>5.000000</td>\n",
       "    </tr>\n",
       "    <tr>\n",
       "      <th>mean</th>\n",
       "      <td>4.144048</td>\n",
       "      <td>3.847589</td>\n",
       "      <td>3.914286</td>\n",
       "      <td>4.200000</td>\n",
       "    </tr>\n",
       "    <tr>\n",
       "      <th>std</th>\n",
       "      <td>1.043354</td>\n",
       "      <td>0.831888</td>\n",
       "      <td>0.762411</td>\n",
       "      <td>0.883176</td>\n",
       "    </tr>\n",
       "    <tr>\n",
       "      <th>min</th>\n",
       "      <td>1.000000</td>\n",
       "      <td>1.000000</td>\n",
       "      <td>1.000000</td>\n",
       "      <td>3.000000</td>\n",
       "    </tr>\n",
       "    <tr>\n",
       "      <th>25%</th>\n",
       "      <td>3.800000</td>\n",
       "      <td>3.500000</td>\n",
       "      <td>3.750000</td>\n",
       "      <td>3.600000</td>\n",
       "    </tr>\n",
       "    <tr>\n",
       "      <th>50%</th>\n",
       "      <td>4.500000</td>\n",
       "      <td>4.000000</td>\n",
       "      <td>4.100000</td>\n",
       "      <td>4.400000</td>\n",
       "    </tr>\n",
       "    <tr>\n",
       "      <th>75%</th>\n",
       "      <td>5.000000</td>\n",
       "      <td>4.400000</td>\n",
       "      <td>4.250000</td>\n",
       "      <td>5.000000</td>\n",
       "    </tr>\n",
       "    <tr>\n",
       "      <th>max</th>\n",
       "      <td>5.000000</td>\n",
       "      <td>5.000000</td>\n",
       "      <td>4.900000</td>\n",
       "      <td>5.000000</td>\n",
       "    </tr>\n",
       "    <tr>\n",
       "      <th rowspan=\"8\" valign=\"top\">Effectiveness</th>\n",
       "      <th>count</th>\n",
       "      <td>168.000000</td>\n",
       "      <td>477.000000</td>\n",
       "      <td>28.000000</td>\n",
       "      <td>5.000000</td>\n",
       "    </tr>\n",
       "    <tr>\n",
       "      <th>mean</th>\n",
       "      <td>3.720238</td>\n",
       "      <td>3.471698</td>\n",
       "      <td>3.292857</td>\n",
       "      <td>3.240000</td>\n",
       "    </tr>\n",
       "    <tr>\n",
       "      <th>std</th>\n",
       "      <td>1.178173</td>\n",
       "      <td>0.867441</td>\n",
       "      <td>0.834412</td>\n",
       "      <td>0.829458</td>\n",
       "    </tr>\n",
       "    <tr>\n",
       "      <th>min</th>\n",
       "      <td>1.000000</td>\n",
       "      <td>1.000000</td>\n",
       "      <td>1.000000</td>\n",
       "      <td>2.000000</td>\n",
       "    </tr>\n",
       "    <tr>\n",
       "      <th>25%</th>\n",
       "      <td>3.000000</td>\n",
       "      <td>3.000000</td>\n",
       "      <td>2.875000</td>\n",
       "      <td>3.000000</td>\n",
       "    </tr>\n",
       "    <tr>\n",
       "      <th>50%</th>\n",
       "      <td>4.000000</td>\n",
       "      <td>3.600000</td>\n",
       "      <td>3.350000</td>\n",
       "      <td>3.200000</td>\n",
       "    </tr>\n",
       "    <tr>\n",
       "      <th>75%</th>\n",
       "      <td>5.000000</td>\n",
       "      <td>4.000000</td>\n",
       "      <td>3.800000</td>\n",
       "      <td>4.000000</td>\n",
       "    </tr>\n",
       "    <tr>\n",
       "      <th>max</th>\n",
       "      <td>5.000000</td>\n",
       "      <td>5.000000</td>\n",
       "      <td>4.600000</td>\n",
       "      <td>4.000000</td>\n",
       "    </tr>\n",
       "    <tr>\n",
       "      <th rowspan=\"8\" valign=\"top\">Price</th>\n",
       "      <th>count</th>\n",
       "      <td>168.000000</td>\n",
       "      <td>477.000000</td>\n",
       "      <td>28.000000</td>\n",
       "      <td>5.000000</td>\n",
       "    </tr>\n",
       "    <tr>\n",
       "      <th>mean</th>\n",
       "      <td>36.764286</td>\n",
       "      <td>146.044654</td>\n",
       "      <td>61.564286</td>\n",
       "      <td>287.320000</td>\n",
       "    </tr>\n",
       "    <tr>\n",
       "      <th>std</th>\n",
       "      <td>112.924530</td>\n",
       "      <td>233.794393</td>\n",
       "      <td>76.315001</td>\n",
       "      <td>586.624575</td>\n",
       "    </tr>\n",
       "    <tr>\n",
       "      <th>min</th>\n",
       "      <td>4.000000</td>\n",
       "      <td>6.000000</td>\n",
       "      <td>8.800000</td>\n",
       "      <td>11.900000</td>\n",
       "    </tr>\n",
       "    <tr>\n",
       "      <th>25%</th>\n",
       "      <td>10.500000</td>\n",
       "      <td>29.000000</td>\n",
       "      <td>14.450000</td>\n",
       "      <td>14.500000</td>\n",
       "    </tr>\n",
       "    <tr>\n",
       "      <th>50%</th>\n",
       "      <td>12.000000</td>\n",
       "      <td>78.000000</td>\n",
       "      <td>20.400000</td>\n",
       "      <td>14.500000</td>\n",
       "    </tr>\n",
       "    <tr>\n",
       "      <th>75%</th>\n",
       "      <td>19.000000</td>\n",
       "      <td>161.200000</td>\n",
       "      <td>69.000000</td>\n",
       "      <td>59.600000</td>\n",
       "    </tr>\n",
       "    <tr>\n",
       "      <th>max</th>\n",
       "      <td>1336.100000</td>\n",
       "      <td>2049.600000</td>\n",
       "      <td>295.000000</td>\n",
       "      <td>1336.100000</td>\n",
       "    </tr>\n",
       "    <tr>\n",
       "      <th rowspan=\"8\" valign=\"top\">Reviews</th>\n",
       "      <th>count</th>\n",
       "      <td>168.000000</td>\n",
       "      <td>477.000000</td>\n",
       "      <td>28.000000</td>\n",
       "      <td>5.000000</td>\n",
       "    </tr>\n",
       "    <tr>\n",
       "      <th>mean</th>\n",
       "      <td>7.964286</td>\n",
       "      <td>111.490147</td>\n",
       "      <td>67.585714</td>\n",
       "      <td>12.000000</td>\n",
       "    </tr>\n",
       "    <tr>\n",
       "      <th>std</th>\n",
       "      <td>23.173881</td>\n",
       "      <td>322.029649</td>\n",
       "      <td>92.724913</td>\n",
       "      <td>17.492856</td>\n",
       "    </tr>\n",
       "    <tr>\n",
       "      <th>min</th>\n",
       "      <td>1.000000</td>\n",
       "      <td>1.000000</td>\n",
       "      <td>1.000000</td>\n",
       "      <td>1.000000</td>\n",
       "    </tr>\n",
       "    <tr>\n",
       "      <th>25%</th>\n",
       "      <td>1.000000</td>\n",
       "      <td>5.700000</td>\n",
       "      <td>15.625000</td>\n",
       "      <td>1.000000</td>\n",
       "    </tr>\n",
       "    <tr>\n",
       "      <th>50%</th>\n",
       "      <td>2.000000</td>\n",
       "      <td>22.000000</td>\n",
       "      <td>42.000000</td>\n",
       "      <td>3.000000</td>\n",
       "    </tr>\n",
       "    <tr>\n",
       "      <th>75%</th>\n",
       "      <td>5.750000</td>\n",
       "      <td>97.000000</td>\n",
       "      <td>91.725000</td>\n",
       "      <td>13.000000</td>\n",
       "    </tr>\n",
       "    <tr>\n",
       "      <th>max</th>\n",
       "      <td>178.000000</td>\n",
       "      <td>4647.000000</td>\n",
       "      <td>465.000000</td>\n",
       "      <td>42.000000</td>\n",
       "    </tr>\n",
       "    <tr>\n",
       "      <th rowspan=\"8\" valign=\"top\">Satisfaction</th>\n",
       "      <th>count</th>\n",
       "      <td>168.000000</td>\n",
       "      <td>477.000000</td>\n",
       "      <td>28.000000</td>\n",
       "      <td>5.000000</td>\n",
       "    </tr>\n",
       "    <tr>\n",
       "      <th>mean</th>\n",
       "      <td>3.584524</td>\n",
       "      <td>3.061845</td>\n",
       "      <td>3.100000</td>\n",
       "      <td>3.580000</td>\n",
       "    </tr>\n",
       "    <tr>\n",
       "      <th>std</th>\n",
       "      <td>1.238648</td>\n",
       "      <td>0.925645</td>\n",
       "      <td>0.873478</td>\n",
       "      <td>1.032957</td>\n",
       "    </tr>\n",
       "    <tr>\n",
       "      <th>min</th>\n",
       "      <td>1.000000</td>\n",
       "      <td>1.000000</td>\n",
       "      <td>1.000000</td>\n",
       "      <td>2.500000</td>\n",
       "    </tr>\n",
       "    <tr>\n",
       "      <th>25%</th>\n",
       "      <td>3.000000</td>\n",
       "      <td>2.500000</td>\n",
       "      <td>2.500000</td>\n",
       "      <td>3.000000</td>\n",
       "    </tr>\n",
       "    <tr>\n",
       "      <th>50%</th>\n",
       "      <td>3.800000</td>\n",
       "      <td>3.100000</td>\n",
       "      <td>3.200000</td>\n",
       "      <td>3.100000</td>\n",
       "    </tr>\n",
       "    <tr>\n",
       "      <th>75%</th>\n",
       "      <td>4.800000</td>\n",
       "      <td>3.600000</td>\n",
       "      <td>3.500000</td>\n",
       "      <td>4.300000</td>\n",
       "    </tr>\n",
       "    <tr>\n",
       "      <th>max</th>\n",
       "      <td>5.000000</td>\n",
       "      <td>5.000000</td>\n",
       "      <td>4.600000</td>\n",
       "      <td>5.000000</td>\n",
       "    </tr>\n",
       "  </tbody>\n",
       "</table>\n",
       "</div>"
      ],
      "text/plain": [
       "Prescription_Type            OTC           RX      RX/OTC       Unkown\n",
       "Ease_Of_Use   count   168.000000   477.000000   28.000000     5.000000\n",
       "              mean      4.144048     3.847589    3.914286     4.200000\n",
       "              std       1.043354     0.831888    0.762411     0.883176\n",
       "              min       1.000000     1.000000    1.000000     3.000000\n",
       "              25%       3.800000     3.500000    3.750000     3.600000\n",
       "              50%       4.500000     4.000000    4.100000     4.400000\n",
       "              75%       5.000000     4.400000    4.250000     5.000000\n",
       "              max       5.000000     5.000000    4.900000     5.000000\n",
       "Effectiveness count   168.000000   477.000000   28.000000     5.000000\n",
       "              mean      3.720238     3.471698    3.292857     3.240000\n",
       "              std       1.178173     0.867441    0.834412     0.829458\n",
       "              min       1.000000     1.000000    1.000000     2.000000\n",
       "              25%       3.000000     3.000000    2.875000     3.000000\n",
       "              50%       4.000000     3.600000    3.350000     3.200000\n",
       "              75%       5.000000     4.000000    3.800000     4.000000\n",
       "              max       5.000000     5.000000    4.600000     4.000000\n",
       "Price         count   168.000000   477.000000   28.000000     5.000000\n",
       "              mean     36.764286   146.044654   61.564286   287.320000\n",
       "              std     112.924530   233.794393   76.315001   586.624575\n",
       "              min       4.000000     6.000000    8.800000    11.900000\n",
       "              25%      10.500000    29.000000   14.450000    14.500000\n",
       "              50%      12.000000    78.000000   20.400000    14.500000\n",
       "              75%      19.000000   161.200000   69.000000    59.600000\n",
       "              max    1336.100000  2049.600000  295.000000  1336.100000\n",
       "Reviews       count   168.000000   477.000000   28.000000     5.000000\n",
       "              mean      7.964286   111.490147   67.585714    12.000000\n",
       "              std      23.173881   322.029649   92.724913    17.492856\n",
       "              min       1.000000     1.000000    1.000000     1.000000\n",
       "              25%       1.000000     5.700000   15.625000     1.000000\n",
       "              50%       2.000000    22.000000   42.000000     3.000000\n",
       "              75%       5.750000    97.000000   91.725000    13.000000\n",
       "              max     178.000000  4647.000000  465.000000    42.000000\n",
       "Satisfaction  count   168.000000   477.000000   28.000000     5.000000\n",
       "              mean      3.584524     3.061845    3.100000     3.580000\n",
       "              std       1.238648     0.925645    0.873478     1.032957\n",
       "              min       1.000000     1.000000    1.000000     2.500000\n",
       "              25%       3.000000     2.500000    2.500000     3.000000\n",
       "              50%       3.800000     3.100000    3.200000     3.100000\n",
       "              75%       4.800000     3.600000    3.500000     4.300000\n",
       "              max       5.000000     5.000000    4.600000     5.000000"
      ]
     },
     "execution_count": 207,
     "metadata": {},
     "output_type": "execute_result"
    }
   ],
   "source": [
    "df.groupby(\"Prescription_Type\").describe().T"
   ]
  },
  {
   "cell_type": "code",
   "execution_count": 81,
   "metadata": {},
   "outputs": [
    {
     "data": {
      "text/plain": [
       "3.524233576642336"
      ]
     },
     "execution_count": 81,
     "metadata": {},
     "output_type": "execute_result"
    }
   ],
   "source": [
    "np.mean(df['Effectiveness'])"
   ]
  },
  {
   "cell_type": "code",
   "execution_count": 101,
   "metadata": {},
   "outputs": [
    {
     "data": {
      "text/plain": [
       "3.6"
      ]
     },
     "execution_count": 101,
     "metadata": {},
     "output_type": "execute_result"
    }
   ],
   "source": [
    "np.median(df['Effectiveness'])"
   ]
  },
  {
   "cell_type": "code",
   "execution_count": 82,
   "metadata": {},
   "outputs": [
    {
     "data": {
      "text/plain": [
       "3.9204379562043794"
      ]
     },
     "execution_count": 82,
     "metadata": {},
     "output_type": "execute_result"
    }
   ],
   "source": [
    "np.mean(df['Ease_Of_Use'])"
   ]
  },
  {
   "cell_type": "code",
   "execution_count": 97,
   "metadata": {},
   "outputs": [
    {
     "data": {
      "text/plain": [
       "4.0"
      ]
     },
     "execution_count": 97,
     "metadata": {},
     "output_type": "execute_result"
    }
   ],
   "source": [
    "np.median(df['Ease_Of_Use'])"
   ]
  },
  {
   "cell_type": "code",
   "execution_count": 90,
   "metadata": {},
   "outputs": [
    {
     "data": {
      "text/plain": [
       "3.1954744525547447"
      ]
     },
     "execution_count": 90,
     "metadata": {},
     "output_type": "execute_result"
    }
   ],
   "source": [
    "np.mean(df['Satisfaction'])"
   ]
  },
  {
   "cell_type": "code",
   "execution_count": 98,
   "metadata": {},
   "outputs": [
    {
     "data": {
      "text/plain": [
       "3.2"
      ]
     },
     "execution_count": 98,
     "metadata": {},
     "output_type": "execute_result"
    }
   ],
   "source": [
    "np.median(df['Satisfaction'])"
   ]
  },
  {
   "cell_type": "code",
   "execution_count": 102,
   "metadata": {},
   "outputs": [
    {
     "data": {
      "text/plain": [
       "174.21868613138685"
      ]
     },
     "execution_count": 102,
     "metadata": {},
     "output_type": "execute_result"
    }
   ],
   "source": [
    "np.mean(df['Price'])"
   ]
  },
  {
   "cell_type": "code",
   "execution_count": 110,
   "metadata": {},
   "outputs": [
    {
     "data": {
      "text/plain": [
       "50.0"
      ]
     },
     "execution_count": 110,
     "metadata": {},
     "output_type": "execute_result"
    }
   ],
   "source": [
    "np.median(df['Price'])\n"
   ]
  },
  {
   "cell_type": "markdown",
   "metadata": {},
   "source": [
    "The median value of Price column is far from mean, that means there is/are outliers affecting the mean"
   ]
  },
  {
   "cell_type": "markdown",
   "metadata": {},
   "source": [
    "****To identify outliers using the z-score, we can set a threshold value, say 3. Any data point with a z-score greater than 3 or less than -3 can be considered an outlier. We can use the scipy library in Python to calculate the z-score and identify outliers****"
   ]
  },
  {
   "cell_type": "code",
   "execution_count": 106,
   "metadata": {},
   "outputs": [],
   "source": [
    "z = np.abs(st.zscore(df['Price']))\n"
   ]
  },
  {
   "cell_type": "code",
   "execution_count": 108,
   "metadata": {},
   "outputs": [],
   "source": [
    "threshold = 3\n",
    "outliers = df[z > threshold]"
   ]
  },
  {
   "cell_type": "code",
   "execution_count": 109,
   "metadata": {},
   "outputs": [
    {
     "name": "stdout",
     "output_type": "stream",
     "text": [
      "                                    Condition                    Generic_Name  \\\n",
      "40                          Atopic Dermatitis                    Fluocinonide   \n",
      "59                          Atopic Dermatitis  Hydrocortisone-Iodoquinl-Aloe2   \n",
      "176                Adenocarcinoma Of Pancreas                    Capecitabine   \n",
      "183                Adenocarcinoma Of Pancreas        Paclitaxel-Protein Bound   \n",
      "237  Diverticulitis Of Gastrointestinal Tract                     Tigecycline   \n",
      "260                             Endometriosis                       Nafarelin   \n",
      "271                             Endometriosis             Triptorelin Pamoate   \n",
      "\n",
      "     Ease_Of_Use  Effectiveness     Dosage_Form Indication    Price  Reviews  \\\n",
      "40           4.4            4.4           Cream   On Label   2564.3     12.0   \n",
      "59           3.0            3.0           Cream     Unkown   7324.0     14.0   \n",
      "176          4.1            3.8          Tablet  Off Label   5829.2     83.0   \n",
      "183          3.0            3.6       Injection   On Label  10362.2     14.0   \n",
      "237          2.3            3.0       Injection   On Label   7992.0      9.0   \n",
      "260          3.0            3.0  Liquid (Drink)   On Label   3340.0      5.0   \n",
      "271          3.6            3.9       Injection  Off Label   2928.0      3.1   \n",
      "\n",
      "     Satisfaction Prescription_Type  \n",
      "40            4.2                RX  \n",
      "59            3.0                RX  \n",
      "176           3.7                RX  \n",
      "183           3.4                RX  \n",
      "237           2.7                RX  \n",
      "260           2.0                RX  \n",
      "271           2.5                RX  \n"
     ]
    }
   ],
   "source": [
    "print(outliers)"
   ]
  },
  {
   "cell_type": "code",
   "execution_count": 115,
   "metadata": {},
   "outputs": [],
   "source": [
    "df.drop(df[df.Price >2500].index, inplace=True)"
   ]
  },
  {
   "cell_type": "code",
   "execution_count": 117,
   "metadata": {},
   "outputs": [
    {
     "data": {
      "text/plain": [
       "116.51932153392332"
      ]
     },
     "execution_count": 117,
     "metadata": {},
     "output_type": "execute_result"
    }
   ],
   "source": [
    "np.mean(df['Price'])"
   ]
  },
  {
   "cell_type": "code",
   "execution_count": 118,
   "metadata": {},
   "outputs": [
    {
     "data": {
      "text/plain": [
       "49.0"
      ]
     },
     "execution_count": 118,
     "metadata": {},
     "output_type": "execute_result"
    }
   ],
   "source": [
    "np.median(df['Price'])"
   ]
  },
  {
   "cell_type": "markdown",
   "metadata": {},
   "source": [
    "**Now let us predict some relations with price**"
   ]
  },
  {
   "cell_type": "code",
   "execution_count": 119,
   "metadata": {},
   "outputs": [
    {
     "data": {
      "text/html": [
       "<div>\n",
       "<style scoped>\n",
       "    .dataframe tbody tr th:only-of-type {\n",
       "        vertical-align: middle;\n",
       "    }\n",
       "\n",
       "    .dataframe tbody tr th {\n",
       "        vertical-align: top;\n",
       "    }\n",
       "\n",
       "    .dataframe thead th {\n",
       "        text-align: right;\n",
       "    }\n",
       "</style>\n",
       "<table border=\"1\" class=\"dataframe\">\n",
       "  <thead>\n",
       "    <tr style=\"text-align: right;\">\n",
       "      <th></th>\n",
       "      <th>Condition</th>\n",
       "      <th>Generic_Name</th>\n",
       "      <th>Ease_Of_Use</th>\n",
       "      <th>Effectiveness</th>\n",
       "      <th>Dosage_Form</th>\n",
       "      <th>Indication</th>\n",
       "      <th>Price</th>\n",
       "      <th>Reviews</th>\n",
       "      <th>Satisfaction</th>\n",
       "      <th>Prescription_Type</th>\n",
       "    </tr>\n",
       "  </thead>\n",
       "  <tbody>\n",
       "    <tr>\n",
       "      <th>0</th>\n",
       "      <td>Acute Bacterial Sinusitis</td>\n",
       "      <td>Amoxicillin</td>\n",
       "      <td>3.9</td>\n",
       "      <td>3.7</td>\n",
       "      <td>Capsule</td>\n",
       "      <td>On Label</td>\n",
       "      <td>12.6</td>\n",
       "      <td>86.3</td>\n",
       "      <td>3.2</td>\n",
       "      <td>RX</td>\n",
       "    </tr>\n",
       "    <tr>\n",
       "      <th>1</th>\n",
       "      <td>Acute Bacterial Sinusitis</td>\n",
       "      <td>Amoxicillin-Pot Clavulanate</td>\n",
       "      <td>3.5</td>\n",
       "      <td>3.3</td>\n",
       "      <td>Liquid (Drink)</td>\n",
       "      <td>Off Label</td>\n",
       "      <td>287.4</td>\n",
       "      <td>43.0</td>\n",
       "      <td>2.6</td>\n",
       "      <td>RX</td>\n",
       "    </tr>\n",
       "    <tr>\n",
       "      <th>2</th>\n",
       "      <td>Acute Bacterial Sinusitis</td>\n",
       "      <td>Amoxicillin-Pot Clavulanate</td>\n",
       "      <td>3.1</td>\n",
       "      <td>3.0</td>\n",
       "      <td>Tablet</td>\n",
       "      <td>On Label</td>\n",
       "      <td>70.6</td>\n",
       "      <td>267.3</td>\n",
       "      <td>2.2</td>\n",
       "      <td>RX</td>\n",
       "    </tr>\n",
       "    <tr>\n",
       "      <th>3</th>\n",
       "      <td>Acute Bacterial Sinusitis</td>\n",
       "      <td>Ampicillin</td>\n",
       "      <td>2.0</td>\n",
       "      <td>3.0</td>\n",
       "      <td>Capsule</td>\n",
       "      <td>On Label</td>\n",
       "      <td>12.6</td>\n",
       "      <td>1.0</td>\n",
       "      <td>1.0</td>\n",
       "      <td>RX</td>\n",
       "    </tr>\n",
       "    <tr>\n",
       "      <th>4</th>\n",
       "      <td>Acute Bacterial Sinusitis</td>\n",
       "      <td>Ampicillin</td>\n",
       "      <td>3.2</td>\n",
       "      <td>3.0</td>\n",
       "      <td>Tablet</td>\n",
       "      <td>On Label</td>\n",
       "      <td>125.2</td>\n",
       "      <td>15.0</td>\n",
       "      <td>3.0</td>\n",
       "      <td>RX</td>\n",
       "    </tr>\n",
       "    <tr>\n",
       "      <th>5</th>\n",
       "      <td>Acute Bacterial Sinusitis</td>\n",
       "      <td>Ampicillin Sodium</td>\n",
       "      <td>3.0</td>\n",
       "      <td>3.0</td>\n",
       "      <td>Tablet</td>\n",
       "      <td>Off Label</td>\n",
       "      <td>143.2</td>\n",
       "      <td>1.0</td>\n",
       "      <td>3.0</td>\n",
       "      <td>RX</td>\n",
       "    </tr>\n",
       "    <tr>\n",
       "      <th>6</th>\n",
       "      <td>Acute Bacterial Sinusitis</td>\n",
       "      <td>Azithromycin</td>\n",
       "      <td>4.1</td>\n",
       "      <td>3.3</td>\n",
       "      <td>Tablet</td>\n",
       "      <td>On Label</td>\n",
       "      <td>32.1</td>\n",
       "      <td>490.0</td>\n",
       "      <td>2.8</td>\n",
       "      <td>RX</td>\n",
       "    </tr>\n",
       "    <tr>\n",
       "      <th>7</th>\n",
       "      <td>Acute Bacterial Sinusitis</td>\n",
       "      <td>Clarithromycin</td>\n",
       "      <td>3.6</td>\n",
       "      <td>3.5</td>\n",
       "      <td>Tablet</td>\n",
       "      <td>On Label</td>\n",
       "      <td>99.5</td>\n",
       "      <td>141.6</td>\n",
       "      <td>2.8</td>\n",
       "      <td>RX</td>\n",
       "    </tr>\n",
       "    <tr>\n",
       "      <th>8</th>\n",
       "      <td>Acute Bacterial Sinusitis</td>\n",
       "      <td>Erythromycin</td>\n",
       "      <td>2.9</td>\n",
       "      <td>3.3</td>\n",
       "      <td>Tablet</td>\n",
       "      <td>On Label</td>\n",
       "      <td>125.2</td>\n",
       "      <td>41.0</td>\n",
       "      <td>2.5</td>\n",
       "      <td>RX</td>\n",
       "    </tr>\n",
       "    <tr>\n",
       "      <th>9</th>\n",
       "      <td>Acute Bacterial Sinusitis</td>\n",
       "      <td>Erythromycin Ethylsuccinate</td>\n",
       "      <td>2.9</td>\n",
       "      <td>3.3</td>\n",
       "      <td>Liquid (Drink)</td>\n",
       "      <td>On Label</td>\n",
       "      <td>332.6</td>\n",
       "      <td>3.7</td>\n",
       "      <td>3.2</td>\n",
       "      <td>RX</td>\n",
       "    </tr>\n",
       "  </tbody>\n",
       "</table>\n",
       "</div>"
      ],
      "text/plain": [
       "                   Condition                 Generic_Name  Ease_Of_Use  \\\n",
       "0  Acute Bacterial Sinusitis                  Amoxicillin          3.9   \n",
       "1  Acute Bacterial Sinusitis  Amoxicillin-Pot Clavulanate          3.5   \n",
       "2  Acute Bacterial Sinusitis  Amoxicillin-Pot Clavulanate          3.1   \n",
       "3  Acute Bacterial Sinusitis                   Ampicillin          2.0   \n",
       "4  Acute Bacterial Sinusitis                   Ampicillin          3.2   \n",
       "5  Acute Bacterial Sinusitis            Ampicillin Sodium          3.0   \n",
       "6  Acute Bacterial Sinusitis                 Azithromycin          4.1   \n",
       "7  Acute Bacterial Sinusitis               Clarithromycin          3.6   \n",
       "8  Acute Bacterial Sinusitis                 Erythromycin          2.9   \n",
       "9  Acute Bacterial Sinusitis  Erythromycin Ethylsuccinate          2.9   \n",
       "\n",
       "   Effectiveness     Dosage_Form Indication  Price  Reviews  Satisfaction  \\\n",
       "0            3.7         Capsule   On Label   12.6     86.3           3.2   \n",
       "1            3.3  Liquid (Drink)  Off Label  287.4     43.0           2.6   \n",
       "2            3.0          Tablet   On Label   70.6    267.3           2.2   \n",
       "3            3.0         Capsule   On Label   12.6      1.0           1.0   \n",
       "4            3.0          Tablet   On Label  125.2     15.0           3.0   \n",
       "5            3.0          Tablet  Off Label  143.2      1.0           3.0   \n",
       "6            3.3          Tablet   On Label   32.1    490.0           2.8   \n",
       "7            3.5          Tablet   On Label   99.5    141.6           2.8   \n",
       "8            3.3          Tablet   On Label  125.2     41.0           2.5   \n",
       "9            3.3  Liquid (Drink)   On Label  332.6      3.7           3.2   \n",
       "\n",
       "  Prescription_Type  \n",
       "0                RX  \n",
       "1                RX  \n",
       "2                RX  \n",
       "3                RX  \n",
       "4                RX  \n",
       "5                RX  \n",
       "6                RX  \n",
       "7                RX  \n",
       "8                RX  \n",
       "9                RX  "
      ]
     },
     "execution_count": 119,
     "metadata": {},
     "output_type": "execute_result"
    }
   ],
   "source": [
    "df.head(10)"
   ]
  },
  {
   "cell_type": "markdown",
   "metadata": {},
   "source": [
    "Effectivness with price"
   ]
  },
  {
   "cell_type": "code",
   "execution_count": 131,
   "metadata": {},
   "outputs": [
    {
     "name": "stdout",
     "output_type": "stream",
     "text": [
      "R-squared value: 0.0005467973946802207\n"
     ]
    }
   ],
   "source": [
    "model = LinearRegression()\n",
    "\n",
    "# Train the model\n",
    "model.fit(df[['Effectiveness']], df[['Price']])\n",
    "\n",
    "\n",
    "# Evaluate the model\n",
    "r2_score = model.score(df[['Effectiveness']], df[['Price']])\n",
    "print(f\"R-squared value: {r2_score}\")\n",
    "\n",
    "#so there is no linear relation between effectivness and price"
   ]
  },
  {
   "cell_type": "markdown",
   "metadata": {},
   "source": [
    "Effectivness with Satisfaction "
   ]
  },
  {
   "cell_type": "code",
   "execution_count": 133,
   "metadata": {},
   "outputs": [
    {
     "name": "stdout",
     "output_type": "stream",
     "text": [
      "R-squared value: 0.7492184478065652\n"
     ]
    }
   ],
   "source": [
    "# Train the model\n",
    "model.fit(df[['Effectiveness']], df[['Satisfaction']])\n",
    "\n",
    "\n",
    "# Evaluate the model\n",
    "r2_score = model.score(df[['Effectiveness']], df[['Satisfaction']])\n",
    "print(f\"R-squared value: {r2_score}\")\n",
    "\n",
    "#so there is a linear relation between effectivness and price"
   ]
  },
  {
   "cell_type": "code",
   "execution_count": 137,
   "metadata": {},
   "outputs": [
    {
     "data": {
      "application/vnd.plotly.v1+json": {
       "config": {
        "plotlyServerURL": "https://plot.ly"
       },
       "data": [
        {
         "hovertemplate": "Effectiveness=%{x}<br>Satisfaction=%{marker.size}<extra></extra>",
         "legendgroup": "",
         "marker": {
          "color": "#636efa",
          "size": [
           3.2,
           2.6,
           2.2,
           1,
           3,
           3,
           2.8,
           2.8,
           2.5,
           3.2,
           3.7,
           2,
           2.5,
           2,
           2.8,
           5,
           4,
           4.3,
           4.2,
           3.2,
           3.5,
           3.9,
           3,
           3.7,
           3.4,
           3.2,
           3.9,
           4,
           1,
           3.3,
           3.1,
           5,
           3.6,
           5,
           4.8,
           3.9,
           3.7,
           4.3,
           1,
           5,
           4.7,
           5,
           4,
           3.5,
           5,
           4.4,
           3.6,
           3.4,
           2.5,
           3.8,
           2,
           4.4,
           3.5,
           1,
           4,
           4.5,
           2,
           5,
           4,
           1,
           3.8,
           3.1,
           2.5,
           4.8,
           3.2,
           5,
           2.5,
           3.8,
           2,
           2.3,
           3,
           1,
           4.3,
           3.6,
           3.3,
           1,
           5,
           2.5,
           3.8,
           2,
           2,
           2.3,
           2.9,
           2.6,
           3.6,
           4,
           2.4,
           4,
           4,
           2.8,
           1,
           2.3,
           1.9,
           3.1,
           2.2,
           2,
           1,
           2.4,
           2.1,
           1,
           3,
           1,
           5,
           2.5,
           4,
           4,
           1.9,
           2,
           1.9,
           1,
           1.8,
           4,
           2.5,
           5,
           4.5,
           1.4,
           2,
           4.2,
           5,
           2.6,
           5,
           2.6,
           2.8,
           5,
           3,
           2.1,
           1,
           1,
           2.9,
           1.6,
           2.6,
           3.7,
           5,
           4,
           4.5,
           2.5,
           1,
           1,
           2.7,
           2.8,
           3.6,
           1.8,
           1,
           2,
           5,
           2.1,
           2,
           3,
           2.8,
           4.2,
           2.2,
           3.1,
           2,
           3.3,
           2.3,
           2.6,
           2,
           1.8,
           2.3,
           4.5,
           1.4,
           2.3,
           1.7,
           2.6,
           2.6,
           2.3,
           2.5,
           3.2,
           3.7,
           2.3,
           3,
           2.7,
           3.6,
           3.9,
           3.2,
           2.3,
           3,
           2.8,
           2,
           2.9,
           2.8,
           3.4,
           4,
           3.2,
           4,
           3,
           2.2,
           5,
           4.8,
           2,
           3.8,
           5,
           5,
           5,
           3.8,
           3,
           5,
           4.2,
           4.1,
           3.8,
           5,
           3.9,
           3,
           3.1,
           2.7,
           4.2,
           3.3,
           3.2,
           3.5,
           3.6,
           3,
           2.9,
           3.7,
           2.9,
           3,
           3,
           3.4,
           3.6,
           1,
           2.2,
           3,
           2.8,
           3,
           2.1,
           1,
           3,
           1,
           4,
           4,
           3,
           1,
           2.8,
           2.1,
           2.9,
           2.2,
           2.7,
           3,
           2.4,
           3,
           2.5,
           3,
           3.4,
           2.2,
           3.4,
           2.9,
           1.7,
           2.8,
           1,
           2.7,
           5,
           2.3,
           2.7,
           2.8,
           2.7,
           3,
           3,
           2.4,
           1,
           3,
           2.6,
           3.5,
           2.5,
           3.4,
           2.3,
           3.4,
           3,
           1,
           2.2,
           2.8,
           3.4,
           2.8,
           4.9,
           3,
           5,
           3.5,
           1,
           4.6,
           4.5,
           4,
           2,
           5,
           5,
           5,
           4,
           5,
           1.5,
           5,
           3.9,
           4.2,
           2,
           4.3,
           3,
           1,
           5,
           3.7,
           4,
           3.2,
           3.2,
           5,
           3.8,
           3.5,
           3.4,
           3.6,
           2.9,
           2.4,
           3.5,
           4,
           2.7,
           3.9,
           2.6,
           5,
           4,
           3,
           3.6,
           3.6,
           3.2,
           3.7,
           1,
           3,
           4,
           3.3,
           4.2,
           2.5,
           3.2,
           5,
           3,
           3.2,
           1,
           5,
           3.2,
           2.8,
           3.4,
           3.1,
           3.5,
           3.6,
           3,
           3.1,
           4,
           3.8,
           3,
           3,
           1,
           5,
           3.5,
           5,
           4,
           3,
           5,
           4.3,
           1,
           5,
           5,
           4,
           5,
           3.7,
           3,
           3.8,
           4,
           1,
           3.8,
           1,
           2,
           3.8,
           5,
           2,
           2.3,
           5,
           1,
           4,
           3,
           5,
           4.3,
           1,
           1,
           4.7,
           4.5,
           5,
           3.4,
           2.5,
           3.2,
           3.7,
           3,
           3.7,
           2.9,
           3,
           4.4,
           3.3,
           3,
           3.9,
           4.5,
           4.4,
           2.5,
           5,
           4,
           4.2,
           3.3,
           2.6,
           3.3,
           3.3,
           4,
           3.2,
           3.2,
           3.5,
           3.4,
           3.6,
           3.5,
           4.4,
           3.3,
           5,
           3.8,
           3.4,
           2.4,
           3.9,
           3.7,
           3.6,
           3.3,
           2.7,
           3.9,
           5,
           3.2,
           3.5,
           3.7,
           3.4,
           3.9,
           3.5,
           3.5,
           3.2,
           3.4,
           4.4,
           4,
           3.5,
           3.4,
           4.5,
           3.6,
           4.5,
           4.2,
           4.4,
           3.7,
           3.1,
           1,
           2.6,
           4,
           4.1,
           3.5,
           2.7,
           3.2,
           3.5,
           5,
           3,
           3.8,
           3.3,
           4,
           4,
           2.5,
           3.3,
           4,
           2.4,
           2,
           2.3,
           1,
           3.2,
           4.1,
           3.2,
           4.3,
           5,
           3.4,
           4,
           2.6,
           1,
           3.5,
           4.5,
           2,
           5,
           2.3,
           5,
           5,
           5,
           5,
           5,
           1,
           3.8,
           3.3,
           3.3,
           3.9,
           3.9,
           3.6,
           2.5,
           4.1,
           4,
           4.3,
           3.8,
           2.5,
           3.6,
           2.3,
           3.7,
           4.5,
           2.4,
           3.1,
           2.3,
           1.7,
           3.2,
           3.2,
           3,
           3,
           3.1,
           4.3,
           3,
           3,
           1,
           2.4,
           4.5,
           3.2,
           2.6,
           2,
           2.6,
           2.2,
           4.2,
           2.6,
           2.2,
           2.6,
           3.6,
           3.2,
           2.5,
           3.2,
           3.4,
           3.5,
           3,
           3.8,
           4,
           3.1,
           3.2,
           3.2,
           4.5,
           3,
           3.2,
           3.6,
           3.4,
           4.3,
           2.7,
           3.7,
           2.7,
           2.4,
           3.1,
           2.4,
           3.5,
           3,
           2.7,
           2.7,
           2,
           2.8,
           2.8,
           2.8,
           3.1,
           3.5,
           3.3,
           4.7,
           3,
           3.2,
           3.9,
           1,
           2.5,
           3.2,
           2,
           1.4,
           3,
           3.2,
           3.2,
           2.9,
           3.2,
           2.7,
           3,
           2.5,
           3,
           2.9,
           4.3,
           2.8,
           2.5,
           2.8,
           4.2,
           2.8,
           2.9,
           3.7,
           4.2,
           3.2,
           1,
           4,
           3,
           2.6,
           3.2,
           3.5,
           3.4,
           4,
           2.2,
           3.6,
           3.7,
           2.1,
           3.5,
           3.2,
           3.5,
           2.9,
           3.4,
           3.2,
           4.3,
           3.2,
           3,
           3,
           2.9,
           3.5,
           4,
           1.7,
           2.8,
           1,
           2.8,
           3.3,
           4,
           5,
           3.1,
           2.6,
           3.1,
           1,
           3.8,
           3.9,
           3.1,
           5,
           2.8,
           3.2,
           2.9,
           3.6,
           3.1,
           4.6,
           2.5,
           3.8,
           3.2,
           3.2,
           3,
           2,
           2.1,
           3.5,
           2.6,
           2.2,
           3.2,
           2.5,
           1,
           3.5,
           2.8,
           2.3,
           2.3,
           3,
           2.5,
           3.5,
           5,
           1,
           4,
           4.5,
           3.2,
           3.1,
           5,
           4.1,
           3.4,
           3.4,
           3.8,
           3.5,
           4,
           1,
           3.5,
           4,
           3.2,
           2,
           5,
           5,
           4.8,
           3.2,
           2.2,
           2.3,
           3,
           1,
           2.7,
           1.8
          ],
          "sizemode": "area",
          "sizeref": 0.0125,
          "symbol": "circle"
         },
         "mode": "markers",
         "name": "",
         "orientation": "v",
         "showlegend": false,
         "type": "scatter",
         "x": [
          3.7,
          3.3,
          3,
          3,
          3,
          3,
          3.3,
          3.5,
          3.3,
          3.3,
          4,
          2.6,
          2.9,
          2.3,
          2.8,
          5,
          4,
          4.3,
          4.2,
          3.9,
          3.8,
          4.1,
          3.3,
          3.9,
          3.6,
          4.6,
          3.9,
          4,
          1.5,
          3.4,
          3.5,
          5,
          4.1,
          4.7,
          4.7,
          4.3,
          3.8,
          4.5,
          1,
          5,
          4.7,
          5,
          3.5,
          3.5,
          5,
          4.5,
          3.6,
          4.2,
          2.6,
          4.2,
          2,
          4.6,
          3.5,
          1,
          4,
          4,
          2,
          5,
          4,
          1,
          3.8,
          3.2,
          3.2,
          4.8,
          3.3,
          5,
          3.2,
          4.1,
          1,
          4.3,
          3.3,
          1,
          4.3,
          4.1,
          3.4,
          1,
          4,
          2,
          3.7,
          3,
          3.3,
          2.9,
          3.2,
          3,
          4.1,
          4.4,
          2.6,
          4,
          3.8,
          3.5,
          1,
          2.3,
          2.1,
          2.4,
          2.2,
          2.5,
          1,
          3.3,
          2.7,
          3,
          3,
          1,
          5,
          3.5,
          4,
          3,
          2.9,
          2.4,
          2.4,
          2,
          2.4,
          4,
          3,
          5,
          4.5,
          2.7,
          2,
          4.3,
          5,
          3.2,
          5,
          3.2,
          3.6,
          5,
          3.6,
          3.1,
          1,
          1,
          3.5,
          1.9,
          3.4,
          3.8,
          5,
          4.1,
          5,
          3.2,
          2,
          1,
          3.5,
          3.3,
          4.2,
          2.8,
          1,
          4,
          5,
          2.7,
          4.5,
          3.9,
          2.8,
          4.4,
          2.7,
          3.5,
          2.1,
          3.6,
          3.3,
          3.5,
          2.4,
          2.4,
          3.6,
          4.5,
          2.7,
          2.7,
          2.4,
          3.2,
          3.2,
          3.1,
          3.3,
          3.3,
          4,
          2.7,
          3.4,
          3,
          4,
          4.1,
          3.6,
          1.7,
          3,
          3.3,
          2.5,
          4.5,
          2.6,
          3.4,
          5,
          3.3,
          3,
          3,
          2.5,
          5,
          4.9,
          5,
          3.6,
          5,
          4,
          5,
          3.9,
          5,
          5,
          4.3,
          4.3,
          4.2,
          5,
          4.1,
          3,
          3.4,
          2.9,
          4.5,
          3.7,
          3.6,
          3.7,
          3.7,
          3.2,
          3.1,
          3.8,
          3,
          3.3,
          3.3,
          3.7,
          3.5,
          1,
          3,
          3,
          3.6,
          3.6,
          3.1,
          1,
          3,
          2,
          4.5,
          5,
          3.7,
          1,
          2.8,
          2.7,
          3.6,
          2.5,
          2.9,
          3,
          2.7,
          4.3,
          2.8,
          3.5,
          3.8,
          2.8,
          3.9,
          3.5,
          3.3,
          3.2,
          2,
          2.8,
          4,
          3.9,
          3.9,
          4.1,
          4.3,
          4.1,
          3.7,
          3.8,
          1,
          4.5,
          3.8,
          3.8,
          3.7,
          4.3,
          3.8,
          4.3,
          3,
          1,
          2.2,
          2.6,
          3.4,
          2.8,
          5,
          2.7,
          5,
          3.3,
          1,
          4.3,
          4.3,
          5,
          2,
          5,
          5,
          2,
          4.3,
          5,
          3.5,
          4,
          4.1,
          4,
          5,
          4.6,
          3,
          2,
          4,
          4,
          3,
          3.4,
          3.8,
          4,
          4,
          4.1,
          3.5,
          3.7,
          3.3,
          2.8,
          3.7,
          3.8,
          3.1,
          4.5,
          3.4,
          5,
          4,
          5,
          3.4,
          3.9,
          3.2,
          4.2,
          1,
          3.8,
          3,
          3.3,
          4.2,
          3.5,
          3.4,
          5,
          3,
          3.2,
          1,
          5,
          3.5,
          3.1,
          3.6,
          3.4,
          4,
          3.6,
          3.3,
          3.4,
          4.4,
          4,
          3.4,
          3.2,
          1,
          5,
          4,
          5,
          4,
          3,
          5,
          4.5,
          1,
          5,
          4,
          3,
          5,
          3.7,
          3,
          3.8,
          4.5,
          1,
          3.9,
          2,
          2,
          4.8,
          5,
          5,
          2.3,
          5,
          1,
          4,
          3,
          5,
          4.5,
          1,
          1,
          4.3,
          4.5,
          5,
          4,
          3.3,
          3.3,
          4,
          3.3,
          4.3,
          3.5,
          3,
          4.4,
          3.9,
          3.2,
          3.9,
          4.8,
          4.3,
          2.9,
          5,
          4,
          4.2,
          3.4,
          3,
          4,
          3.7,
          4,
          3.8,
          4,
          3.8,
          4.1,
          3.6,
          4,
          4.6,
          3.6,
          5,
          4,
          3.7,
          2.8,
          4.2,
          4,
          3.6,
          3.5,
          2.8,
          4.1,
          5,
          3.4,
          3.7,
          3.9,
          3.7,
          4.1,
          4.1,
          3.9,
          3.3,
          3.4,
          4.8,
          4.1,
          4.1,
          3.5,
          4.6,
          3.7,
          4.5,
          4.2,
          4.4,
          3.6,
          3.4,
          1,
          3,
          3.8,
          4.1,
          3.7,
          3.1,
          3.4,
          3.9,
          5,
          3,
          3.5,
          3.3,
          3,
          4,
          3,
          3.8,
          4.2,
          2.4,
          2,
          2.6,
          1,
          4,
          4.1,
          3.3,
          4.7,
          5,
          3.1,
          4,
          2.8,
          3,
          4,
          3.5,
          2.9,
          5,
          2.7,
          5,
          5,
          5,
          5,
          5,
          1,
          4.2,
          3.5,
          3.9,
          4.1,
          4.3,
          3.8,
          3.4,
          4.3,
          4.3,
          4.2,
          4.4,
          3,
          4.4,
          2.6,
          3.7,
          5,
          3.2,
          4.3,
          3,
          2.1,
          3.9,
          3.7,
          3,
          3.2,
          3.2,
          4,
          3,
          5,
          1,
          2.9,
          4.5,
          3.4,
          3.3,
          2.8,
          3.2,
          3.1,
          3.8,
          3.1,
          2.5,
          3.3,
          3.8,
          3.8,
          3.4,
          3.9,
          3.7,
          3.8,
          3.9,
          4.3,
          4.4,
          3.7,
          3.6,
          4,
          4.5,
          3.4,
          3.6,
          3.9,
          4,
          4.4,
          2.9,
          3.7,
          3.2,
          2.8,
          3.4,
          2.7,
          4.2,
          3.7,
          3.4,
          3.6,
          4,
          3.2,
          3.2,
          3.1,
          3.6,
          4.1,
          3.4,
          4.9,
          4.3,
          3.8,
          4.2,
          1.5,
          2.8,
          3.4,
          2.6,
          1.8,
          3.5,
          3.6,
          3.7,
          3.4,
          3.4,
          3.4,
          3.7,
          3,
          3.6,
          3.7,
          4.7,
          3.4,
          3.5,
          3.4,
          4.4,
          3.3,
          3.2,
          4.5,
          4.5,
          3.6,
          1,
          5,
          3.7,
          3.2,
          3.8,
          3.9,
          3.7,
          5,
          4.6,
          3.8,
          3.9,
          2.8,
          3.7,
          4,
          3.9,
          3.4,
          3.9,
          3.6,
          4.3,
          3.6,
          3.3,
          3,
          3.5,
          4.1,
          4.1,
          3.3,
          3.2,
          2,
          3.3,
          3.8,
          4,
          5,
          3.4,
          3.2,
          3.9,
          1,
          3.9,
          3.9,
          4.1,
          5,
          2.7,
          3.6,
          3.2,
          3.8,
          3,
          4.3,
          3.4,
          4.4,
          3.9,
          3.7,
          3.1,
          2.8,
          2.8,
          3.9,
          3.2,
          3.1,
          3.6,
          3.2,
          1.5,
          4,
          2.8,
          2.4,
          2.6,
          2.7,
          3,
          4,
          5,
          1,
          4,
          5,
          3.4,
          4.1,
          5,
          4.3,
          3.7,
          3.5,
          3.9,
          3.8,
          4,
          1,
          3.5,
          4.2,
          3.5,
          2.3,
          5,
          5,
          4.8,
          3.6,
          2.7,
          2.8,
          3,
          1,
          3,
          2
         ],
         "xaxis": "x",
         "y": [
          3.2,
          2.6,
          2.2,
          1,
          3,
          3,
          2.8,
          2.8,
          2.5,
          3.2,
          3.7,
          2,
          2.5,
          2,
          2.8,
          5,
          4,
          4.3,
          4.2,
          3.2,
          3.5,
          3.9,
          3,
          3.7,
          3.4,
          3.2,
          3.9,
          4,
          1,
          3.3,
          3.1,
          5,
          3.6,
          5,
          4.8,
          3.9,
          3.7,
          4.3,
          1,
          5,
          4.7,
          5,
          4,
          3.5,
          5,
          4.4,
          3.6,
          3.4,
          2.5,
          3.8,
          2,
          4.4,
          3.5,
          1,
          4,
          4.5,
          2,
          5,
          4,
          1,
          3.8,
          3.1,
          2.5,
          4.8,
          3.2,
          5,
          2.5,
          3.8,
          2,
          2.3,
          3,
          1,
          4.3,
          3.6,
          3.3,
          1,
          5,
          2.5,
          3.8,
          2,
          2,
          2.3,
          2.9,
          2.6,
          3.6,
          4,
          2.4,
          4,
          4,
          2.8,
          1,
          2.3,
          1.9,
          3.1,
          2.2,
          2,
          1,
          2.4,
          2.1,
          1,
          3,
          1,
          5,
          2.5,
          4,
          4,
          1.9,
          2,
          1.9,
          1,
          1.8,
          4,
          2.5,
          5,
          4.5,
          1.4,
          2,
          4.2,
          5,
          2.6,
          5,
          2.6,
          2.8,
          5,
          3,
          2.1,
          1,
          1,
          2.9,
          1.6,
          2.6,
          3.7,
          5,
          4,
          4.5,
          2.5,
          1,
          1,
          2.7,
          2.8,
          3.6,
          1.8,
          1,
          2,
          5,
          2.1,
          2,
          3,
          2.8,
          4.2,
          2.2,
          3.1,
          2,
          3.3,
          2.3,
          2.6,
          2,
          1.8,
          2.3,
          4.5,
          1.4,
          2.3,
          1.7,
          2.6,
          2.6,
          2.3,
          2.5,
          3.2,
          3.7,
          2.3,
          3,
          2.7,
          3.6,
          3.9,
          3.2,
          2.3,
          3,
          2.8,
          2,
          2.9,
          2.8,
          3.4,
          4,
          3.2,
          4,
          3,
          2.2,
          5,
          4.8,
          2,
          3.8,
          5,
          5,
          5,
          3.8,
          3,
          5,
          4.2,
          4.1,
          3.8,
          5,
          3.9,
          3,
          3.1,
          2.7,
          4.2,
          3.3,
          3.2,
          3.5,
          3.6,
          3,
          2.9,
          3.7,
          2.9,
          3,
          3,
          3.4,
          3.6,
          1,
          2.2,
          3,
          2.8,
          3,
          2.1,
          1,
          3,
          1,
          4,
          4,
          3,
          1,
          2.8,
          2.1,
          2.9,
          2.2,
          2.7,
          3,
          2.4,
          3,
          2.5,
          3,
          3.4,
          2.2,
          3.4,
          2.9,
          1.7,
          2.8,
          1,
          2.7,
          5,
          2.3,
          2.7,
          2.8,
          2.7,
          3,
          3,
          2.4,
          1,
          3,
          2.6,
          3.5,
          2.5,
          3.4,
          2.3,
          3.4,
          3,
          1,
          2.2,
          2.8,
          3.4,
          2.8,
          4.9,
          3,
          5,
          3.5,
          1,
          4.6,
          4.5,
          4,
          2,
          5,
          5,
          5,
          4,
          5,
          1.5,
          5,
          3.9,
          4.2,
          2,
          4.3,
          3,
          1,
          5,
          3.7,
          4,
          3.2,
          3.2,
          5,
          3.8,
          3.5,
          3.4,
          3.6,
          2.9,
          2.4,
          3.5,
          4,
          2.7,
          3.9,
          2.6,
          5,
          4,
          3,
          3.6,
          3.6,
          3.2,
          3.7,
          1,
          3,
          4,
          3.3,
          4.2,
          2.5,
          3.2,
          5,
          3,
          3.2,
          1,
          5,
          3.2,
          2.8,
          3.4,
          3.1,
          3.5,
          3.6,
          3,
          3.1,
          4,
          3.8,
          3,
          3,
          1,
          5,
          3.5,
          5,
          4,
          3,
          5,
          4.3,
          1,
          5,
          5,
          4,
          5,
          3.7,
          3,
          3.8,
          4,
          1,
          3.8,
          1,
          2,
          3.8,
          5,
          2,
          2.3,
          5,
          1,
          4,
          3,
          5,
          4.3,
          1,
          1,
          4.7,
          4.5,
          5,
          3.4,
          2.5,
          3.2,
          3.7,
          3,
          3.7,
          2.9,
          3,
          4.4,
          3.3,
          3,
          3.9,
          4.5,
          4.4,
          2.5,
          5,
          4,
          4.2,
          3.3,
          2.6,
          3.3,
          3.3,
          4,
          3.2,
          3.2,
          3.5,
          3.4,
          3.6,
          3.5,
          4.4,
          3.3,
          5,
          3.8,
          3.4,
          2.4,
          3.9,
          3.7,
          3.6,
          3.3,
          2.7,
          3.9,
          5,
          3.2,
          3.5,
          3.7,
          3.4,
          3.9,
          3.5,
          3.5,
          3.2,
          3.4,
          4.4,
          4,
          3.5,
          3.4,
          4.5,
          3.6,
          4.5,
          4.2,
          4.4,
          3.7,
          3.1,
          1,
          2.6,
          4,
          4.1,
          3.5,
          2.7,
          3.2,
          3.5,
          5,
          3,
          3.8,
          3.3,
          4,
          4,
          2.5,
          3.3,
          4,
          2.4,
          2,
          2.3,
          1,
          3.2,
          4.1,
          3.2,
          4.3,
          5,
          3.4,
          4,
          2.6,
          1,
          3.5,
          4.5,
          2,
          5,
          2.3,
          5,
          5,
          5,
          5,
          5,
          1,
          3.8,
          3.3,
          3.3,
          3.9,
          3.9,
          3.6,
          2.5,
          4.1,
          4,
          4.3,
          3.8,
          2.5,
          3.6,
          2.3,
          3.7,
          4.5,
          2.4,
          3.1,
          2.3,
          1.7,
          3.2,
          3.2,
          3,
          3,
          3.1,
          4.3,
          3,
          3,
          1,
          2.4,
          4.5,
          3.2,
          2.6,
          2,
          2.6,
          2.2,
          4.2,
          2.6,
          2.2,
          2.6,
          3.6,
          3.2,
          2.5,
          3.2,
          3.4,
          3.5,
          3,
          3.8,
          4,
          3.1,
          3.2,
          3.2,
          4.5,
          3,
          3.2,
          3.6,
          3.4,
          4.3,
          2.7,
          3.7,
          2.7,
          2.4,
          3.1,
          2.4,
          3.5,
          3,
          2.7,
          2.7,
          2,
          2.8,
          2.8,
          2.8,
          3.1,
          3.5,
          3.3,
          4.7,
          3,
          3.2,
          3.9,
          1,
          2.5,
          3.2,
          2,
          1.4,
          3,
          3.2,
          3.2,
          2.9,
          3.2,
          2.7,
          3,
          2.5,
          3,
          2.9,
          4.3,
          2.8,
          2.5,
          2.8,
          4.2,
          2.8,
          2.9,
          3.7,
          4.2,
          3.2,
          1,
          4,
          3,
          2.6,
          3.2,
          3.5,
          3.4,
          4,
          2.2,
          3.6,
          3.7,
          2.1,
          3.5,
          3.2,
          3.5,
          2.9,
          3.4,
          3.2,
          4.3,
          3.2,
          3,
          3,
          2.9,
          3.5,
          4,
          1.7,
          2.8,
          1,
          2.8,
          3.3,
          4,
          5,
          3.1,
          2.6,
          3.1,
          1,
          3.8,
          3.9,
          3.1,
          5,
          2.8,
          3.2,
          2.9,
          3.6,
          3.1,
          4.6,
          2.5,
          3.8,
          3.2,
          3.2,
          3,
          2,
          2.1,
          3.5,
          2.6,
          2.2,
          3.2,
          2.5,
          1,
          3.5,
          2.8,
          2.3,
          2.3,
          3,
          2.5,
          3.5,
          5,
          1,
          4,
          4.5,
          3.2,
          3.1,
          5,
          4.1,
          3.4,
          3.4,
          3.8,
          3.5,
          4,
          1,
          3.5,
          4,
          3.2,
          2,
          5,
          5,
          4.8,
          3.2,
          2.2,
          2.3,
          3,
          1,
          2.7,
          1.8
         ],
         "yaxis": "y"
        },
        {
         "hovertemplate": "<b>OLS trendline</b><br>Satisfaction = 0.934369 * Effectiveness + -0.0961382<br>R<sup>2</sup>=0.749218<br><br>Effectiveness=%{x}<br>Satisfaction=%{y} <b>(trend)</b><extra></extra>",
         "legendgroup": "",
         "marker": {
          "color": "#636efa",
          "symbol": "circle"
         },
         "mode": "lines",
         "name": "",
         "showlegend": false,
         "type": "scatter",
         "x": [
          1,
          1,
          1,
          1,
          1,
          1,
          1,
          1,
          1,
          1,
          1,
          1,
          1,
          1,
          1,
          1,
          1,
          1,
          1,
          1,
          1,
          1,
          1,
          1,
          1,
          1,
          1,
          1,
          1,
          1,
          1,
          1,
          1,
          1,
          1,
          1,
          1.5,
          1.5,
          1.5,
          1.7,
          1.8,
          1.9,
          2,
          2,
          2,
          2,
          2,
          2,
          2,
          2,
          2,
          2,
          2,
          2,
          2,
          2,
          2,
          2,
          2.1,
          2.1,
          2.1,
          2.2,
          2.2,
          2.3,
          2.3,
          2.3,
          2.3,
          2.4,
          2.4,
          2.4,
          2.4,
          2.4,
          2.4,
          2.4,
          2.4,
          2.4,
          2.5,
          2.5,
          2.5,
          2.5,
          2.5,
          2.6,
          2.6,
          2.6,
          2.6,
          2.6,
          2.6,
          2.6,
          2.6,
          2.6,
          2.7,
          2.7,
          2.7,
          2.7,
          2.7,
          2.7,
          2.7,
          2.7,
          2.7,
          2.7,
          2.7,
          2.7,
          2.7,
          2.7,
          2.7,
          2.8,
          2.8,
          2.8,
          2.8,
          2.8,
          2.8,
          2.8,
          2.8,
          2.8,
          2.8,
          2.8,
          2.8,
          2.8,
          2.8,
          2.8,
          2.8,
          2.8,
          2.8,
          2.8,
          2.8,
          2.9,
          2.9,
          2.9,
          2.9,
          2.9,
          2.9,
          2.9,
          2.9,
          2.9,
          3,
          3,
          3,
          3,
          3,
          3,
          3,
          3,
          3,
          3,
          3,
          3,
          3,
          3,
          3,
          3,
          3,
          3,
          3,
          3,
          3,
          3,
          3,
          3,
          3,
          3,
          3,
          3,
          3,
          3,
          3,
          3,
          3,
          3,
          3,
          3,
          3,
          3,
          3,
          3,
          3,
          3,
          3,
          3,
          3,
          3,
          3.1,
          3.1,
          3.1,
          3.1,
          3.1,
          3.1,
          3.1,
          3.1,
          3.1,
          3.1,
          3.1,
          3.1,
          3.1,
          3.2,
          3.2,
          3.2,
          3.2,
          3.2,
          3.2,
          3.2,
          3.2,
          3.2,
          3.2,
          3.2,
          3.2,
          3.2,
          3.2,
          3.2,
          3.2,
          3.2,
          3.2,
          3.2,
          3.2,
          3.2,
          3.2,
          3.2,
          3.2,
          3.2,
          3.2,
          3.2,
          3.2,
          3.2,
          3.3,
          3.3,
          3.3,
          3.3,
          3.3,
          3.3,
          3.3,
          3.3,
          3.3,
          3.3,
          3.3,
          3.3,
          3.3,
          3.3,
          3.3,
          3.3,
          3.3,
          3.3,
          3.3,
          3.3,
          3.3,
          3.3,
          3.3,
          3.3,
          3.3,
          3.3,
          3.3,
          3.3,
          3.3,
          3.3,
          3.3,
          3.3,
          3.3,
          3.3,
          3.4,
          3.4,
          3.4,
          3.4,
          3.4,
          3.4,
          3.4,
          3.4,
          3.4,
          3.4,
          3.4,
          3.4,
          3.4,
          3.4,
          3.4,
          3.4,
          3.4,
          3.4,
          3.4,
          3.4,
          3.4,
          3.4,
          3.4,
          3.4,
          3.4,
          3.4,
          3.4,
          3.4,
          3.4,
          3.4,
          3.4,
          3.4,
          3.4,
          3.4,
          3.4,
          3.4,
          3.5,
          3.5,
          3.5,
          3.5,
          3.5,
          3.5,
          3.5,
          3.5,
          3.5,
          3.5,
          3.5,
          3.5,
          3.5,
          3.5,
          3.5,
          3.5,
          3.5,
          3.5,
          3.5,
          3.5,
          3.5,
          3.5,
          3.5,
          3.5,
          3.5,
          3.5,
          3.5,
          3.5,
          3.5,
          3.5,
          3.6,
          3.6,
          3.6,
          3.6,
          3.6,
          3.6,
          3.6,
          3.6,
          3.6,
          3.6,
          3.6,
          3.6,
          3.6,
          3.6,
          3.6,
          3.6,
          3.6,
          3.6,
          3.6,
          3.6,
          3.6,
          3.6,
          3.6,
          3.6,
          3.6,
          3.6,
          3.6,
          3.6,
          3.6,
          3.6,
          3.7,
          3.7,
          3.7,
          3.7,
          3.7,
          3.7,
          3.7,
          3.7,
          3.7,
          3.7,
          3.7,
          3.7,
          3.7,
          3.7,
          3.7,
          3.7,
          3.7,
          3.7,
          3.7,
          3.7,
          3.7,
          3.7,
          3.7,
          3.7,
          3.7,
          3.7,
          3.7,
          3.7,
          3.7,
          3.7,
          3.7,
          3.7,
          3.8,
          3.8,
          3.8,
          3.8,
          3.8,
          3.8,
          3.8,
          3.8,
          3.8,
          3.8,
          3.8,
          3.8,
          3.8,
          3.8,
          3.8,
          3.8,
          3.8,
          3.8,
          3.8,
          3.8,
          3.8,
          3.8,
          3.8,
          3.8,
          3.8,
          3.8,
          3.8,
          3.8,
          3.8,
          3.8,
          3.9,
          3.9,
          3.9,
          3.9,
          3.9,
          3.9,
          3.9,
          3.9,
          3.9,
          3.9,
          3.9,
          3.9,
          3.9,
          3.9,
          3.9,
          3.9,
          3.9,
          3.9,
          3.9,
          3.9,
          3.9,
          3.9,
          3.9,
          3.9,
          3.9,
          3.9,
          3.9,
          3.9,
          3.9,
          3.9,
          4,
          4,
          4,
          4,
          4,
          4,
          4,
          4,
          4,
          4,
          4,
          4,
          4,
          4,
          4,
          4,
          4,
          4,
          4,
          4,
          4,
          4,
          4,
          4,
          4,
          4,
          4,
          4,
          4,
          4,
          4,
          4,
          4,
          4,
          4,
          4,
          4,
          4,
          4,
          4,
          4,
          4,
          4,
          4,
          4,
          4,
          4,
          4,
          4,
          4,
          4,
          4.1,
          4.1,
          4.1,
          4.1,
          4.1,
          4.1,
          4.1,
          4.1,
          4.1,
          4.1,
          4.1,
          4.1,
          4.1,
          4.1,
          4.1,
          4.1,
          4.1,
          4.1,
          4.1,
          4.1,
          4.1,
          4.1,
          4.1,
          4.1,
          4.1,
          4.1,
          4.2,
          4.2,
          4.2,
          4.2,
          4.2,
          4.2,
          4.2,
          4.2,
          4.2,
          4.2,
          4.2,
          4.2,
          4.2,
          4.2,
          4.2,
          4.2,
          4.3,
          4.3,
          4.3,
          4.3,
          4.3,
          4.3,
          4.3,
          4.3,
          4.3,
          4.3,
          4.3,
          4.3,
          4.3,
          4.3,
          4.3,
          4.3,
          4.3,
          4.3,
          4.3,
          4.3,
          4.3,
          4.3,
          4.3,
          4.3,
          4.3,
          4.3,
          4.4,
          4.4,
          4.4,
          4.4,
          4.4,
          4.4,
          4.4,
          4.4,
          4.4,
          4.4,
          4.4,
          4.5,
          4.5,
          4.5,
          4.5,
          4.5,
          4.5,
          4.5,
          4.5,
          4.5,
          4.5,
          4.5,
          4.5,
          4.5,
          4.5,
          4.5,
          4.5,
          4.5,
          4.5,
          4.5,
          4.6,
          4.6,
          4.6,
          4.6,
          4.6,
          4.6,
          4.7,
          4.7,
          4.7,
          4.7,
          4.7,
          4.8,
          4.8,
          4.8,
          4.8,
          4.8,
          4.9,
          4.9,
          5,
          5,
          5,
          5,
          5,
          5,
          5,
          5,
          5,
          5,
          5,
          5,
          5,
          5,
          5,
          5,
          5,
          5,
          5,
          5,
          5,
          5,
          5,
          5,
          5,
          5,
          5,
          5,
          5,
          5,
          5,
          5,
          5,
          5,
          5,
          5,
          5,
          5,
          5,
          5,
          5,
          5,
          5,
          5,
          5,
          5,
          5,
          5,
          5,
          5,
          5,
          5,
          5,
          5,
          5,
          5,
          5,
          5,
          5,
          5,
          5,
          5,
          5,
          5,
          5,
          5,
          5
         ],
         "xaxis": "x",
         "y": [
          0.8382309773514047,
          0.8382309773514047,
          0.8382309773514047,
          0.8382309773514047,
          0.8382309773514047,
          0.8382309773514047,
          0.8382309773514047,
          0.8382309773514047,
          0.8382309773514047,
          0.8382309773514047,
          0.8382309773514047,
          0.8382309773514047,
          0.8382309773514047,
          0.8382309773514047,
          0.8382309773514047,
          0.8382309773514047,
          0.8382309773514047,
          0.8382309773514047,
          0.8382309773514047,
          0.8382309773514047,
          0.8382309773514047,
          0.8382309773514047,
          0.8382309773514047,
          0.8382309773514047,
          0.8382309773514047,
          0.8382309773514047,
          0.8382309773514047,
          0.8382309773514047,
          0.8382309773514047,
          0.8382309773514047,
          0.8382309773514047,
          0.8382309773514047,
          0.8382309773514047,
          0.8382309773514047,
          0.8382309773514047,
          0.8382309773514047,
          1.3054155622981582,
          1.3054155622981582,
          1.3054155622981582,
          1.4922893962768595,
          1.5857263132662103,
          1.6791632302555608,
          1.7726001472449116,
          1.7726001472449116,
          1.7726001472449116,
          1.7726001472449116,
          1.7726001472449116,
          1.7726001472449116,
          1.7726001472449116,
          1.7726001472449116,
          1.7726001472449116,
          1.7726001472449116,
          1.7726001472449116,
          1.7726001472449116,
          1.7726001472449116,
          1.7726001472449116,
          1.7726001472449116,
          1.7726001472449116,
          1.8660370642342623,
          1.8660370642342623,
          1.8660370642342623,
          1.959473981223613,
          1.959473981223613,
          2.0529108982129634,
          2.0529108982129634,
          2.0529108982129634,
          2.0529108982129634,
          2.146347815202314,
          2.146347815202314,
          2.146347815202314,
          2.146347815202314,
          2.146347815202314,
          2.146347815202314,
          2.146347815202314,
          2.146347815202314,
          2.146347815202314,
          2.239784732191665,
          2.239784732191665,
          2.239784732191665,
          2.239784732191665,
          2.239784732191665,
          2.3332216491810156,
          2.3332216491810156,
          2.3332216491810156,
          2.3332216491810156,
          2.3332216491810156,
          2.3332216491810156,
          2.3332216491810156,
          2.3332216491810156,
          2.3332216491810156,
          2.4266585661703663,
          2.4266585661703663,
          2.4266585661703663,
          2.4266585661703663,
          2.4266585661703663,
          2.4266585661703663,
          2.4266585661703663,
          2.4266585661703663,
          2.4266585661703663,
          2.4266585661703663,
          2.4266585661703663,
          2.4266585661703663,
          2.4266585661703663,
          2.4266585661703663,
          2.4266585661703663,
          2.5200954831597167,
          2.5200954831597167,
          2.5200954831597167,
          2.5200954831597167,
          2.5200954831597167,
          2.5200954831597167,
          2.5200954831597167,
          2.5200954831597167,
          2.5200954831597167,
          2.5200954831597167,
          2.5200954831597167,
          2.5200954831597167,
          2.5200954831597167,
          2.5200954831597167,
          2.5200954831597167,
          2.5200954831597167,
          2.5200954831597167,
          2.5200954831597167,
          2.5200954831597167,
          2.5200954831597167,
          2.6135324001490674,
          2.6135324001490674,
          2.6135324001490674,
          2.6135324001490674,
          2.6135324001490674,
          2.6135324001490674,
          2.6135324001490674,
          2.6135324001490674,
          2.6135324001490674,
          2.7069693171384186,
          2.7069693171384186,
          2.7069693171384186,
          2.7069693171384186,
          2.7069693171384186,
          2.7069693171384186,
          2.7069693171384186,
          2.7069693171384186,
          2.7069693171384186,
          2.7069693171384186,
          2.7069693171384186,
          2.7069693171384186,
          2.7069693171384186,
          2.7069693171384186,
          2.7069693171384186,
          2.7069693171384186,
          2.7069693171384186,
          2.7069693171384186,
          2.7069693171384186,
          2.7069693171384186,
          2.7069693171384186,
          2.7069693171384186,
          2.7069693171384186,
          2.7069693171384186,
          2.7069693171384186,
          2.7069693171384186,
          2.7069693171384186,
          2.7069693171384186,
          2.7069693171384186,
          2.7069693171384186,
          2.7069693171384186,
          2.7069693171384186,
          2.7069693171384186,
          2.7069693171384186,
          2.7069693171384186,
          2.7069693171384186,
          2.7069693171384186,
          2.7069693171384186,
          2.7069693171384186,
          2.7069693171384186,
          2.7069693171384186,
          2.7069693171384186,
          2.7069693171384186,
          2.7069693171384186,
          2.7069693171384186,
          2.7069693171384186,
          2.8004062341277693,
          2.8004062341277693,
          2.8004062341277693,
          2.8004062341277693,
          2.8004062341277693,
          2.8004062341277693,
          2.8004062341277693,
          2.8004062341277693,
          2.8004062341277693,
          2.8004062341277693,
          2.8004062341277693,
          2.8004062341277693,
          2.8004062341277693,
          2.89384315111712,
          2.89384315111712,
          2.89384315111712,
          2.89384315111712,
          2.89384315111712,
          2.89384315111712,
          2.89384315111712,
          2.89384315111712,
          2.89384315111712,
          2.89384315111712,
          2.89384315111712,
          2.89384315111712,
          2.89384315111712,
          2.89384315111712,
          2.89384315111712,
          2.89384315111712,
          2.89384315111712,
          2.89384315111712,
          2.89384315111712,
          2.89384315111712,
          2.89384315111712,
          2.89384315111712,
          2.89384315111712,
          2.89384315111712,
          2.89384315111712,
          2.89384315111712,
          2.89384315111712,
          2.89384315111712,
          2.89384315111712,
          2.9872800681064704,
          2.9872800681064704,
          2.9872800681064704,
          2.9872800681064704,
          2.9872800681064704,
          2.9872800681064704,
          2.9872800681064704,
          2.9872800681064704,
          2.9872800681064704,
          2.9872800681064704,
          2.9872800681064704,
          2.9872800681064704,
          2.9872800681064704,
          2.9872800681064704,
          2.9872800681064704,
          2.9872800681064704,
          2.9872800681064704,
          2.9872800681064704,
          2.9872800681064704,
          2.9872800681064704,
          2.9872800681064704,
          2.9872800681064704,
          2.9872800681064704,
          2.9872800681064704,
          2.9872800681064704,
          2.9872800681064704,
          2.9872800681064704,
          2.9872800681064704,
          2.9872800681064704,
          2.9872800681064704,
          2.9872800681064704,
          2.9872800681064704,
          2.9872800681064704,
          2.9872800681064704,
          3.080716985095821,
          3.080716985095821,
          3.080716985095821,
          3.080716985095821,
          3.080716985095821,
          3.080716985095821,
          3.080716985095821,
          3.080716985095821,
          3.080716985095821,
          3.080716985095821,
          3.080716985095821,
          3.080716985095821,
          3.080716985095821,
          3.080716985095821,
          3.080716985095821,
          3.080716985095821,
          3.080716985095821,
          3.080716985095821,
          3.080716985095821,
          3.080716985095821,
          3.080716985095821,
          3.080716985095821,
          3.080716985095821,
          3.080716985095821,
          3.080716985095821,
          3.080716985095821,
          3.080716985095821,
          3.080716985095821,
          3.080716985095821,
          3.080716985095821,
          3.080716985095821,
          3.080716985095821,
          3.080716985095821,
          3.080716985095821,
          3.080716985095821,
          3.080716985095821,
          3.174153902085172,
          3.174153902085172,
          3.174153902085172,
          3.174153902085172,
          3.174153902085172,
          3.174153902085172,
          3.174153902085172,
          3.174153902085172,
          3.174153902085172,
          3.174153902085172,
          3.174153902085172,
          3.174153902085172,
          3.174153902085172,
          3.174153902085172,
          3.174153902085172,
          3.174153902085172,
          3.174153902085172,
          3.174153902085172,
          3.174153902085172,
          3.174153902085172,
          3.174153902085172,
          3.174153902085172,
          3.174153902085172,
          3.174153902085172,
          3.174153902085172,
          3.174153902085172,
          3.174153902085172,
          3.174153902085172,
          3.174153902085172,
          3.174153902085172,
          3.2675908190745226,
          3.2675908190745226,
          3.2675908190745226,
          3.2675908190745226,
          3.2675908190745226,
          3.2675908190745226,
          3.2675908190745226,
          3.2675908190745226,
          3.2675908190745226,
          3.2675908190745226,
          3.2675908190745226,
          3.2675908190745226,
          3.2675908190745226,
          3.2675908190745226,
          3.2675908190745226,
          3.2675908190745226,
          3.2675908190745226,
          3.2675908190745226,
          3.2675908190745226,
          3.2675908190745226,
          3.2675908190745226,
          3.2675908190745226,
          3.2675908190745226,
          3.2675908190745226,
          3.2675908190745226,
          3.2675908190745226,
          3.2675908190745226,
          3.2675908190745226,
          3.2675908190745226,
          3.2675908190745226,
          3.3610277360638734,
          3.3610277360638734,
          3.3610277360638734,
          3.3610277360638734,
          3.3610277360638734,
          3.3610277360638734,
          3.3610277360638734,
          3.3610277360638734,
          3.3610277360638734,
          3.3610277360638734,
          3.3610277360638734,
          3.3610277360638734,
          3.3610277360638734,
          3.3610277360638734,
          3.3610277360638734,
          3.3610277360638734,
          3.3610277360638734,
          3.3610277360638734,
          3.3610277360638734,
          3.3610277360638734,
          3.3610277360638734,
          3.3610277360638734,
          3.3610277360638734,
          3.3610277360638734,
          3.3610277360638734,
          3.3610277360638734,
          3.3610277360638734,
          3.3610277360638734,
          3.3610277360638734,
          3.3610277360638734,
          3.3610277360638734,
          3.3610277360638734,
          3.4544646530532237,
          3.4544646530532237,
          3.4544646530532237,
          3.4544646530532237,
          3.4544646530532237,
          3.4544646530532237,
          3.4544646530532237,
          3.4544646530532237,
          3.4544646530532237,
          3.4544646530532237,
          3.4544646530532237,
          3.4544646530532237,
          3.4544646530532237,
          3.4544646530532237,
          3.4544646530532237,
          3.4544646530532237,
          3.4544646530532237,
          3.4544646530532237,
          3.4544646530532237,
          3.4544646530532237,
          3.4544646530532237,
          3.4544646530532237,
          3.4544646530532237,
          3.4544646530532237,
          3.4544646530532237,
          3.4544646530532237,
          3.4544646530532237,
          3.4544646530532237,
          3.4544646530532237,
          3.4544646530532237,
          3.5479015700425744,
          3.5479015700425744,
          3.5479015700425744,
          3.5479015700425744,
          3.5479015700425744,
          3.5479015700425744,
          3.5479015700425744,
          3.5479015700425744,
          3.5479015700425744,
          3.5479015700425744,
          3.5479015700425744,
          3.5479015700425744,
          3.5479015700425744,
          3.5479015700425744,
          3.5479015700425744,
          3.5479015700425744,
          3.5479015700425744,
          3.5479015700425744,
          3.5479015700425744,
          3.5479015700425744,
          3.5479015700425744,
          3.5479015700425744,
          3.5479015700425744,
          3.5479015700425744,
          3.5479015700425744,
          3.5479015700425744,
          3.5479015700425744,
          3.5479015700425744,
          3.5479015700425744,
          3.5479015700425744,
          3.641338487031925,
          3.641338487031925,
          3.641338487031925,
          3.641338487031925,
          3.641338487031925,
          3.641338487031925,
          3.641338487031925,
          3.641338487031925,
          3.641338487031925,
          3.641338487031925,
          3.641338487031925,
          3.641338487031925,
          3.641338487031925,
          3.641338487031925,
          3.641338487031925,
          3.641338487031925,
          3.641338487031925,
          3.641338487031925,
          3.641338487031925,
          3.641338487031925,
          3.641338487031925,
          3.641338487031925,
          3.641338487031925,
          3.641338487031925,
          3.641338487031925,
          3.641338487031925,
          3.641338487031925,
          3.641338487031925,
          3.641338487031925,
          3.641338487031925,
          3.641338487031925,
          3.641338487031925,
          3.641338487031925,
          3.641338487031925,
          3.641338487031925,
          3.641338487031925,
          3.641338487031925,
          3.641338487031925,
          3.641338487031925,
          3.641338487031925,
          3.641338487031925,
          3.641338487031925,
          3.641338487031925,
          3.641338487031925,
          3.641338487031925,
          3.641338487031925,
          3.641338487031925,
          3.641338487031925,
          3.641338487031925,
          3.641338487031925,
          3.641338487031925,
          3.7347754040212755,
          3.7347754040212755,
          3.7347754040212755,
          3.7347754040212755,
          3.7347754040212755,
          3.7347754040212755,
          3.7347754040212755,
          3.7347754040212755,
          3.7347754040212755,
          3.7347754040212755,
          3.7347754040212755,
          3.7347754040212755,
          3.7347754040212755,
          3.7347754040212755,
          3.7347754040212755,
          3.7347754040212755,
          3.7347754040212755,
          3.7347754040212755,
          3.7347754040212755,
          3.7347754040212755,
          3.7347754040212755,
          3.7347754040212755,
          3.7347754040212755,
          3.7347754040212755,
          3.7347754040212755,
          3.7347754040212755,
          3.8282123210106267,
          3.8282123210106267,
          3.8282123210106267,
          3.8282123210106267,
          3.8282123210106267,
          3.8282123210106267,
          3.8282123210106267,
          3.8282123210106267,
          3.8282123210106267,
          3.8282123210106267,
          3.8282123210106267,
          3.8282123210106267,
          3.8282123210106267,
          3.8282123210106267,
          3.8282123210106267,
          3.8282123210106267,
          3.9216492379999774,
          3.9216492379999774,
          3.9216492379999774,
          3.9216492379999774,
          3.9216492379999774,
          3.9216492379999774,
          3.9216492379999774,
          3.9216492379999774,
          3.9216492379999774,
          3.9216492379999774,
          3.9216492379999774,
          3.9216492379999774,
          3.9216492379999774,
          3.9216492379999774,
          3.9216492379999774,
          3.9216492379999774,
          3.9216492379999774,
          3.9216492379999774,
          3.9216492379999774,
          3.9216492379999774,
          3.9216492379999774,
          3.9216492379999774,
          3.9216492379999774,
          3.9216492379999774,
          3.9216492379999774,
          3.9216492379999774,
          4.015086154989328,
          4.015086154989328,
          4.015086154989328,
          4.015086154989328,
          4.015086154989328,
          4.015086154989328,
          4.015086154989328,
          4.015086154989328,
          4.015086154989328,
          4.015086154989328,
          4.015086154989328,
          4.108523071978679,
          4.108523071978679,
          4.108523071978679,
          4.108523071978679,
          4.108523071978679,
          4.108523071978679,
          4.108523071978679,
          4.108523071978679,
          4.108523071978679,
          4.108523071978679,
          4.108523071978679,
          4.108523071978679,
          4.108523071978679,
          4.108523071978679,
          4.108523071978679,
          4.108523071978679,
          4.108523071978679,
          4.108523071978679,
          4.108523071978679,
          4.201959988968029,
          4.201959988968029,
          4.201959988968029,
          4.201959988968029,
          4.201959988968029,
          4.201959988968029,
          4.29539690595738,
          4.29539690595738,
          4.29539690595738,
          4.29539690595738,
          4.29539690595738,
          4.38883382294673,
          4.38883382294673,
          4.38883382294673,
          4.38883382294673,
          4.38883382294673,
          4.482270739936082,
          4.482270739936082,
          4.575707656925432,
          4.575707656925432,
          4.575707656925432,
          4.575707656925432,
          4.575707656925432,
          4.575707656925432,
          4.575707656925432,
          4.575707656925432,
          4.575707656925432,
          4.575707656925432,
          4.575707656925432,
          4.575707656925432,
          4.575707656925432,
          4.575707656925432,
          4.575707656925432,
          4.575707656925432,
          4.575707656925432,
          4.575707656925432,
          4.575707656925432,
          4.575707656925432,
          4.575707656925432,
          4.575707656925432,
          4.575707656925432,
          4.575707656925432,
          4.575707656925432,
          4.575707656925432,
          4.575707656925432,
          4.575707656925432,
          4.575707656925432,
          4.575707656925432,
          4.575707656925432,
          4.575707656925432,
          4.575707656925432,
          4.575707656925432,
          4.575707656925432,
          4.575707656925432,
          4.575707656925432,
          4.575707656925432,
          4.575707656925432,
          4.575707656925432,
          4.575707656925432,
          4.575707656925432,
          4.575707656925432,
          4.575707656925432,
          4.575707656925432,
          4.575707656925432,
          4.575707656925432,
          4.575707656925432,
          4.575707656925432,
          4.575707656925432,
          4.575707656925432,
          4.575707656925432,
          4.575707656925432,
          4.575707656925432,
          4.575707656925432,
          4.575707656925432,
          4.575707656925432,
          4.575707656925432,
          4.575707656925432,
          4.575707656925432,
          4.575707656925432,
          4.575707656925432,
          4.575707656925432,
          4.575707656925432,
          4.575707656925432,
          4.575707656925432,
          4.575707656925432
         ],
         "yaxis": "y"
        }
       ],
       "layout": {
        "legend": {
         "itemsizing": "constant",
         "tracegroupgap": 0
        },
        "template": {
         "data": {
          "bar": [
           {
            "error_x": {
             "color": "#2a3f5f"
            },
            "error_y": {
             "color": "#2a3f5f"
            },
            "marker": {
             "line": {
              "color": "#E5ECF6",
              "width": 0.5
             },
             "pattern": {
              "fillmode": "overlay",
              "size": 10,
              "solidity": 0.2
             }
            },
            "type": "bar"
           }
          ],
          "barpolar": [
           {
            "marker": {
             "line": {
              "color": "#E5ECF6",
              "width": 0.5
             },
             "pattern": {
              "fillmode": "overlay",
              "size": 10,
              "solidity": 0.2
             }
            },
            "type": "barpolar"
           }
          ],
          "carpet": [
           {
            "aaxis": {
             "endlinecolor": "#2a3f5f",
             "gridcolor": "white",
             "linecolor": "white",
             "minorgridcolor": "white",
             "startlinecolor": "#2a3f5f"
            },
            "baxis": {
             "endlinecolor": "#2a3f5f",
             "gridcolor": "white",
             "linecolor": "white",
             "minorgridcolor": "white",
             "startlinecolor": "#2a3f5f"
            },
            "type": "carpet"
           }
          ],
          "choropleth": [
           {
            "colorbar": {
             "outlinewidth": 0,
             "ticks": ""
            },
            "type": "choropleth"
           }
          ],
          "contour": [
           {
            "colorbar": {
             "outlinewidth": 0,
             "ticks": ""
            },
            "colorscale": [
             [
              0,
              "#0d0887"
             ],
             [
              0.1111111111111111,
              "#46039f"
             ],
             [
              0.2222222222222222,
              "#7201a8"
             ],
             [
              0.3333333333333333,
              "#9c179e"
             ],
             [
              0.4444444444444444,
              "#bd3786"
             ],
             [
              0.5555555555555556,
              "#d8576b"
             ],
             [
              0.6666666666666666,
              "#ed7953"
             ],
             [
              0.7777777777777778,
              "#fb9f3a"
             ],
             [
              0.8888888888888888,
              "#fdca26"
             ],
             [
              1,
              "#f0f921"
             ]
            ],
            "type": "contour"
           }
          ],
          "contourcarpet": [
           {
            "colorbar": {
             "outlinewidth": 0,
             "ticks": ""
            },
            "type": "contourcarpet"
           }
          ],
          "heatmap": [
           {
            "colorbar": {
             "outlinewidth": 0,
             "ticks": ""
            },
            "colorscale": [
             [
              0,
              "#0d0887"
             ],
             [
              0.1111111111111111,
              "#46039f"
             ],
             [
              0.2222222222222222,
              "#7201a8"
             ],
             [
              0.3333333333333333,
              "#9c179e"
             ],
             [
              0.4444444444444444,
              "#bd3786"
             ],
             [
              0.5555555555555556,
              "#d8576b"
             ],
             [
              0.6666666666666666,
              "#ed7953"
             ],
             [
              0.7777777777777778,
              "#fb9f3a"
             ],
             [
              0.8888888888888888,
              "#fdca26"
             ],
             [
              1,
              "#f0f921"
             ]
            ],
            "type": "heatmap"
           }
          ],
          "heatmapgl": [
           {
            "colorbar": {
             "outlinewidth": 0,
             "ticks": ""
            },
            "colorscale": [
             [
              0,
              "#0d0887"
             ],
             [
              0.1111111111111111,
              "#46039f"
             ],
             [
              0.2222222222222222,
              "#7201a8"
             ],
             [
              0.3333333333333333,
              "#9c179e"
             ],
             [
              0.4444444444444444,
              "#bd3786"
             ],
             [
              0.5555555555555556,
              "#d8576b"
             ],
             [
              0.6666666666666666,
              "#ed7953"
             ],
             [
              0.7777777777777778,
              "#fb9f3a"
             ],
             [
              0.8888888888888888,
              "#fdca26"
             ],
             [
              1,
              "#f0f921"
             ]
            ],
            "type": "heatmapgl"
           }
          ],
          "histogram": [
           {
            "marker": {
             "pattern": {
              "fillmode": "overlay",
              "size": 10,
              "solidity": 0.2
             }
            },
            "type": "histogram"
           }
          ],
          "histogram2d": [
           {
            "colorbar": {
             "outlinewidth": 0,
             "ticks": ""
            },
            "colorscale": [
             [
              0,
              "#0d0887"
             ],
             [
              0.1111111111111111,
              "#46039f"
             ],
             [
              0.2222222222222222,
              "#7201a8"
             ],
             [
              0.3333333333333333,
              "#9c179e"
             ],
             [
              0.4444444444444444,
              "#bd3786"
             ],
             [
              0.5555555555555556,
              "#d8576b"
             ],
             [
              0.6666666666666666,
              "#ed7953"
             ],
             [
              0.7777777777777778,
              "#fb9f3a"
             ],
             [
              0.8888888888888888,
              "#fdca26"
             ],
             [
              1,
              "#f0f921"
             ]
            ],
            "type": "histogram2d"
           }
          ],
          "histogram2dcontour": [
           {
            "colorbar": {
             "outlinewidth": 0,
             "ticks": ""
            },
            "colorscale": [
             [
              0,
              "#0d0887"
             ],
             [
              0.1111111111111111,
              "#46039f"
             ],
             [
              0.2222222222222222,
              "#7201a8"
             ],
             [
              0.3333333333333333,
              "#9c179e"
             ],
             [
              0.4444444444444444,
              "#bd3786"
             ],
             [
              0.5555555555555556,
              "#d8576b"
             ],
             [
              0.6666666666666666,
              "#ed7953"
             ],
             [
              0.7777777777777778,
              "#fb9f3a"
             ],
             [
              0.8888888888888888,
              "#fdca26"
             ],
             [
              1,
              "#f0f921"
             ]
            ],
            "type": "histogram2dcontour"
           }
          ],
          "mesh3d": [
           {
            "colorbar": {
             "outlinewidth": 0,
             "ticks": ""
            },
            "type": "mesh3d"
           }
          ],
          "parcoords": [
           {
            "line": {
             "colorbar": {
              "outlinewidth": 0,
              "ticks": ""
             }
            },
            "type": "parcoords"
           }
          ],
          "pie": [
           {
            "automargin": true,
            "type": "pie"
           }
          ],
          "scatter": [
           {
            "fillpattern": {
             "fillmode": "overlay",
             "size": 10,
             "solidity": 0.2
            },
            "type": "scatter"
           }
          ],
          "scatter3d": [
           {
            "line": {
             "colorbar": {
              "outlinewidth": 0,
              "ticks": ""
             }
            },
            "marker": {
             "colorbar": {
              "outlinewidth": 0,
              "ticks": ""
             }
            },
            "type": "scatter3d"
           }
          ],
          "scattercarpet": [
           {
            "marker": {
             "colorbar": {
              "outlinewidth": 0,
              "ticks": ""
             }
            },
            "type": "scattercarpet"
           }
          ],
          "scattergeo": [
           {
            "marker": {
             "colorbar": {
              "outlinewidth": 0,
              "ticks": ""
             }
            },
            "type": "scattergeo"
           }
          ],
          "scattergl": [
           {
            "marker": {
             "colorbar": {
              "outlinewidth": 0,
              "ticks": ""
             }
            },
            "type": "scattergl"
           }
          ],
          "scattermapbox": [
           {
            "marker": {
             "colorbar": {
              "outlinewidth": 0,
              "ticks": ""
             }
            },
            "type": "scattermapbox"
           }
          ],
          "scatterpolar": [
           {
            "marker": {
             "colorbar": {
              "outlinewidth": 0,
              "ticks": ""
             }
            },
            "type": "scatterpolar"
           }
          ],
          "scatterpolargl": [
           {
            "marker": {
             "colorbar": {
              "outlinewidth": 0,
              "ticks": ""
             }
            },
            "type": "scatterpolargl"
           }
          ],
          "scatterternary": [
           {
            "marker": {
             "colorbar": {
              "outlinewidth": 0,
              "ticks": ""
             }
            },
            "type": "scatterternary"
           }
          ],
          "surface": [
           {
            "colorbar": {
             "outlinewidth": 0,
             "ticks": ""
            },
            "colorscale": [
             [
              0,
              "#0d0887"
             ],
             [
              0.1111111111111111,
              "#46039f"
             ],
             [
              0.2222222222222222,
              "#7201a8"
             ],
             [
              0.3333333333333333,
              "#9c179e"
             ],
             [
              0.4444444444444444,
              "#bd3786"
             ],
             [
              0.5555555555555556,
              "#d8576b"
             ],
             [
              0.6666666666666666,
              "#ed7953"
             ],
             [
              0.7777777777777778,
              "#fb9f3a"
             ],
             [
              0.8888888888888888,
              "#fdca26"
             ],
             [
              1,
              "#f0f921"
             ]
            ],
            "type": "surface"
           }
          ],
          "table": [
           {
            "cells": {
             "fill": {
              "color": "#EBF0F8"
             },
             "line": {
              "color": "white"
             }
            },
            "header": {
             "fill": {
              "color": "#C8D4E3"
             },
             "line": {
              "color": "white"
             }
            },
            "type": "table"
           }
          ]
         },
         "layout": {
          "annotationdefaults": {
           "arrowcolor": "#2a3f5f",
           "arrowhead": 0,
           "arrowwidth": 1
          },
          "autotypenumbers": "strict",
          "coloraxis": {
           "colorbar": {
            "outlinewidth": 0,
            "ticks": ""
           }
          },
          "colorscale": {
           "diverging": [
            [
             0,
             "#8e0152"
            ],
            [
             0.1,
             "#c51b7d"
            ],
            [
             0.2,
             "#de77ae"
            ],
            [
             0.3,
             "#f1b6da"
            ],
            [
             0.4,
             "#fde0ef"
            ],
            [
             0.5,
             "#f7f7f7"
            ],
            [
             0.6,
             "#e6f5d0"
            ],
            [
             0.7,
             "#b8e186"
            ],
            [
             0.8,
             "#7fbc41"
            ],
            [
             0.9,
             "#4d9221"
            ],
            [
             1,
             "#276419"
            ]
           ],
           "sequential": [
            [
             0,
             "#0d0887"
            ],
            [
             0.1111111111111111,
             "#46039f"
            ],
            [
             0.2222222222222222,
             "#7201a8"
            ],
            [
             0.3333333333333333,
             "#9c179e"
            ],
            [
             0.4444444444444444,
             "#bd3786"
            ],
            [
             0.5555555555555556,
             "#d8576b"
            ],
            [
             0.6666666666666666,
             "#ed7953"
            ],
            [
             0.7777777777777778,
             "#fb9f3a"
            ],
            [
             0.8888888888888888,
             "#fdca26"
            ],
            [
             1,
             "#f0f921"
            ]
           ],
           "sequentialminus": [
            [
             0,
             "#0d0887"
            ],
            [
             0.1111111111111111,
             "#46039f"
            ],
            [
             0.2222222222222222,
             "#7201a8"
            ],
            [
             0.3333333333333333,
             "#9c179e"
            ],
            [
             0.4444444444444444,
             "#bd3786"
            ],
            [
             0.5555555555555556,
             "#d8576b"
            ],
            [
             0.6666666666666666,
             "#ed7953"
            ],
            [
             0.7777777777777778,
             "#fb9f3a"
            ],
            [
             0.8888888888888888,
             "#fdca26"
            ],
            [
             1,
             "#f0f921"
            ]
           ]
          },
          "colorway": [
           "#636efa",
           "#EF553B",
           "#00cc96",
           "#ab63fa",
           "#FFA15A",
           "#19d3f3",
           "#FF6692",
           "#B6E880",
           "#FF97FF",
           "#FECB52"
          ],
          "font": {
           "color": "#2a3f5f"
          },
          "geo": {
           "bgcolor": "white",
           "lakecolor": "white",
           "landcolor": "#E5ECF6",
           "showlakes": true,
           "showland": true,
           "subunitcolor": "white"
          },
          "hoverlabel": {
           "align": "left"
          },
          "hovermode": "closest",
          "mapbox": {
           "style": "light"
          },
          "paper_bgcolor": "white",
          "plot_bgcolor": "#E5ECF6",
          "polar": {
           "angularaxis": {
            "gridcolor": "white",
            "linecolor": "white",
            "ticks": ""
           },
           "bgcolor": "#E5ECF6",
           "radialaxis": {
            "gridcolor": "white",
            "linecolor": "white",
            "ticks": ""
           }
          },
          "scene": {
           "xaxis": {
            "backgroundcolor": "#E5ECF6",
            "gridcolor": "white",
            "gridwidth": 2,
            "linecolor": "white",
            "showbackground": true,
            "ticks": "",
            "zerolinecolor": "white"
           },
           "yaxis": {
            "backgroundcolor": "#E5ECF6",
            "gridcolor": "white",
            "gridwidth": 2,
            "linecolor": "white",
            "showbackground": true,
            "ticks": "",
            "zerolinecolor": "white"
           },
           "zaxis": {
            "backgroundcolor": "#E5ECF6",
            "gridcolor": "white",
            "gridwidth": 2,
            "linecolor": "white",
            "showbackground": true,
            "ticks": "",
            "zerolinecolor": "white"
           }
          },
          "shapedefaults": {
           "line": {
            "color": "#2a3f5f"
           }
          },
          "ternary": {
           "aaxis": {
            "gridcolor": "white",
            "linecolor": "white",
            "ticks": ""
           },
           "baxis": {
            "gridcolor": "white",
            "linecolor": "white",
            "ticks": ""
           },
           "bgcolor": "#E5ECF6",
           "caxis": {
            "gridcolor": "white",
            "linecolor": "white",
            "ticks": ""
           }
          },
          "title": {
           "x": 0.05
          },
          "xaxis": {
           "automargin": true,
           "gridcolor": "white",
           "linecolor": "white",
           "ticks": "",
           "title": {
            "standoff": 15
           },
           "zerolinecolor": "white",
           "zerolinewidth": 2
          },
          "yaxis": {
           "automargin": true,
           "gridcolor": "white",
           "linecolor": "white",
           "ticks": "",
           "title": {
            "standoff": 15
           },
           "zerolinecolor": "white",
           "zerolinewidth": 2
          }
         }
        },
        "title": {
         "text": "Relationship Between Effectiveness and Satisfaction"
        },
        "xaxis": {
         "anchor": "y",
         "domain": [
          0,
          1
         ],
         "title": {
          "text": "Effectiveness"
         }
        },
        "yaxis": {
         "anchor": "x",
         "domain": [
          0,
          1
         ],
         "title": {
          "text": "Satisfaction"
         }
        }
       }
      }
     },
     "metadata": {},
     "output_type": "display_data"
    }
   ],
   "source": [
    "figure = px.scatter(data_frame = df, \n",
    "                    x=\"Effectiveness\",\n",
    "                    y=\"Satisfaction\", \n",
    "                    size=\"Satisfaction\", \n",
    "                    trendline=\"ols\",\n",
    "                    title = \"Relationship Between Effectiveness and Satisfaction\")\n",
    "figure.show()"
   ]
  },
  {
   "cell_type": "code",
   "execution_count": 138,
   "metadata": {},
   "outputs": [
    {
     "data": {
      "text/html": [
       "<div>\n",
       "<style scoped>\n",
       "    .dataframe tbody tr th:only-of-type {\n",
       "        vertical-align: middle;\n",
       "    }\n",
       "\n",
       "    .dataframe tbody tr th {\n",
       "        vertical-align: top;\n",
       "    }\n",
       "\n",
       "    .dataframe thead th {\n",
       "        text-align: right;\n",
       "    }\n",
       "</style>\n",
       "<table border=\"1\" class=\"dataframe\">\n",
       "  <thead>\n",
       "    <tr style=\"text-align: right;\">\n",
       "      <th></th>\n",
       "      <th>Condition</th>\n",
       "      <th>Generic_Name</th>\n",
       "      <th>Ease_Of_Use</th>\n",
       "      <th>Effectiveness</th>\n",
       "      <th>Dosage_Form</th>\n",
       "      <th>Indication</th>\n",
       "      <th>Price</th>\n",
       "      <th>Reviews</th>\n",
       "      <th>Satisfaction</th>\n",
       "      <th>Prescription_Type</th>\n",
       "    </tr>\n",
       "  </thead>\n",
       "  <tbody>\n",
       "    <tr>\n",
       "      <th>0</th>\n",
       "      <td>Acute Bacterial Sinusitis</td>\n",
       "      <td>Amoxicillin</td>\n",
       "      <td>3.9</td>\n",
       "      <td>3.7</td>\n",
       "      <td>Capsule</td>\n",
       "      <td>On Label</td>\n",
       "      <td>12.6</td>\n",
       "      <td>86.3</td>\n",
       "      <td>3.2</td>\n",
       "      <td>RX</td>\n",
       "    </tr>\n",
       "    <tr>\n",
       "      <th>1</th>\n",
       "      <td>Acute Bacterial Sinusitis</td>\n",
       "      <td>Amoxicillin-Pot Clavulanate</td>\n",
       "      <td>3.5</td>\n",
       "      <td>3.3</td>\n",
       "      <td>Liquid (Drink)</td>\n",
       "      <td>Off Label</td>\n",
       "      <td>287.4</td>\n",
       "      <td>43.0</td>\n",
       "      <td>2.6</td>\n",
       "      <td>RX</td>\n",
       "    </tr>\n",
       "    <tr>\n",
       "      <th>2</th>\n",
       "      <td>Acute Bacterial Sinusitis</td>\n",
       "      <td>Amoxicillin-Pot Clavulanate</td>\n",
       "      <td>3.1</td>\n",
       "      <td>3.0</td>\n",
       "      <td>Tablet</td>\n",
       "      <td>On Label</td>\n",
       "      <td>70.6</td>\n",
       "      <td>267.3</td>\n",
       "      <td>2.2</td>\n",
       "      <td>RX</td>\n",
       "    </tr>\n",
       "    <tr>\n",
       "      <th>3</th>\n",
       "      <td>Acute Bacterial Sinusitis</td>\n",
       "      <td>Ampicillin</td>\n",
       "      <td>2.0</td>\n",
       "      <td>3.0</td>\n",
       "      <td>Capsule</td>\n",
       "      <td>On Label</td>\n",
       "      <td>12.6</td>\n",
       "      <td>1.0</td>\n",
       "      <td>1.0</td>\n",
       "      <td>RX</td>\n",
       "    </tr>\n",
       "    <tr>\n",
       "      <th>4</th>\n",
       "      <td>Acute Bacterial Sinusitis</td>\n",
       "      <td>Ampicillin</td>\n",
       "      <td>3.2</td>\n",
       "      <td>3.0</td>\n",
       "      <td>Tablet</td>\n",
       "      <td>On Label</td>\n",
       "      <td>125.2</td>\n",
       "      <td>15.0</td>\n",
       "      <td>3.0</td>\n",
       "      <td>RX</td>\n",
       "    </tr>\n",
       "    <tr>\n",
       "      <th>5</th>\n",
       "      <td>Acute Bacterial Sinusitis</td>\n",
       "      <td>Ampicillin Sodium</td>\n",
       "      <td>3.0</td>\n",
       "      <td>3.0</td>\n",
       "      <td>Tablet</td>\n",
       "      <td>Off Label</td>\n",
       "      <td>143.2</td>\n",
       "      <td>1.0</td>\n",
       "      <td>3.0</td>\n",
       "      <td>RX</td>\n",
       "    </tr>\n",
       "    <tr>\n",
       "      <th>6</th>\n",
       "      <td>Acute Bacterial Sinusitis</td>\n",
       "      <td>Azithromycin</td>\n",
       "      <td>4.1</td>\n",
       "      <td>3.3</td>\n",
       "      <td>Tablet</td>\n",
       "      <td>On Label</td>\n",
       "      <td>32.1</td>\n",
       "      <td>490.0</td>\n",
       "      <td>2.8</td>\n",
       "      <td>RX</td>\n",
       "    </tr>\n",
       "    <tr>\n",
       "      <th>7</th>\n",
       "      <td>Acute Bacterial Sinusitis</td>\n",
       "      <td>Clarithromycin</td>\n",
       "      <td>3.6</td>\n",
       "      <td>3.5</td>\n",
       "      <td>Tablet</td>\n",
       "      <td>On Label</td>\n",
       "      <td>99.5</td>\n",
       "      <td>141.6</td>\n",
       "      <td>2.8</td>\n",
       "      <td>RX</td>\n",
       "    </tr>\n",
       "    <tr>\n",
       "      <th>8</th>\n",
       "      <td>Acute Bacterial Sinusitis</td>\n",
       "      <td>Erythromycin</td>\n",
       "      <td>2.9</td>\n",
       "      <td>3.3</td>\n",
       "      <td>Tablet</td>\n",
       "      <td>On Label</td>\n",
       "      <td>125.2</td>\n",
       "      <td>41.0</td>\n",
       "      <td>2.5</td>\n",
       "      <td>RX</td>\n",
       "    </tr>\n",
       "    <tr>\n",
       "      <th>9</th>\n",
       "      <td>Acute Bacterial Sinusitis</td>\n",
       "      <td>Erythromycin Ethylsuccinate</td>\n",
       "      <td>2.9</td>\n",
       "      <td>3.3</td>\n",
       "      <td>Liquid (Drink)</td>\n",
       "      <td>On Label</td>\n",
       "      <td>332.6</td>\n",
       "      <td>3.7</td>\n",
       "      <td>3.2</td>\n",
       "      <td>RX</td>\n",
       "    </tr>\n",
       "  </tbody>\n",
       "</table>\n",
       "</div>"
      ],
      "text/plain": [
       "                   Condition                 Generic_Name  Ease_Of_Use  \\\n",
       "0  Acute Bacterial Sinusitis                  Amoxicillin          3.9   \n",
       "1  Acute Bacterial Sinusitis  Amoxicillin-Pot Clavulanate          3.5   \n",
       "2  Acute Bacterial Sinusitis  Amoxicillin-Pot Clavulanate          3.1   \n",
       "3  Acute Bacterial Sinusitis                   Ampicillin          2.0   \n",
       "4  Acute Bacterial Sinusitis                   Ampicillin          3.2   \n",
       "5  Acute Bacterial Sinusitis            Ampicillin Sodium          3.0   \n",
       "6  Acute Bacterial Sinusitis                 Azithromycin          4.1   \n",
       "7  Acute Bacterial Sinusitis               Clarithromycin          3.6   \n",
       "8  Acute Bacterial Sinusitis                 Erythromycin          2.9   \n",
       "9  Acute Bacterial Sinusitis  Erythromycin Ethylsuccinate          2.9   \n",
       "\n",
       "   Effectiveness     Dosage_Form Indication  Price  Reviews  Satisfaction  \\\n",
       "0            3.7         Capsule   On Label   12.6     86.3           3.2   \n",
       "1            3.3  Liquid (Drink)  Off Label  287.4     43.0           2.6   \n",
       "2            3.0          Tablet   On Label   70.6    267.3           2.2   \n",
       "3            3.0         Capsule   On Label   12.6      1.0           1.0   \n",
       "4            3.0          Tablet   On Label  125.2     15.0           3.0   \n",
       "5            3.0          Tablet  Off Label  143.2      1.0           3.0   \n",
       "6            3.3          Tablet   On Label   32.1    490.0           2.8   \n",
       "7            3.5          Tablet   On Label   99.5    141.6           2.8   \n",
       "8            3.3          Tablet   On Label  125.2     41.0           2.5   \n",
       "9            3.3  Liquid (Drink)   On Label  332.6      3.7           3.2   \n",
       "\n",
       "  Prescription_Type  \n",
       "0                RX  \n",
       "1                RX  \n",
       "2                RX  \n",
       "3                RX  \n",
       "4                RX  \n",
       "5                RX  \n",
       "6                RX  \n",
       "7                RX  \n",
       "8                RX  \n",
       "9                RX  "
      ]
     },
     "execution_count": 138,
     "metadata": {},
     "output_type": "execute_result"
    }
   ],
   "source": [
    "df.head(10)"
   ]
  },
  {
   "cell_type": "markdown",
   "metadata": {},
   "source": [
    "What is the most expensive generic drugs?"
   ]
  },
  {
   "cell_type": "code",
   "execution_count": 157,
   "metadata": {},
   "outputs": [],
   "source": [
    "drug_Price= df.groupby(by='Generic_Name')['Price'].sum()"
   ]
  },
  {
   "cell_type": "code",
   "execution_count": 158,
   "metadata": {},
   "outputs": [],
   "source": [
    "sorted_drug_Price= drug_Price.sort_values(ascending=False)"
   ]
  },
  {
   "cell_type": "code",
   "execution_count": 159,
   "metadata": {},
   "outputs": [
    {
     "data": {
      "text/plain": [
       "Generic_Name\n",
       "Niacin                            4536.1\n",
       "Evolocumab                        2672.2\n",
       "Oxaliplatin                       2049.6\n",
       "Lovastatin                        1632.6\n",
       "Mitomycin                         1516.1\n",
       "Alirocumab                        1388.0\n",
       "Acyclovir-Hydrocortisone          1379.9\n",
       "Hydrocortisone Probutate          1265.0\n",
       "Erythromycin Ethylsuccinate        997.8\n",
       "Ibuprofen-Famotidine               997.4\n",
       "Demeclocycline                     881.0\n",
       "Nitrofurantoin                     879.0\n",
       "Modafinil                          850.0\n",
       "Mupirocin                          836.0\n",
       "Paliperidone                       827.0\n",
       "Aripiprazole                       827.0\n",
       "Metoprolol Su-Hydrochlorothiaz     811.0\n",
       "Cefuroxime Sodium                  778.7\n",
       "Esomeprazole Magnesium             711.0\n",
       "Goserelin                          701.2\n",
       "Name: Price, dtype: float64"
      ]
     },
     "execution_count": 159,
     "metadata": {},
     "output_type": "execute_result"
    }
   ],
   "source": [
    "sorted_drug_Price.head(20)"
   ]
  },
  {
   "cell_type": "markdown",
   "metadata": {},
   "source": [
    "What is the most Commercially effective dosage form in Pharmaceutical industry?"
   ]
  },
  {
   "cell_type": "code",
   "execution_count": 160,
   "metadata": {},
   "outputs": [],
   "source": [
    "Dosage_Form_Price= df.groupby(by='Dosage_Form')['Price'].sum()\n",
    "Sorted_Dosage_Form_Price= Dosage_Form_Price.sort_values(ascending=False)"
   ]
  },
  {
   "cell_type": "code",
   "execution_count": 163,
   "metadata": {},
   "outputs": [
    {
     "data": {
      "text/plain": [
       "Dosage_Form\n",
       "Tablet            29077.9\n",
       "Injection         17864.1\n",
       "Cream              9990.1\n",
       "Capsule            9189.7\n",
       "Liquid (Drink)     7517.3\n",
       "Name: Price, dtype: float64"
      ]
     },
     "execution_count": 163,
     "metadata": {},
     "output_type": "execute_result"
    }
   ],
   "source": [
    "Sorted_Dosage_Form_Price.head()"
   ]
  },
  {
   "cell_type": "markdown",
   "metadata": {},
   "source": [
    "What is the trending medical condition in Pharmaceutical industry?"
   ]
  },
  {
   "cell_type": "code",
   "execution_count": 164,
   "metadata": {},
   "outputs": [],
   "source": [
    "Condition_Price= df.groupby(by='Condition')['Price'].sum()\n",
    "Sorted_Condition_Price= Condition_Price.sort_values(ascending=False)"
   ]
  },
  {
   "cell_type": "code",
   "execution_count": 166,
   "metadata": {},
   "outputs": [
    {
     "data": {
      "text/plain": [
       "Condition\n",
       "Hypercholesterolemia                         11297.6\n",
       "Hypertension                                 10053.7\n",
       "Atopic Dermatitis                             9218.2\n",
       "Bacterial Urinary Tract Infection             6271.0\n",
       "Gastroesophageal Reflux Disease               4455.5\n",
       "Adenocarcinoma Of Pancreas                    4148.9\n",
       "Gout                                          3567.9\n",
       "Prevention Of Cerebrovascular Accident        2613.5\n",
       "Hemorrhoids                                   2482.3\n",
       "Pharyngitis Due To Streptococcus Pyogenes     2339.8\n",
       "Endometriosis                                 2141.2\n",
       "Fibromyalgia                                  1992.5\n",
       "Genital Herpes Simplex                        1813.7\n",
       "Depression                                    1798.4\n",
       "Acute Bacterial Sinusitis                     1725.2\n",
       "Infantile Autism                              1693.5\n",
       "Bacterial Conjunctivitis                      1601.5\n",
       "Sleepiness Due To Obstructive Sleep Apnea     1506.1\n",
       "Fever                                         1042.4\n",
       "Scabies                                       1037.0\n",
       "Name: Price, dtype: float64"
      ]
     },
     "execution_count": 166,
     "metadata": {},
     "output_type": "execute_result"
    }
   ],
   "source": [
    "Sorted_Condition_Price.head(20)"
   ]
  },
  {
   "cell_type": "markdown",
   "metadata": {},
   "source": [
    "*****Categorization and analysis of some columns*****"
   ]
  },
  {
   "cell_type": "code",
   "execution_count": 169,
   "metadata": {},
   "outputs": [],
   "source": [
    "#Categorizing the Column of Effectiveness\n",
    "\n",
    "Effect = []\n",
    "\n",
    "for score in df['Effectiveness']:\n",
    "    if score < 2.0 : Effect.append('Uneffective')\n",
    "    elif score < 3.5 : Effect.append('Partly Effective')\n",
    "    elif score < 4.0 : Effect.append('Effective')\n",
    "    elif score <= 5.0 : Effect.append('Very Effective')\n",
    "\n",
    "#Making a New Column\n",
    "df['level_of_effectiveness'] = Effect"
   ]
  },
  {
   "cell_type": "code",
   "execution_count": 171,
   "metadata": {},
   "outputs": [],
   "source": [
    "#Categorizing the Column of Ease_Of_Use\n",
    "\n",
    "Ease = []\n",
    "\n",
    "for easy in df['Ease_Of_Use']:\n",
    "    if easy < 2.0 : Ease.append('Very difficult')\n",
    "    elif easy < 3.5 : Ease.append('Difficult')\n",
    "    elif easy < 4.0 : Ease.append('Easy')\n",
    "    elif easy <= 5.0 : Ease.append('Very Easy')\n",
    "\n",
    "#Making a New Column\n",
    "df['level_of_difficulty'] = Ease"
   ]
  },
  {
   "cell_type": "code",
   "execution_count": 183,
   "metadata": {},
   "outputs": [],
   "source": [
    "#Categorizing the Column of Satisfaction\n",
    "\n",
    "Satisf = []\n",
    "\n",
    "for sate in df['Satisfaction']:\n",
    "    if sate < 1.0 : Satisf.append('Very Unsatisfied')\n",
    "    elif sate < 2.5: Satisf.append('Unsatisfied')\n",
    "    elif sate < 4: Satisf.append('Satisfied')\n",
    "    elif sate <= 5.0 : Satisf.append('Very Satisfied')\n",
    "\n",
    "#Making a New Column\n",
    "df['level_of_Satisfaction'] = Satisf"
   ]
  },
  {
   "cell_type": "code",
   "execution_count": 184,
   "metadata": {},
   "outputs": [
    {
     "data": {
      "text/html": [
       "<div>\n",
       "<style scoped>\n",
       "    .dataframe tbody tr th:only-of-type {\n",
       "        vertical-align: middle;\n",
       "    }\n",
       "\n",
       "    .dataframe tbody tr th {\n",
       "        vertical-align: top;\n",
       "    }\n",
       "\n",
       "    .dataframe thead th {\n",
       "        text-align: right;\n",
       "    }\n",
       "</style>\n",
       "<table border=\"1\" class=\"dataframe\">\n",
       "  <thead>\n",
       "    <tr style=\"text-align: right;\">\n",
       "      <th></th>\n",
       "      <th>Condition</th>\n",
       "      <th>Generic_Name</th>\n",
       "      <th>Ease_Of_Use</th>\n",
       "      <th>Effectiveness</th>\n",
       "      <th>Dosage_Form</th>\n",
       "      <th>Indication</th>\n",
       "      <th>Price</th>\n",
       "      <th>Reviews</th>\n",
       "      <th>Satisfaction</th>\n",
       "      <th>Prescription_Type</th>\n",
       "      <th>level_of_effectiveness</th>\n",
       "      <th>level_of_difficulty</th>\n",
       "      <th>level_of_Satisfaction</th>\n",
       "    </tr>\n",
       "  </thead>\n",
       "  <tbody>\n",
       "    <tr>\n",
       "      <th>0</th>\n",
       "      <td>Acute Bacterial Sinusitis</td>\n",
       "      <td>Amoxicillin</td>\n",
       "      <td>3.9</td>\n",
       "      <td>3.7</td>\n",
       "      <td>Capsule</td>\n",
       "      <td>On Label</td>\n",
       "      <td>12.6</td>\n",
       "      <td>86.3</td>\n",
       "      <td>3.2</td>\n",
       "      <td>RX</td>\n",
       "      <td>Effective</td>\n",
       "      <td>Easy</td>\n",
       "      <td>Satisfied</td>\n",
       "    </tr>\n",
       "    <tr>\n",
       "      <th>1</th>\n",
       "      <td>Acute Bacterial Sinusitis</td>\n",
       "      <td>Amoxicillin-Pot Clavulanate</td>\n",
       "      <td>3.5</td>\n",
       "      <td>3.3</td>\n",
       "      <td>Liquid (Drink)</td>\n",
       "      <td>Off Label</td>\n",
       "      <td>287.4</td>\n",
       "      <td>43.0</td>\n",
       "      <td>2.6</td>\n",
       "      <td>RX</td>\n",
       "      <td>Partly Effective</td>\n",
       "      <td>Easy</td>\n",
       "      <td>Satisfied</td>\n",
       "    </tr>\n",
       "    <tr>\n",
       "      <th>2</th>\n",
       "      <td>Acute Bacterial Sinusitis</td>\n",
       "      <td>Amoxicillin-Pot Clavulanate</td>\n",
       "      <td>3.1</td>\n",
       "      <td>3.0</td>\n",
       "      <td>Tablet</td>\n",
       "      <td>On Label</td>\n",
       "      <td>70.6</td>\n",
       "      <td>267.3</td>\n",
       "      <td>2.2</td>\n",
       "      <td>RX</td>\n",
       "      <td>Partly Effective</td>\n",
       "      <td>Difficult</td>\n",
       "      <td>Unsatisfied</td>\n",
       "    </tr>\n",
       "    <tr>\n",
       "      <th>3</th>\n",
       "      <td>Acute Bacterial Sinusitis</td>\n",
       "      <td>Ampicillin</td>\n",
       "      <td>2.0</td>\n",
       "      <td>3.0</td>\n",
       "      <td>Capsule</td>\n",
       "      <td>On Label</td>\n",
       "      <td>12.6</td>\n",
       "      <td>1.0</td>\n",
       "      <td>1.0</td>\n",
       "      <td>RX</td>\n",
       "      <td>Partly Effective</td>\n",
       "      <td>Difficult</td>\n",
       "      <td>Unsatisfied</td>\n",
       "    </tr>\n",
       "    <tr>\n",
       "      <th>4</th>\n",
       "      <td>Acute Bacterial Sinusitis</td>\n",
       "      <td>Ampicillin</td>\n",
       "      <td>3.2</td>\n",
       "      <td>3.0</td>\n",
       "      <td>Tablet</td>\n",
       "      <td>On Label</td>\n",
       "      <td>125.2</td>\n",
       "      <td>15.0</td>\n",
       "      <td>3.0</td>\n",
       "      <td>RX</td>\n",
       "      <td>Partly Effective</td>\n",
       "      <td>Difficult</td>\n",
       "      <td>Satisfied</td>\n",
       "    </tr>\n",
       "  </tbody>\n",
       "</table>\n",
       "</div>"
      ],
      "text/plain": [
       "                   Condition                 Generic_Name  Ease_Of_Use  \\\n",
       "0  Acute Bacterial Sinusitis                  Amoxicillin          3.9   \n",
       "1  Acute Bacterial Sinusitis  Amoxicillin-Pot Clavulanate          3.5   \n",
       "2  Acute Bacterial Sinusitis  Amoxicillin-Pot Clavulanate          3.1   \n",
       "3  Acute Bacterial Sinusitis                   Ampicillin          2.0   \n",
       "4  Acute Bacterial Sinusitis                   Ampicillin          3.2   \n",
       "\n",
       "   Effectiveness     Dosage_Form Indication  Price  Reviews  Satisfaction  \\\n",
       "0            3.7         Capsule   On Label   12.6     86.3           3.2   \n",
       "1            3.3  Liquid (Drink)  Off Label  287.4     43.0           2.6   \n",
       "2            3.0          Tablet   On Label   70.6    267.3           2.2   \n",
       "3            3.0         Capsule   On Label   12.6      1.0           1.0   \n",
       "4            3.0          Tablet   On Label  125.2     15.0           3.0   \n",
       "\n",
       "  Prescription_Type level_of_effectiveness level_of_difficulty  \\\n",
       "0                RX              Effective                Easy   \n",
       "1                RX       Partly Effective                Easy   \n",
       "2                RX       Partly Effective           Difficult   \n",
       "3                RX       Partly Effective           Difficult   \n",
       "4                RX       Partly Effective           Difficult   \n",
       "\n",
       "  level_of_Satisfaction  \n",
       "0             Satisfied  \n",
       "1             Satisfied  \n",
       "2           Unsatisfied  \n",
       "3           Unsatisfied  \n",
       "4             Satisfied  "
      ]
     },
     "execution_count": 184,
     "metadata": {},
     "output_type": "execute_result"
    }
   ],
   "source": [
    "df.head()"
   ]
  },
  {
   "cell_type": "code",
   "execution_count": 185,
   "metadata": {},
   "outputs": [
    {
     "data": {
      "text/html": [
       "<div>\n",
       "<style scoped>\n",
       "    .dataframe tbody tr th:only-of-type {\n",
       "        vertical-align: middle;\n",
       "    }\n",
       "\n",
       "    .dataframe tbody tr th {\n",
       "        vertical-align: top;\n",
       "    }\n",
       "\n",
       "    .dataframe thead th {\n",
       "        text-align: right;\n",
       "    }\n",
       "</style>\n",
       "<table border=\"1\" class=\"dataframe\">\n",
       "  <thead>\n",
       "    <tr style=\"text-align: right;\">\n",
       "      <th></th>\n",
       "      <th>Rating</th>\n",
       "      <th>Amount of Drugs</th>\n",
       "    </tr>\n",
       "  </thead>\n",
       "  <tbody>\n",
       "    <tr>\n",
       "      <th>0</th>\n",
       "      <td>Satisfied</td>\n",
       "      <td>372</td>\n",
       "    </tr>\n",
       "    <tr>\n",
       "      <th>1</th>\n",
       "      <td>Very Satisfied</td>\n",
       "      <td>165</td>\n",
       "    </tr>\n",
       "    <tr>\n",
       "      <th>2</th>\n",
       "      <td>Unsatisfied</td>\n",
       "      <td>141</td>\n",
       "    </tr>\n",
       "  </tbody>\n",
       "</table>\n",
       "</div>"
      ],
      "text/plain": [
       "           Rating  Amount of Drugs\n",
       "0       Satisfied              372\n",
       "1  Very Satisfied              165\n",
       "2     Unsatisfied              141"
      ]
     },
     "execution_count": 185,
     "metadata": {},
     "output_type": "execute_result"
    }
   ],
   "source": [
    "lev1= df['level_of_Satisfaction'].value_counts().rename_axis('Rating').reset_index(name='Amount of Drugs')\n",
    "lev1"
   ]
  },
  {
   "cell_type": "code",
   "execution_count": 186,
   "metadata": {},
   "outputs": [
    {
     "data": {
      "text/html": [
       "<div>\n",
       "<style scoped>\n",
       "    .dataframe tbody tr th:only-of-type {\n",
       "        vertical-align: middle;\n",
       "    }\n",
       "\n",
       "    .dataframe tbody tr th {\n",
       "        vertical-align: top;\n",
       "    }\n",
       "\n",
       "    .dataframe thead th {\n",
       "        text-align: right;\n",
       "    }\n",
       "</style>\n",
       "<table border=\"1\" class=\"dataframe\">\n",
       "  <thead>\n",
       "    <tr style=\"text-align: right;\">\n",
       "      <th></th>\n",
       "      <th>Rating</th>\n",
       "      <th>Amount of Drugs</th>\n",
       "    </tr>\n",
       "  </thead>\n",
       "  <tbody>\n",
       "    <tr>\n",
       "      <th>0</th>\n",
       "      <td>Very Easy</td>\n",
       "      <td>419</td>\n",
       "    </tr>\n",
       "    <tr>\n",
       "      <th>1</th>\n",
       "      <td>Difficult</td>\n",
       "      <td>121</td>\n",
       "    </tr>\n",
       "    <tr>\n",
       "      <th>2</th>\n",
       "      <td>Easy</td>\n",
       "      <td>114</td>\n",
       "    </tr>\n",
       "    <tr>\n",
       "      <th>3</th>\n",
       "      <td>Very difficult</td>\n",
       "      <td>24</td>\n",
       "    </tr>\n",
       "  </tbody>\n",
       "</table>\n",
       "</div>"
      ],
      "text/plain": [
       "           Rating  Amount of Drugs\n",
       "0       Very Easy              419\n",
       "1       Difficult              121\n",
       "2            Easy              114\n",
       "3  Very difficult               24"
      ]
     },
     "execution_count": 186,
     "metadata": {},
     "output_type": "execute_result"
    }
   ],
   "source": [
    "lev2= df['level_of_difficulty'].value_counts().rename_axis('Rating').reset_index(name='Amount of Drugs')\n",
    "lev2"
   ]
  },
  {
   "cell_type": "code",
   "execution_count": 187,
   "metadata": {},
   "outputs": [
    {
     "data": {
      "text/html": [
       "<div>\n",
       "<style scoped>\n",
       "    .dataframe tbody tr th:only-of-type {\n",
       "        vertical-align: middle;\n",
       "    }\n",
       "\n",
       "    .dataframe tbody tr th {\n",
       "        vertical-align: top;\n",
       "    }\n",
       "\n",
       "    .dataframe thead th {\n",
       "        text-align: right;\n",
       "    }\n",
       "</style>\n",
       "<table border=\"1\" class=\"dataframe\">\n",
       "  <thead>\n",
       "    <tr style=\"text-align: right;\">\n",
       "      <th></th>\n",
       "      <th>Rating</th>\n",
       "      <th>Amount of Drugs</th>\n",
       "    </tr>\n",
       "  </thead>\n",
       "  <tbody>\n",
       "    <tr>\n",
       "      <th>0</th>\n",
       "      <td>Partly Effective</td>\n",
       "      <td>250</td>\n",
       "    </tr>\n",
       "    <tr>\n",
       "      <th>1</th>\n",
       "      <td>Very Effective</td>\n",
       "      <td>234</td>\n",
       "    </tr>\n",
       "    <tr>\n",
       "      <th>2</th>\n",
       "      <td>Effective</td>\n",
       "      <td>152</td>\n",
       "    </tr>\n",
       "    <tr>\n",
       "      <th>3</th>\n",
       "      <td>Uneffective</td>\n",
       "      <td>42</td>\n",
       "    </tr>\n",
       "  </tbody>\n",
       "</table>\n",
       "</div>"
      ],
      "text/plain": [
       "             Rating  Amount of Drugs\n",
       "0  Partly Effective              250\n",
       "1    Very Effective              234\n",
       "2         Effective              152\n",
       "3       Uneffective               42"
      ]
     },
     "execution_count": 187,
     "metadata": {},
     "output_type": "execute_result"
    }
   ],
   "source": [
    "lev3= df['level_of_effectiveness'].value_counts().rename_axis('Rating').reset_index(name='Amount of Drugs')\n",
    "lev3"
   ]
  },
  {
   "cell_type": "code",
   "execution_count": 188,
   "metadata": {},
   "outputs": [
    {
     "data": {
      "text/plain": [
       "<Axes: xlabel='Amount of Drugs', ylabel='Rating'>"
      ]
     },
     "execution_count": 188,
     "metadata": {},
     "output_type": "execute_result"
    },
    {
     "data": {
      "image/png": "[encoded data removed]",
      "text/plain": [
       "<Figure size 640x480 with 1 Axes>"
      ]
     },
     "metadata": {},
     "output_type": "display_data"
    }
   ],
   "source": [
    "sns.barplot(data=lev1, x='Amount of Drugs', y='Rating')"
   ]
  },
  {
   "cell_type": "code",
   "execution_count": 189,
   "metadata": {},
   "outputs": [
    {
     "data": {
      "text/plain": [
       "<Axes: xlabel='Amount of Drugs', ylabel='Rating'>"
      ]
     },
     "execution_count": 189,
     "metadata": {},
     "output_type": "execute_result"
    },
    {
     "data": {
      "image/png": "[encoded data removed]",
      "text/plain": [
       "<Figure size 640x480 with 1 Axes>"
      ]
     },
     "metadata": {},
     "output_type": "display_data"
    }
   ],
   "source": [
    "sns.barplot(data=lev2, x='Amount of Drugs', y='Rating')"
   ]
  },
  {
   "cell_type": "code",
   "execution_count": 190,
   "metadata": {},
   "outputs": [
    {
     "data": {
      "text/plain": [
       "<Axes: xlabel='Amount of Drugs', ylabel='Rating'>"
      ]
     },
     "execution_count": 190,
     "metadata": {},
     "output_type": "execute_result"
    },
    {
     "data": {
      "image/png": "[encoded data removed]",
      "text/plain": [
       "<Figure size 640x480 with 1 Axes>"
      ]
     },
     "metadata": {},
     "output_type": "display_data"
    }
   ],
   "source": [
    "sns.barplot(data=lev3, x='Amount of Drugs', y='Rating')"
   ]
  },
  {
   "cell_type": "markdown",
   "metadata": {},
   "source": [
    "**How many OTC drugs prescriped as off label, which is illegal :)**"
   ]
  },
  {
   "cell_type": "code",
   "execution_count": 206,
   "metadata": {},
   "outputs": [
    {
     "data": {
      "text/html": [
       "<div>\n",
       "<style scoped>\n",
       "    .dataframe tbody tr th:only-of-type {\n",
       "        vertical-align: middle;\n",
       "    }\n",
       "\n",
       "    .dataframe tbody tr th {\n",
       "        vertical-align: top;\n",
       "    }\n",
       "\n",
       "    .dataframe thead th {\n",
       "        text-align: right;\n",
       "    }\n",
       "</style>\n",
       "<table border=\"1\" class=\"dataframe\">\n",
       "  <thead>\n",
       "    <tr style=\"text-align: right;\">\n",
       "      <th></th>\n",
       "      <th>Condition</th>\n",
       "      <th>Generic_Name</th>\n",
       "      <th>Ease_Of_Use</th>\n",
       "      <th>Effectiveness</th>\n",
       "      <th>Dosage_Form</th>\n",
       "      <th>Indication</th>\n",
       "      <th>Price</th>\n",
       "      <th>Reviews</th>\n",
       "      <th>Satisfaction</th>\n",
       "      <th>Prescription_Type</th>\n",
       "      <th>level_of_effectiveness</th>\n",
       "      <th>level_of_difficulty</th>\n",
       "      <th>level_of_Satisfaction</th>\n",
       "    </tr>\n",
       "  </thead>\n",
       "  <tbody>\n",
       "    <tr>\n",
       "      <th>0</th>\n",
       "      <td>Acute Bacterial Sinusitis</td>\n",
       "      <td>Amoxicillin</td>\n",
       "      <td>3.9</td>\n",
       "      <td>3.7</td>\n",
       "      <td>Capsule</td>\n",
       "      <td>On Label</td>\n",
       "      <td>12.6</td>\n",
       "      <td>86.3</td>\n",
       "      <td>3.2</td>\n",
       "      <td>RX</td>\n",
       "      <td>Effective</td>\n",
       "      <td>Easy</td>\n",
       "      <td>Satisfied</td>\n",
       "    </tr>\n",
       "    <tr>\n",
       "      <th>1</th>\n",
       "      <td>Acute Bacterial Sinusitis</td>\n",
       "      <td>Amoxicillin-Pot Clavulanate</td>\n",
       "      <td>3.5</td>\n",
       "      <td>3.3</td>\n",
       "      <td>Liquid (Drink)</td>\n",
       "      <td>Off Label</td>\n",
       "      <td>287.4</td>\n",
       "      <td>43.0</td>\n",
       "      <td>2.6</td>\n",
       "      <td>RX</td>\n",
       "      <td>Partly Effective</td>\n",
       "      <td>Easy</td>\n",
       "      <td>Satisfied</td>\n",
       "    </tr>\n",
       "    <tr>\n",
       "      <th>2</th>\n",
       "      <td>Acute Bacterial Sinusitis</td>\n",
       "      <td>Amoxicillin-Pot Clavulanate</td>\n",
       "      <td>3.1</td>\n",
       "      <td>3.0</td>\n",
       "      <td>Tablet</td>\n",
       "      <td>On Label</td>\n",
       "      <td>70.6</td>\n",
       "      <td>267.3</td>\n",
       "      <td>2.2</td>\n",
       "      <td>RX</td>\n",
       "      <td>Partly Effective</td>\n",
       "      <td>Difficult</td>\n",
       "      <td>Unsatisfied</td>\n",
       "    </tr>\n",
       "    <tr>\n",
       "      <th>3</th>\n",
       "      <td>Acute Bacterial Sinusitis</td>\n",
       "      <td>Ampicillin</td>\n",
       "      <td>2.0</td>\n",
       "      <td>3.0</td>\n",
       "      <td>Capsule</td>\n",
       "      <td>On Label</td>\n",
       "      <td>12.6</td>\n",
       "      <td>1.0</td>\n",
       "      <td>1.0</td>\n",
       "      <td>RX</td>\n",
       "      <td>Partly Effective</td>\n",
       "      <td>Difficult</td>\n",
       "      <td>Unsatisfied</td>\n",
       "    </tr>\n",
       "    <tr>\n",
       "      <th>4</th>\n",
       "      <td>Acute Bacterial Sinusitis</td>\n",
       "      <td>Ampicillin</td>\n",
       "      <td>3.2</td>\n",
       "      <td>3.0</td>\n",
       "      <td>Tablet</td>\n",
       "      <td>On Label</td>\n",
       "      <td>125.2</td>\n",
       "      <td>15.0</td>\n",
       "      <td>3.0</td>\n",
       "      <td>RX</td>\n",
       "      <td>Partly Effective</td>\n",
       "      <td>Difficult</td>\n",
       "      <td>Satisfied</td>\n",
       "    </tr>\n",
       "  </tbody>\n",
       "</table>\n",
       "</div>"
      ],
      "text/plain": [
       "                   Condition                 Generic_Name  Ease_Of_Use  \\\n",
       "0  Acute Bacterial Sinusitis                  Amoxicillin          3.9   \n",
       "1  Acute Bacterial Sinusitis  Amoxicillin-Pot Clavulanate          3.5   \n",
       "2  Acute Bacterial Sinusitis  Amoxicillin-Pot Clavulanate          3.1   \n",
       "3  Acute Bacterial Sinusitis                   Ampicillin          2.0   \n",
       "4  Acute Bacterial Sinusitis                   Ampicillin          3.2   \n",
       "\n",
       "   Effectiveness     Dosage_Form Indication  Price  Reviews  Satisfaction  \\\n",
       "0            3.7         Capsule   On Label   12.6     86.3           3.2   \n",
       "1            3.3  Liquid (Drink)  Off Label  287.4     43.0           2.6   \n",
       "2            3.0          Tablet   On Label   70.6    267.3           2.2   \n",
       "3            3.0         Capsule   On Label   12.6      1.0           1.0   \n",
       "4            3.0          Tablet   On Label  125.2     15.0           3.0   \n",
       "\n",
       "  Prescription_Type level_of_effectiveness level_of_difficulty  \\\n",
       "0                RX              Effective                Easy   \n",
       "1                RX       Partly Effective                Easy   \n",
       "2                RX       Partly Effective           Difficult   \n",
       "3                RX       Partly Effective           Difficult   \n",
       "4                RX       Partly Effective           Difficult   \n",
       "\n",
       "  level_of_Satisfaction  \n",
       "0             Satisfied  \n",
       "1             Satisfied  \n",
       "2           Unsatisfied  \n",
       "3           Unsatisfied  \n",
       "4             Satisfied  "
      ]
     },
     "execution_count": 206,
     "metadata": {},
     "output_type": "execute_result"
    }
   ],
   "source": [
    "df.head()"
   ]
  },
  {
   "cell_type": "code",
   "execution_count": 217,
   "metadata": {},
   "outputs": [
    {
     "data": {
      "application/vnd.plotly.v1+json": {
       "config": {
        "plotlyServerURL": "https://plot.ly"
       },
       "data": [
        {
         "alignmentgroup": "True",
         "bingroup": "x",
         "hovertemplate": "Indication=On Label<br>Prescription_Type=%{x}<br>count=%{y}<extra></extra>",
         "legendgroup": "On Label",
         "marker": {
          "color": "#636efa",
          "pattern": {
           "shape": ""
          }
         },
         "name": "On Label",
         "nbinsx": 5,
         "offsetgroup": "On Label",
         "orientation": "v",
         "showlegend": true,
         "type": "histogram",
         "x": [
          "RX",
          "RX",
          "RX",
          "RX",
          "RX",
          "RX",
          "RX",
          "RX",
          "RX",
          "RX",
          "RX",
          "RX",
          "RX",
          "RX",
          "RX",
          "RX",
          "RX",
          "RX",
          "RX",
          "RX",
          "RX",
          "RX",
          "RX",
          "RX",
          "RX",
          "RX",
          "RX",
          "RX",
          "RX",
          "RX",
          "RX",
          "RX",
          "RX",
          "RX",
          "RX",
          "RX",
          "RX",
          "RX",
          "RX",
          "RX",
          "RX",
          "RX",
          "OTC",
          "RX",
          "RX/OTC",
          "OTC",
          "RX/OTC",
          "RX",
          "RX",
          "RX",
          "RX",
          "RX",
          "RX",
          "OTC",
          "OTC",
          "RX",
          "RX",
          "RX",
          "RX",
          "RX",
          "RX",
          "RX",
          "RX",
          "RX",
          "RX",
          "RX",
          "OTC",
          "RX",
          "RX",
          "RX",
          "RX",
          "Unkown",
          "Unkown",
          "RX",
          "RX",
          "RX",
          "RX",
          "RX",
          "RX",
          "RX",
          "RX",
          "RX",
          "RX",
          "RX",
          "RX",
          "RX",
          "RX",
          "RX",
          "RX",
          "RX",
          "RX",
          "RX",
          "RX",
          "RX",
          "RX",
          "RX",
          "RX",
          "RX",
          "RX",
          "RX",
          "RX",
          "RX",
          "RX",
          "RX",
          "RX",
          "RX",
          "RX",
          "RX",
          "RX",
          "RX",
          "RX",
          "RX",
          "RX",
          "RX",
          "RX",
          "RX",
          "RX",
          "RX",
          "RX",
          "RX",
          "RX",
          "RX",
          "RX",
          "RX",
          "RX",
          "RX",
          "RX",
          "RX",
          "RX",
          "RX",
          "RX",
          "RX",
          "RX",
          "RX",
          "RX",
          "RX",
          "RX",
          "RX",
          "RX",
          "RX",
          "RX",
          "RX",
          "RX",
          "RX",
          "RX",
          "RX",
          "RX",
          "RX",
          "RX",
          "RX",
          "RX",
          "RX",
          "RX",
          "RX",
          "RX",
          "RX",
          "RX",
          "RX",
          "RX",
          "RX",
          "RX",
          "RX",
          "RX",
          "OTC",
          "OTC",
          "OTC",
          "OTC",
          "OTC",
          "OTC",
          "OTC",
          "OTC",
          "OTC",
          "OTC",
          "OTC",
          "OTC",
          "OTC",
          "OTC",
          "RX",
          "RX",
          "RX",
          "RX",
          "RX",
          "RX",
          "RX",
          "RX",
          "RX",
          "RX",
          "RX",
          "RX",
          "RX",
          "RX",
          "RX",
          "RX",
          "RX",
          "RX",
          "RX",
          "RX",
          "RX",
          "RX",
          "RX",
          "RX",
          "RX",
          "RX",
          "RX",
          "RX",
          "RX",
          "RX",
          "RX",
          "RX",
          "RX",
          "RX",
          "RX",
          "RX",
          "RX",
          "RX",
          "OTC",
          "OTC",
          "RX",
          "OTC",
          "OTC",
          "RX",
          "OTC",
          "OTC",
          "OTC",
          "OTC",
          "RX",
          "RX/OTC",
          "OTC",
          "OTC",
          "OTC",
          "OTC",
          "OTC",
          "OTC",
          "OTC",
          "OTC",
          "OTC",
          "OTC",
          "RX",
          "OTC",
          "OTC",
          "OTC",
          "OTC",
          "OTC",
          "OTC",
          "OTC",
          "OTC",
          "OTC",
          "OTC",
          "OTC",
          "OTC",
          "RX",
          "RX/OTC",
          "RX",
          "OTC",
          "RX/OTC",
          "OTC",
          "OTC",
          "OTC",
          "OTC",
          "OTC",
          "OTC",
          "OTC",
          "RX",
          "OTC",
          "OTC",
          "OTC",
          "OTC",
          "OTC",
          "OTC",
          "OTC",
          "OTC",
          "OTC",
          "OTC",
          "RX",
          "RX",
          "RX",
          "RX",
          "OTC",
          "OTC",
          "OTC",
          "OTC",
          "OTC",
          "OTC",
          "OTC",
          "OTC",
          "OTC",
          "OTC",
          "OTC",
          "OTC",
          "OTC",
          "OTC",
          "Unkown",
          "RX",
          "OTC",
          "RX",
          "RX",
          "OTC",
          "RX",
          "RX/OTC",
          "RX",
          "OTC",
          "RX",
          "RX/OTC",
          "OTC",
          "OTC",
          "RX",
          "RX/OTC",
          "OTC",
          "RX",
          "RX",
          "RX",
          "RX",
          "RX/OTC",
          "OTC",
          "RX/OTC",
          "RX",
          "OTC",
          "RX",
          "RX/OTC",
          "RX",
          "RX",
          "OTC",
          "RX",
          "RX/OTC",
          "RX",
          "RX",
          "RX",
          "RX",
          "RX",
          "RX",
          "RX/OTC",
          "OTC",
          "OTC",
          "OTC",
          "RX",
          "RX/OTC",
          "RX",
          "OTC",
          "RX/OTC",
          "RX",
          "OTC",
          "OTC",
          "OTC",
          "OTC",
          "OTC",
          "OTC",
          "OTC",
          "OTC",
          "OTC",
          "OTC",
          "OTC",
          "OTC",
          "OTC",
          "OTC",
          "OTC",
          "OTC",
          "RX",
          "RX",
          "RX",
          "RX",
          "RX",
          "RX",
          "RX",
          "RX",
          "RX",
          "RX",
          "RX",
          "RX",
          "RX",
          "RX",
          "RX",
          "RX",
          "RX",
          "RX",
          "RX",
          "RX",
          "RX",
          "RX",
          "RX",
          "RX",
          "Unkown",
          "Unkown",
          "OTC",
          "OTC",
          "RX",
          "RX",
          "RX/OTC",
          "RX/OTC",
          "RX",
          "RX",
          "RX",
          "RX",
          "RX",
          "RX",
          "RX",
          "RX",
          "RX",
          "RX",
          "RX",
          "RX",
          "RX",
          "RX",
          "RX",
          "RX",
          "RX",
          "RX",
          "RX",
          "RX",
          "RX",
          "RX",
          "RX",
          "RX",
          "RX",
          "RX",
          "RX",
          "RX",
          "RX",
          "RX",
          "RX",
          "RX",
          "RX",
          "RX",
          "RX",
          "RX",
          "RX",
          "RX",
          "RX",
          "RX",
          "RX",
          "RX",
          "RX",
          "RX",
          "RX",
          "RX",
          "RX",
          "RX",
          "RX",
          "RX",
          "RX",
          "RX",
          "RX",
          "RX",
          "RX",
          "RX",
          "RX",
          "RX",
          "RX",
          "RX",
          "RX",
          "RX",
          "RX",
          "RX",
          "RX",
          "RX",
          "RX",
          "RX",
          "RX",
          "RX",
          "RX",
          "RX",
          "RX",
          "RX",
          "RX",
          "RX",
          "RX",
          "RX",
          "RX",
          "RX",
          "RX",
          "RX",
          "RX",
          "RX",
          "RX",
          "RX",
          "RX",
          "RX",
          "RX",
          "RX",
          "RX",
          "RX",
          "RX",
          "RX",
          "RX",
          "RX",
          "RX",
          "RX",
          "RX",
          "RX",
          "RX",
          "RX",
          "RX",
          "RX",
          "RX",
          "RX",
          "RX",
          "RX",
          "RX",
          "OTC",
          "RX/OTC",
          "RX",
          "RX",
          "RX",
          "RX",
          "RX",
          "RX",
          "RX",
          "RX",
          "RX",
          "RX",
          "RX",
          "RX",
          "RX",
          "RX/OTC",
          "OTC",
          "OTC",
          "OTC",
          "OTC",
          "OTC",
          "OTC",
          "OTC",
          "OTC",
          "OTC",
          "OTC",
          "OTC",
          "OTC",
          "OTC",
          "OTC",
          "RX/OTC",
          "OTC",
          "OTC",
          "OTC",
          "OTC",
          "RX",
          "RX/OTC",
          "OTC",
          "RX",
          "OTC",
          "RX",
          "OTC",
          "RX/OTC",
          "OTC",
          "OTC",
          "RX",
          "OTC"
         ],
         "xaxis": "x",
         "yaxis": "y"
        },
        {
         "alignmentgroup": "True",
         "bingroup": "x",
         "hovertemplate": "Indication=Off Label<br>Prescription_Type=%{x}<br>count=%{y}<extra></extra>",
         "legendgroup": "Off Label",
         "marker": {
          "color": "#EF553B",
          "pattern": {
           "shape": ""
          }
         },
         "name": "Off Label",
         "nbinsx": 5,
         "offsetgroup": "Off Label",
         "orientation": "v",
         "showlegend": true,
         "type": "histogram",
         "x": [
          "RX",
          "RX",
          "OTC",
          "RX/OTC",
          "RX",
          "RX",
          "RX",
          "RX",
          "RX",
          "RX",
          "RX",
          "RX",
          "RX",
          "RX",
          "RX",
          "RX",
          "RX",
          "RX",
          "RX",
          "RX",
          "RX",
          "RX",
          "RX",
          "RX",
          "RX",
          "RX",
          "RX",
          "RX",
          "RX",
          "RX",
          "RX",
          "RX",
          "RX",
          "RX",
          "RX",
          "RX",
          "RX",
          "RX",
          "RX",
          "RX",
          "RX",
          "RX",
          "RX",
          "RX",
          "RX",
          "RX",
          "RX",
          "RX",
          "RX",
          "RX",
          "RX",
          "RX",
          "RX",
          "RX",
          "RX",
          "RX",
          "RX",
          "RX",
          "RX",
          "RX",
          "OTC",
          "OTC",
          "OTC",
          "OTC",
          "OTC",
          "OTC",
          "OTC",
          "OTC",
          "OTC",
          "OTC",
          "OTC",
          "OTC",
          "OTC",
          "OTC",
          "OTC",
          "RX",
          "RX",
          "RX",
          "OTC",
          "OTC",
          "RX/OTC",
          "RX",
          "RX",
          "RX",
          "OTC",
          "RX",
          "RX",
          "RX",
          "RX",
          "RX",
          "RX",
          "RX",
          "RX",
          "RX",
          "RX",
          "OTC",
          "RX",
          "RX/OTC",
          "RX",
          "OTC",
          "RX",
          "RX",
          "RX",
          "RX",
          "RX",
          "OTC",
          "RX",
          "RX",
          "RX",
          "OTC",
          "RX",
          "OTC",
          "RX",
          "RX",
          "RX/OTC",
          "OTC",
          "RX/OTC",
          "RX",
          "RX",
          "RX",
          "RX",
          "RX",
          "OTC",
          "OTC",
          "RX",
          "RX",
          "RX"
         ],
         "xaxis": "x",
         "yaxis": "y"
        },
        {
         "alignmentgroup": "True",
         "bingroup": "x",
         "hovertemplate": "Indication=Unkown<br>Prescription_Type=%{x}<br>count=%{y}<extra></extra>",
         "legendgroup": "Unkown",
         "marker": {
          "color": "#00cc96",
          "pattern": {
           "shape": ""
          }
         },
         "name": "Unkown",
         "nbinsx": 5,
         "offsetgroup": "Unkown",
         "orientation": "v",
         "showlegend": true,
         "type": "histogram",
         "x": [
          "RX",
          "OTC",
          "OTC",
          "OTC",
          "OTC",
          "RX",
          "RX/OTC"
         ],
         "xaxis": "x",
         "yaxis": "y"
        }
       ],
       "layout": {
        "barmode": "relative",
        "legend": {
         "title": {
          "text": "Indication"
         },
         "tracegroupgap": 0
        },
        "margin": {
         "t": 60
        },
        "template": {
         "data": {
          "bar": [
           {
            "error_x": {
             "color": "#2a3f5f"
            },
            "error_y": {
             "color": "#2a3f5f"
            },
            "marker": {
             "line": {
              "color": "#E5ECF6",
              "width": 0.5
             },
             "pattern": {
              "fillmode": "overlay",
              "size": 10,
              "solidity": 0.2
             }
            },
            "type": "bar"
           }
          ],
          "barpolar": [
           {
            "marker": {
             "line": {
              "color": "#E5ECF6",
              "width": 0.5
             },
             "pattern": {
              "fillmode": "overlay",
              "size": 10,
              "solidity": 0.2
             }
            },
            "type": "barpolar"
           }
          ],
          "carpet": [
           {
            "aaxis": {
             "endlinecolor": "#2a3f5f",
             "gridcolor": "white",
             "linecolor": "white",
             "minorgridcolor": "white",
             "startlinecolor": "#2a3f5f"
            },
            "baxis": {
             "endlinecolor": "#2a3f5f",
             "gridcolor": "white",
             "linecolor": "white",
             "minorgridcolor": "white",
             "startlinecolor": "#2a3f5f"
            },
            "type": "carpet"
           }
          ],
          "choropleth": [
           {
            "colorbar": {
             "outlinewidth": 0,
             "ticks": ""
            },
            "type": "choropleth"
           }
          ],
          "contour": [
           {
            "colorbar": {
             "outlinewidth": 0,
             "ticks": ""
            },
            "colorscale": [
             [
              0,
              "#0d0887"
             ],
             [
              0.1111111111111111,
              "#46039f"
             ],
             [
              0.2222222222222222,
              "#7201a8"
             ],
             [
              0.3333333333333333,
              "#9c179e"
             ],
             [
              0.4444444444444444,
              "#bd3786"
             ],
             [
              0.5555555555555556,
              "#d8576b"
             ],
             [
              0.6666666666666666,
              "#ed7953"
             ],
             [
              0.7777777777777778,
              "#fb9f3a"
             ],
             [
              0.8888888888888888,
              "#fdca26"
             ],
             [
              1,
              "#f0f921"
             ]
            ],
            "type": "contour"
           }
          ],
          "contourcarpet": [
           {
            "colorbar": {
             "outlinewidth": 0,
             "ticks": ""
            },
            "type": "contourcarpet"
           }
          ],
          "heatmap": [
           {
            "colorbar": {
             "outlinewidth": 0,
             "ticks": ""
            },
            "colorscale": [
             [
              0,
              "#0d0887"
             ],
             [
              0.1111111111111111,
              "#46039f"
             ],
             [
              0.2222222222222222,
              "#7201a8"
             ],
             [
              0.3333333333333333,
              "#9c179e"
             ],
             [
              0.4444444444444444,
              "#bd3786"
             ],
             [
              0.5555555555555556,
              "#d8576b"
             ],
             [
              0.6666666666666666,
              "#ed7953"
             ],
             [
              0.7777777777777778,
              "#fb9f3a"
             ],
             [
              0.8888888888888888,
              "#fdca26"
             ],
             [
              1,
              "#f0f921"
             ]
            ],
            "type": "heatmap"
           }
          ],
          "heatmapgl": [
           {
            "colorbar": {
             "outlinewidth": 0,
             "ticks": ""
            },
            "colorscale": [
             [
              0,
              "#0d0887"
             ],
             [
              0.1111111111111111,
              "#46039f"
             ],
             [
              0.2222222222222222,
              "#7201a8"
             ],
             [
              0.3333333333333333,
              "#9c179e"
             ],
             [
              0.4444444444444444,
              "#bd3786"
             ],
             [
              0.5555555555555556,
              "#d8576b"
             ],
             [
              0.6666666666666666,
              "#ed7953"
             ],
             [
              0.7777777777777778,
              "#fb9f3a"
             ],
             [
              0.8888888888888888,
              "#fdca26"
             ],
             [
              1,
              "#f0f921"
             ]
            ],
            "type": "heatmapgl"
           }
          ],
          "histogram": [
           {
            "marker": {
             "pattern": {
              "fillmode": "overlay",
              "size": 10,
              "solidity": 0.2
             }
            },
            "type": "histogram"
           }
          ],
          "histogram2d": [
           {
            "colorbar": {
             "outlinewidth": 0,
             "ticks": ""
            },
            "colorscale": [
             [
              0,
              "#0d0887"
             ],
             [
              0.1111111111111111,
              "#46039f"
             ],
             [
              0.2222222222222222,
              "#7201a8"
             ],
             [
              0.3333333333333333,
              "#9c179e"
             ],
             [
              0.4444444444444444,
              "#bd3786"
             ],
             [
              0.5555555555555556,
              "#d8576b"
             ],
             [
              0.6666666666666666,
              "#ed7953"
             ],
             [
              0.7777777777777778,
              "#fb9f3a"
             ],
             [
              0.8888888888888888,
              "#fdca26"
             ],
             [
              1,
              "#f0f921"
             ]
            ],
            "type": "histogram2d"
           }
          ],
          "histogram2dcontour": [
           {
            "colorbar": {
             "outlinewidth": 0,
             "ticks": ""
            },
            "colorscale": [
             [
              0,
              "#0d0887"
             ],
             [
              0.1111111111111111,
              "#46039f"
             ],
             [
              0.2222222222222222,
              "#7201a8"
             ],
             [
              0.3333333333333333,
              "#9c179e"
             ],
             [
              0.4444444444444444,
              "#bd3786"
             ],
             [
              0.5555555555555556,
              "#d8576b"
             ],
             [
              0.6666666666666666,
              "#ed7953"
             ],
             [
              0.7777777777777778,
              "#fb9f3a"
             ],
             [
              0.8888888888888888,
              "#fdca26"
             ],
             [
              1,
              "#f0f921"
             ]
            ],
            "type": "histogram2dcontour"
           }
          ],
          "mesh3d": [
           {
            "colorbar": {
             "outlinewidth": 0,
             "ticks": ""
            },
            "type": "mesh3d"
           }
          ],
          "parcoords": [
           {
            "line": {
             "colorbar": {
              "outlinewidth": 0,
              "ticks": ""
             }
            },
            "type": "parcoords"
           }
          ],
          "pie": [
           {
            "automargin": true,
            "type": "pie"
           }
          ],
          "scatter": [
           {
            "fillpattern": {
             "fillmode": "overlay",
             "size": 10,
             "solidity": 0.2
            },
            "type": "scatter"
           }
          ],
          "scatter3d": [
           {
            "line": {
             "colorbar": {
              "outlinewidth": 0,
              "ticks": ""
             }
            },
            "marker": {
             "colorbar": {
              "outlinewidth": 0,
              "ticks": ""
             }
            },
            "type": "scatter3d"
           }
          ],
          "scattercarpet": [
           {
            "marker": {
             "colorbar": {
              "outlinewidth": 0,
              "ticks": ""
             }
            },
            "type": "scattercarpet"
           }
          ],
          "scattergeo": [
           {
            "marker": {
             "colorbar": {
              "outlinewidth": 0,
              "ticks": ""
             }
            },
            "type": "scattergeo"
           }
          ],
          "scattergl": [
           {
            "marker": {
             "colorbar": {
              "outlinewidth": 0,
              "ticks": ""
             }
            },
            "type": "scattergl"
           }
          ],
          "scattermapbox": [
           {
            "marker": {
             "colorbar": {
              "outlinewidth": 0,
              "ticks": ""
             }
            },
            "type": "scattermapbox"
           }
          ],
          "scatterpolar": [
           {
            "marker": {
             "colorbar": {
              "outlinewidth": 0,
              "ticks": ""
             }
            },
            "type": "scatterpolar"
           }
          ],
          "scatterpolargl": [
           {
            "marker": {
             "colorbar": {
              "outlinewidth": 0,
              "ticks": ""
             }
            },
            "type": "scatterpolargl"
           }
          ],
          "scatterternary": [
           {
            "marker": {
             "colorbar": {
              "outlinewidth": 0,
              "ticks": ""
             }
            },
            "type": "scatterternary"
           }
          ],
          "surface": [
           {
            "colorbar": {
             "outlinewidth": 0,
             "ticks": ""
            },
            "colorscale": [
             [
              0,
              "#0d0887"
             ],
             [
              0.1111111111111111,
              "#46039f"
             ],
             [
              0.2222222222222222,
              "#7201a8"
             ],
             [
              0.3333333333333333,
              "#9c179e"
             ],
             [
              0.4444444444444444,
              "#bd3786"
             ],
             [
              0.5555555555555556,
              "#d8576b"
             ],
             [
              0.6666666666666666,
              "#ed7953"
             ],
             [
              0.7777777777777778,
              "#fb9f3a"
             ],
             [
              0.8888888888888888,
              "#fdca26"
             ],
             [
              1,
              "#f0f921"
             ]
            ],
            "type": "surface"
           }
          ],
          "table": [
           {
            "cells": {
             "fill": {
              "color": "#EBF0F8"
             },
             "line": {
              "color": "white"
             }
            },
            "header": {
             "fill": {
              "color": "#C8D4E3"
             },
             "line": {
              "color": "white"
             }
            },
            "type": "table"
           }
          ]
         },
         "layout": {
          "annotationdefaults": {
           "arrowcolor": "#2a3f5f",
           "arrowhead": 0,
           "arrowwidth": 1
          },
          "autotypenumbers": "strict",
          "coloraxis": {
           "colorbar": {
            "outlinewidth": 0,
            "ticks": ""
           }
          },
          "colorscale": {
           "diverging": [
            [
             0,
             "#8e0152"
            ],
            [
             0.1,
             "#c51b7d"
            ],
            [
             0.2,
             "#de77ae"
            ],
            [
             0.3,
             "#f1b6da"
            ],
            [
             0.4,
             "#fde0ef"
            ],
            [
             0.5,
             "#f7f7f7"
            ],
            [
             0.6,
             "#e6f5d0"
            ],
            [
             0.7,
             "#b8e186"
            ],
            [
             0.8,
             "#7fbc41"
            ],
            [
             0.9,
             "#4d9221"
            ],
            [
             1,
             "#276419"
            ]
           ],
           "sequential": [
            [
             0,
             "#0d0887"
            ],
            [
             0.1111111111111111,
             "#46039f"
            ],
            [
             0.2222222222222222,
             "#7201a8"
            ],
            [
             0.3333333333333333,
             "#9c179e"
            ],
            [
             0.4444444444444444,
             "#bd3786"
            ],
            [
             0.5555555555555556,
             "#d8576b"
            ],
            [
             0.6666666666666666,
             "#ed7953"
            ],
            [
             0.7777777777777778,
             "#fb9f3a"
            ],
            [
             0.8888888888888888,
             "#fdca26"
            ],
            [
             1,
             "#f0f921"
            ]
           ],
           "sequentialminus": [
            [
             0,
             "#0d0887"
            ],
            [
             0.1111111111111111,
             "#46039f"
            ],
            [
             0.2222222222222222,
             "#7201a8"
            ],
            [
             0.3333333333333333,
             "#9c179e"
            ],
            [
             0.4444444444444444,
             "#bd3786"
            ],
            [
             0.5555555555555556,
             "#d8576b"
            ],
            [
             0.6666666666666666,
             "#ed7953"
            ],
            [
             0.7777777777777778,
             "#fb9f3a"
            ],
            [
             0.8888888888888888,
             "#fdca26"
            ],
            [
             1,
             "#f0f921"
            ]
           ]
          },
          "colorway": [
           "#636efa",
           "#EF553B",
           "#00cc96",
           "#ab63fa",
           "#FFA15A",
           "#19d3f3",
           "#FF6692",
           "#B6E880",
           "#FF97FF",
           "#FECB52"
          ],
          "font": {
           "color": "#2a3f5f"
          },
          "geo": {
           "bgcolor": "white",
           "lakecolor": "white",
           "landcolor": "#E5ECF6",
           "showlakes": true,
           "showland": true,
           "subunitcolor": "white"
          },
          "hoverlabel": {
           "align": "left"
          },
          "hovermode": "closest",
          "mapbox": {
           "style": "light"
          },
          "paper_bgcolor": "white",
          "plot_bgcolor": "#E5ECF6",
          "polar": {
           "angularaxis": {
            "gridcolor": "white",
            "linecolor": "white",
            "ticks": ""
           },
           "bgcolor": "#E5ECF6",
           "radialaxis": {
            "gridcolor": "white",
            "linecolor": "white",
            "ticks": ""
           }
          },
          "scene": {
           "xaxis": {
            "backgroundcolor": "#E5ECF6",
            "gridcolor": "white",
            "gridwidth": 2,
            "linecolor": "white",
            "showbackground": true,
            "ticks": "",
            "zerolinecolor": "white"
           },
           "yaxis": {
            "backgroundcolor": "#E5ECF6",
            "gridcolor": "white",
            "gridwidth": 2,
            "linecolor": "white",
            "showbackground": true,
            "ticks": "",
            "zerolinecolor": "white"
           },
           "zaxis": {
            "backgroundcolor": "#E5ECF6",
            "gridcolor": "white",
            "gridwidth": 2,
            "linecolor": "white",
            "showbackground": true,
            "ticks": "",
            "zerolinecolor": "white"
           }
          },
          "shapedefaults": {
           "line": {
            "color": "#2a3f5f"
           }
          },
          "ternary": {
           "aaxis": {
            "gridcolor": "white",
            "linecolor": "white",
            "ticks": ""
           },
           "baxis": {
            "gridcolor": "white",
            "linecolor": "white",
            "ticks": ""
           },
           "bgcolor": "#E5ECF6",
           "caxis": {
            "gridcolor": "white",
            "linecolor": "white",
            "ticks": ""
           }
          },
          "title": {
           "x": 0.05
          },
          "xaxis": {
           "automargin": true,
           "gridcolor": "white",
           "linecolor": "white",
           "ticks": "",
           "title": {
            "standoff": 15
           },
           "zerolinecolor": "white",
           "zerolinewidth": 2
          },
          "yaxis": {
           "automargin": true,
           "gridcolor": "white",
           "linecolor": "white",
           "ticks": "",
           "title": {
            "standoff": 15
           },
           "zerolinecolor": "white",
           "zerolinewidth": 2
          }
         }
        },
        "xaxis": {
         "anchor": "y",
         "domain": [
          0,
          1
         ],
         "title": {
          "text": "Prescription_Type"
         }
        },
        "yaxis": {
         "anchor": "x",
         "domain": [
          0,
          1
         ],
         "title": {
          "text": "count"
         }
        }
       }
      }
     },
     "metadata": {},
     "output_type": "display_data"
    }
   ],
   "source": [
    "fig1= px.histogram(df,x= 'Prescription_Type',nbins=5,color='Indication')\n",
    "fig1.show()"
   ]
  },
  {
   "cell_type": "code",
   "execution_count": 210,
   "metadata": {},
   "outputs": [],
   "source": [
    "# That means: 27 OTC precriptions prescriped illegally "
   ]
  },
  {
   "cell_type": "markdown",
   "metadata": {},
   "source": [
    "**Which is more effective, OTC drugs or Rx?**"
   ]
  },
  {
   "cell_type": "code",
   "execution_count": 219,
   "metadata": {},
   "outputs": [
    {
     "data": {
      "application/vnd.plotly.v1+json": {
       "config": {
        "plotlyServerURL": "https://plot.ly"
       },
       "data": [
        {
         "alignmentgroup": "True",
         "bingroup": "x",
         "hovertemplate": "Prescription_Type=RX<br>level_of_effectiveness=%{x}<br>count=%{y}<extra></extra>",
         "legendgroup": "RX",
         "marker": {
          "color": "#636efa",
          "pattern": {
           "shape": ""
          }
         },
         "name": "RX",
         "nbinsx": 5,
         "offsetgroup": "RX",
         "orientation": "v",
         "showlegend": true,
         "type": "histogram",
         "x": [
          "Effective",
          "Partly Effective",
          "Partly Effective",
          "Partly Effective",
          "Partly Effective",
          "Partly Effective",
          "Partly Effective",
          "Effective",
          "Partly Effective",
          "Partly Effective",
          "Very Effective",
          "Partly Effective",
          "Partly Effective",
          "Partly Effective",
          "Partly Effective",
          "Very Effective",
          "Very Effective",
          "Very Effective",
          "Very Effective",
          "Effective",
          "Effective",
          "Effective",
          "Effective",
          "Very Effective",
          "Effective",
          "Very Effective",
          "Uneffective",
          "Partly Effective",
          "Effective",
          "Very Effective",
          "Very Effective",
          "Very Effective",
          "Very Effective",
          "Very Effective",
          "Effective",
          "Very Effective",
          "Uneffective",
          "Very Effective",
          "Very Effective",
          "Very Effective",
          "Effective",
          "Effective",
          "Very Effective",
          "Very Effective",
          "Very Effective",
          "Very Effective",
          "Effective",
          "Uneffective",
          "Very Effective",
          "Very Effective",
          "Partly Effective",
          "Very Effective",
          "Effective",
          "Partly Effective",
          "Partly Effective",
          "Very Effective",
          "Partly Effective",
          "Very Effective",
          "Partly Effective",
          "Very Effective",
          "Uneffective",
          "Very Effective",
          "Partly Effective",
          "Very Effective",
          "Very Effective",
          "Partly Effective",
          "Uneffective",
          "Effective",
          "Partly Effective",
          "Partly Effective",
          "Partly Effective",
          "Partly Effective",
          "Partly Effective",
          "Very Effective",
          "Very Effective",
          "Partly Effective",
          "Very Effective",
          "Effective",
          "Effective",
          "Uneffective",
          "Partly Effective",
          "Partly Effective",
          "Partly Effective",
          "Partly Effective",
          "Partly Effective",
          "Uneffective",
          "Partly Effective",
          "Partly Effective",
          "Partly Effective",
          "Partly Effective",
          "Uneffective",
          "Very Effective",
          "Effective",
          "Very Effective",
          "Partly Effective",
          "Partly Effective",
          "Partly Effective",
          "Partly Effective",
          "Partly Effective",
          "Partly Effective",
          "Very Effective",
          "Partly Effective",
          "Very Effective",
          "Very Effective",
          "Partly Effective",
          "Partly Effective",
          "Very Effective",
          "Very Effective",
          "Partly Effective",
          "Very Effective",
          "Partly Effective",
          "Effective",
          "Very Effective",
          "Effective",
          "Partly Effective",
          "Uneffective",
          "Uneffective",
          "Effective",
          "Uneffective",
          "Partly Effective",
          "Effective",
          "Very Effective",
          "Very Effective",
          "Very Effective",
          "Partly Effective",
          "Partly Effective",
          "Uneffective",
          "Effective",
          "Partly Effective",
          "Very Effective",
          "Partly Effective",
          "Uneffective",
          "Very Effective",
          "Very Effective",
          "Partly Effective",
          "Very Effective",
          "Effective",
          "Partly Effective",
          "Very Effective",
          "Partly Effective",
          "Effective",
          "Partly Effective",
          "Effective",
          "Partly Effective",
          "Effective",
          "Partly Effective",
          "Partly Effective",
          "Effective",
          "Very Effective",
          "Partly Effective",
          "Partly Effective",
          "Partly Effective",
          "Partly Effective",
          "Partly Effective",
          "Partly Effective",
          "Partly Effective",
          "Partly Effective",
          "Very Effective",
          "Partly Effective",
          "Partly Effective",
          "Partly Effective",
          "Very Effective",
          "Very Effective",
          "Effective",
          "Uneffective",
          "Partly Effective",
          "Partly Effective",
          "Partly Effective",
          "Very Effective",
          "Very Effective",
          "Very Effective",
          "Very Effective",
          "Very Effective",
          "Very Effective",
          "Partly Effective",
          "Partly Effective",
          "Partly Effective",
          "Very Effective",
          "Effective",
          "Effective",
          "Effective",
          "Effective",
          "Partly Effective",
          "Partly Effective",
          "Effective",
          "Partly Effective",
          "Partly Effective",
          "Partly Effective",
          "Effective",
          "Effective",
          "Uneffective",
          "Partly Effective",
          "Partly Effective",
          "Effective",
          "Effective",
          "Partly Effective",
          "Uneffective",
          "Partly Effective",
          "Partly Effective",
          "Very Effective",
          "Very Effective",
          "Effective",
          "Uneffective",
          "Partly Effective",
          "Partly Effective",
          "Effective",
          "Partly Effective",
          "Partly Effective",
          "Partly Effective",
          "Partly Effective",
          "Very Effective",
          "Partly Effective",
          "Effective",
          "Effective",
          "Partly Effective",
          "Effective",
          "Effective",
          "Partly Effective",
          "Partly Effective",
          "Partly Effective",
          "Partly Effective",
          "Very Effective",
          "Effective",
          "Effective",
          "Very Effective",
          "Very Effective",
          "Very Effective",
          "Effective",
          "Effective",
          "Uneffective",
          "Very Effective",
          "Effective",
          "Effective",
          "Effective",
          "Very Effective",
          "Effective",
          "Very Effective",
          "Partly Effective",
          "Partly Effective",
          "Uneffective",
          "Very Effective",
          "Very Effective",
          "Effective",
          "Partly Effective",
          "Partly Effective",
          "Effective",
          "Effective",
          "Effective",
          "Effective",
          "Partly Effective",
          "Effective",
          "Partly Effective",
          "Very Effective",
          "Effective",
          "Partly Effective",
          "Partly Effective",
          "Very Effective",
          "Very Effective",
          "Partly Effective",
          "Partly Effective",
          "Effective",
          "Very Effective",
          "Uneffective",
          "Effective",
          "Very Effective",
          "Very Effective",
          "Partly Effective",
          "Partly Effective",
          "Very Effective",
          "Very Effective",
          "Partly Effective",
          "Effective",
          "Very Effective",
          "Partly Effective",
          "Very Effective",
          "Effective",
          "Very Effective",
          "Very Effective",
          "Very Effective",
          "Effective",
          "Very Effective",
          "Very Effective",
          "Partly Effective",
          "Very Effective",
          "Effective",
          "Effective",
          "Partly Effective",
          "Very Effective",
          "Partly Effective",
          "Effective",
          "Effective",
          "Effective",
          "Very Effective",
          "Very Effective",
          "Effective",
          "Partly Effective",
          "Partly Effective",
          "Very Effective",
          "Very Effective",
          "Very Effective",
          "Effective",
          "Very Effective",
          "Very Effective",
          "Effective",
          "Partly Effective",
          "Uneffective",
          "Partly Effective",
          "Very Effective",
          "Effective",
          "Partly Effective",
          "Effective",
          "Partly Effective",
          "Partly Effective",
          "Effective",
          "Partly Effective",
          "Very Effective",
          "Very Effective",
          "Very Effective",
          "Effective",
          "Effective",
          "Very Effective",
          "Very Effective",
          "Effective",
          "Partly Effective",
          "Very Effective",
          "Very Effective",
          "Very Effective",
          "Very Effective",
          "Partly Effective",
          "Very Effective",
          "Partly Effective",
          "Effective",
          "Very Effective",
          "Partly Effective",
          "Very Effective",
          "Partly Effective",
          "Partly Effective",
          "Effective",
          "Effective",
          "Partly Effective",
          "Partly Effective",
          "Uneffective",
          "Partly Effective",
          "Partly Effective",
          "Partly Effective",
          "Partly Effective",
          "Partly Effective",
          "Effective",
          "Partly Effective",
          "Partly Effective",
          "Partly Effective",
          "Effective",
          "Effective",
          "Partly Effective",
          "Effective",
          "Effective",
          "Effective",
          "Effective",
          "Very Effective",
          "Very Effective",
          "Effective",
          "Effective",
          "Very Effective",
          "Very Effective",
          "Partly Effective",
          "Effective",
          "Effective",
          "Very Effective",
          "Very Effective",
          "Partly Effective",
          "Effective",
          "Partly Effective",
          "Partly Effective",
          "Partly Effective",
          "Partly Effective",
          "Very Effective",
          "Effective",
          "Partly Effective",
          "Effective",
          "Very Effective",
          "Partly Effective",
          "Partly Effective",
          "Partly Effective",
          "Effective",
          "Very Effective",
          "Partly Effective",
          "Very Effective",
          "Very Effective",
          "Effective",
          "Very Effective",
          "Uneffective",
          "Partly Effective",
          "Partly Effective",
          "Partly Effective",
          "Uneffective",
          "Effective",
          "Effective",
          "Effective",
          "Partly Effective",
          "Partly Effective",
          "Partly Effective",
          "Effective",
          "Partly Effective",
          "Effective",
          "Effective",
          "Very Effective",
          "Partly Effective",
          "Effective",
          "Partly Effective",
          "Very Effective",
          "Partly Effective",
          "Partly Effective",
          "Very Effective",
          "Very Effective",
          "Effective",
          "Uneffective",
          "Very Effective",
          "Effective",
          "Partly Effective",
          "Effective",
          "Effective",
          "Effective",
          "Very Effective",
          "Very Effective",
          "Effective",
          "Effective",
          "Partly Effective",
          "Effective",
          "Very Effective",
          "Effective",
          "Partly Effective",
          "Effective",
          "Effective",
          "Very Effective",
          "Effective",
          "Partly Effective",
          "Partly Effective",
          "Effective",
          "Very Effective",
          "Very Effective",
          "Partly Effective",
          "Partly Effective",
          "Partly Effective",
          "Partly Effective",
          "Effective",
          "Very Effective",
          "Very Effective",
          "Partly Effective",
          "Partly Effective",
          "Effective",
          "Uneffective",
          "Effective",
          "Effective",
          "Partly Effective",
          "Effective",
          "Partly Effective",
          "Effective",
          "Partly Effective",
          "Very Effective",
          "Effective",
          "Effective",
          "Partly Effective",
          "Partly Effective",
          "Partly Effective",
          "Effective",
          "Partly Effective",
          "Partly Effective",
          "Effective",
          "Partly Effective",
          "Uneffective",
          "Very Effective",
          "Partly Effective",
          "Partly Effective",
          "Effective",
          "Very Effective",
          "Effective",
          "Partly Effective"
         ],
         "xaxis": "x",
         "yaxis": "y"
        },
        {
         "alignmentgroup": "True",
         "bingroup": "x",
         "hovertemplate": "Prescription_Type=OTC<br>level_of_effectiveness=%{x}<br>count=%{y}<extra></extra>",
         "legendgroup": "OTC",
         "marker": {
          "color": "#EF553B",
          "pattern": {
           "shape": ""
          }
         },
         "name": "OTC",
         "nbinsx": 5,
         "offsetgroup": "OTC",
         "orientation": "v",
         "showlegend": true,
         "type": "histogram",
         "x": [
          "Very Effective",
          "Effective",
          "Very Effective",
          "Very Effective",
          "Uneffective",
          "Uneffective",
          "Partly Effective",
          "Partly Effective",
          "Very Effective",
          "Partly Effective",
          "Partly Effective",
          "Partly Effective",
          "Partly Effective",
          "Very Effective",
          "Very Effective",
          "Very Effective",
          "Effective",
          "Very Effective",
          "Very Effective",
          "Very Effective",
          "Effective",
          "Very Effective",
          "Very Effective",
          "Partly Effective",
          "Uneffective",
          "Partly Effective",
          "Partly Effective",
          "Very Effective",
          "Partly Effective",
          "Very Effective",
          "Partly Effective",
          "Very Effective",
          "Very Effective",
          "Partly Effective",
          "Very Effective",
          "Very Effective",
          "Partly Effective",
          "Very Effective",
          "Very Effective",
          "Effective",
          "Very Effective",
          "Very Effective",
          "Very Effective",
          "Very Effective",
          "Partly Effective",
          "Partly Effective",
          "Very Effective",
          "Very Effective",
          "Partly Effective",
          "Partly Effective",
          "Effective",
          "Very Effective",
          "Very Effective",
          "Effective",
          "Very Effective",
          "Partly Effective",
          "Very Effective",
          "Very Effective",
          "Very Effective",
          "Partly Effective",
          "Very Effective",
          "Uneffective",
          "Partly Effective",
          "Partly Effective",
          "Very Effective",
          "Effective",
          "Partly Effective",
          "Very Effective",
          "Partly Effective",
          "Partly Effective",
          "Uneffective",
          "Very Effective",
          "Uneffective",
          "Very Effective",
          "Very Effective",
          "Very Effective",
          "Very Effective",
          "Partly Effective",
          "Very Effective",
          "Very Effective",
          "Uneffective",
          "Very Effective",
          "Very Effective",
          "Partly Effective",
          "Very Effective",
          "Effective",
          "Partly Effective",
          "Partly Effective",
          "Very Effective",
          "Very Effective",
          "Very Effective",
          "Partly Effective",
          "Very Effective",
          "Uneffective",
          "Very Effective",
          "Partly Effective",
          "Very Effective",
          "Very Effective",
          "Uneffective",
          "Uneffective",
          "Very Effective",
          "Very Effective",
          "Partly Effective",
          "Very Effective",
          "Effective",
          "Very Effective",
          "Very Effective",
          "Very Effective",
          "Very Effective",
          "Very Effective",
          "Effective",
          "Effective",
          "Very Effective",
          "Very Effective",
          "Very Effective",
          "Effective",
          "Very Effective",
          "Effective",
          "Partly Effective",
          "Partly Effective",
          "Very Effective",
          "Partly Effective",
          "Very Effective",
          "Very Effective",
          "Partly Effective",
          "Very Effective",
          "Partly Effective",
          "Partly Effective",
          "Very Effective",
          "Effective",
          "Partly Effective",
          "Very Effective",
          "Partly Effective",
          "Very Effective",
          "Very Effective",
          "Very Effective",
          "Very Effective",
          "Very Effective",
          "Uneffective",
          "Partly Effective",
          "Very Effective",
          "Very Effective",
          "Very Effective",
          "Partly Effective",
          "Partly Effective",
          "Partly Effective",
          "Very Effective",
          "Very Effective",
          "Uneffective",
          "Very Effective",
          "Very Effective",
          "Partly Effective",
          "Very Effective",
          "Very Effective",
          "Very Effective",
          "Effective",
          "Effective",
          "Effective",
          "Very Effective",
          "Uneffective",
          "Effective",
          "Very Effective",
          "Very Effective",
          "Very Effective",
          "Partly Effective",
          "Partly Effective",
          "Uneffective",
          "Partly Effective"
         ],
         "xaxis": "x",
         "yaxis": "y"
        },
        {
         "alignmentgroup": "True",
         "bingroup": "x",
         "hovertemplate": "Prescription_Type=RX/OTC<br>level_of_effectiveness=%{x}<br>count=%{y}<extra></extra>",
         "legendgroup": "RX/OTC",
         "marker": {
          "color": "#00cc96",
          "pattern": {
           "shape": ""
          }
         },
         "name": "RX/OTC",
         "nbinsx": 5,
         "offsetgroup": "RX/OTC",
         "orientation": "v",
         "showlegend": true,
         "type": "histogram",
         "x": [
          "Partly Effective",
          "Partly Effective",
          "Partly Effective",
          "Very Effective",
          "Effective",
          "Partly Effective",
          "Partly Effective",
          "Effective",
          "Partly Effective",
          "Partly Effective",
          "Partly Effective",
          "Effective",
          "Effective",
          "Very Effective",
          "Very Effective",
          "Effective",
          "Partly Effective",
          "Very Effective",
          "Partly Effective",
          "Uneffective",
          "Partly Effective",
          "Very Effective",
          "Partly Effective",
          "Very Effective",
          "Partly Effective",
          "Effective",
          "Partly Effective",
          "Partly Effective"
         ],
         "xaxis": "x",
         "yaxis": "y"
        },
        {
         "alignmentgroup": "True",
         "bingroup": "x",
         "hovertemplate": "Prescription_Type=Unkown<br>level_of_effectiveness=%{x}<br>count=%{y}<extra></extra>",
         "legendgroup": "Unkown",
         "marker": {
          "color": "#ab63fa",
          "pattern": {
           "shape": ""
          }
         },
         "name": "Unkown",
         "nbinsx": 5,
         "offsetgroup": "Unkown",
         "orientation": "v",
         "showlegend": true,
         "type": "histogram",
         "x": [
          "Very Effective",
          "Partly Effective",
          "Partly Effective",
          "Partly Effective",
          "Very Effective"
         ],
         "xaxis": "x",
         "yaxis": "y"
        }
       ],
       "layout": {
        "barmode": "relative",
        "legend": {
         "title": {
          "text": "Prescription_Type"
         },
         "tracegroupgap": 0
        },
        "margin": {
         "t": 60
        },
        "template": {
         "data": {
          "bar": [
           {
            "error_x": {
             "color": "#2a3f5f"
            },
            "error_y": {
             "color": "#2a3f5f"
            },
            "marker": {
             "line": {
              "color": "#E5ECF6",
              "width": 0.5
             },
             "pattern": {
              "fillmode": "overlay",
              "size": 10,
              "solidity": 0.2
             }
            },
            "type": "bar"
           }
          ],
          "barpolar": [
           {
            "marker": {
             "line": {
              "color": "#E5ECF6",
              "width": 0.5
             },
             "pattern": {
              "fillmode": "overlay",
              "size": 10,
              "solidity": 0.2
             }
            },
            "type": "barpolar"
           }
          ],
          "carpet": [
           {
            "aaxis": {
             "endlinecolor": "#2a3f5f",
             "gridcolor": "white",
             "linecolor": "white",
             "minorgridcolor": "white",
             "startlinecolor": "#2a3f5f"
            },
            "baxis": {
             "endlinecolor": "#2a3f5f",
             "gridcolor": "white",
             "linecolor": "white",
             "minorgridcolor": "white",
             "startlinecolor": "#2a3f5f"
            },
            "type": "carpet"
           }
          ],
          "choropleth": [
           {
            "colorbar": {
             "outlinewidth": 0,
             "ticks": ""
            },
            "type": "choropleth"
           }
          ],
          "contour": [
           {
            "colorbar": {
             "outlinewidth": 0,
             "ticks": ""
            },
            "colorscale": [
             [
              0,
              "#0d0887"
             ],
             [
              0.1111111111111111,
              "#46039f"
             ],
             [
              0.2222222222222222,
              "#7201a8"
             ],
             [
              0.3333333333333333,
              "#9c179e"
             ],
             [
              0.4444444444444444,
              "#bd3786"
             ],
             [
              0.5555555555555556,
              "#d8576b"
             ],
             [
              0.6666666666666666,
              "#ed7953"
             ],
             [
              0.7777777777777778,
              "#fb9f3a"
             ],
             [
              0.8888888888888888,
              "#fdca26"
             ],
             [
              1,
              "#f0f921"
             ]
            ],
            "type": "contour"
           }
          ],
          "contourcarpet": [
           {
            "colorbar": {
             "outlinewidth": 0,
             "ticks": ""
            },
            "type": "contourcarpet"
           }
          ],
          "heatmap": [
           {
            "colorbar": {
             "outlinewidth": 0,
             "ticks": ""
            },
            "colorscale": [
             [
              0,
              "#0d0887"
             ],
             [
              0.1111111111111111,
              "#46039f"
             ],
             [
              0.2222222222222222,
              "#7201a8"
             ],
             [
              0.3333333333333333,
              "#9c179e"
             ],
             [
              0.4444444444444444,
              "#bd3786"
             ],
             [
              0.5555555555555556,
              "#d8576b"
             ],
             [
              0.6666666666666666,
              "#ed7953"
             ],
             [
              0.7777777777777778,
              "#fb9f3a"
             ],
             [
              0.8888888888888888,
              "#fdca26"
             ],
             [
              1,
              "#f0f921"
             ]
            ],
            "type": "heatmap"
           }
          ],
          "heatmapgl": [
           {
            "colorbar": {
             "outlinewidth": 0,
             "ticks": ""
            },
            "colorscale": [
             [
              0,
              "#0d0887"
             ],
             [
              0.1111111111111111,
              "#46039f"
             ],
             [
              0.2222222222222222,
              "#7201a8"
             ],
             [
              0.3333333333333333,
              "#9c179e"
             ],
             [
              0.4444444444444444,
              "#bd3786"
             ],
             [
              0.5555555555555556,
              "#d8576b"
             ],
             [
              0.6666666666666666,
              "#ed7953"
             ],
             [
              0.7777777777777778,
              "#fb9f3a"
             ],
             [
              0.8888888888888888,
              "#fdca26"
             ],
             [
              1,
              "#f0f921"
             ]
            ],
            "type": "heatmapgl"
           }
          ],
          "histogram": [
           {
            "marker": {
             "pattern": {
              "fillmode": "overlay",
              "size": 10,
              "solidity": 0.2
             }
            },
            "type": "histogram"
           }
          ],
          "histogram2d": [
           {
            "colorbar": {
             "outlinewidth": 0,
             "ticks": ""
            },
            "colorscale": [
             [
              0,
              "#0d0887"
             ],
             [
              0.1111111111111111,
              "#46039f"
             ],
             [
              0.2222222222222222,
              "#7201a8"
             ],
             [
              0.3333333333333333,
              "#9c179e"
             ],
             [
              0.4444444444444444,
              "#bd3786"
             ],
             [
              0.5555555555555556,
              "#d8576b"
             ],
             [
              0.6666666666666666,
              "#ed7953"
             ],
             [
              0.7777777777777778,
              "#fb9f3a"
             ],
             [
              0.8888888888888888,
              "#fdca26"
             ],
             [
              1,
              "#f0f921"
             ]
            ],
            "type": "histogram2d"
           }
          ],
          "histogram2dcontour": [
           {
            "colorbar": {
             "outlinewidth": 0,
             "ticks": ""
            },
            "colorscale": [
             [
              0,
              "#0d0887"
             ],
             [
              0.1111111111111111,
              "#46039f"
             ],
             [
              0.2222222222222222,
              "#7201a8"
             ],
             [
              0.3333333333333333,
              "#9c179e"
             ],
             [
              0.4444444444444444,
              "#bd3786"
             ],
             [
              0.5555555555555556,
              "#d8576b"
             ],
             [
              0.6666666666666666,
              "#ed7953"
             ],
             [
              0.7777777777777778,
              "#fb9f3a"
             ],
             [
              0.8888888888888888,
              "#fdca26"
             ],
             [
              1,
              "#f0f921"
             ]
            ],
            "type": "histogram2dcontour"
           }
          ],
          "mesh3d": [
           {
            "colorbar": {
             "outlinewidth": 0,
             "ticks": ""
            },
            "type": "mesh3d"
           }
          ],
          "parcoords": [
           {
            "line": {
             "colorbar": {
              "outlinewidth": 0,
              "ticks": ""
             }
            },
            "type": "parcoords"
           }
          ],
          "pie": [
           {
            "automargin": true,
            "type": "pie"
           }
          ],
          "scatter": [
           {
            "fillpattern": {
             "fillmode": "overlay",
             "size": 10,
             "solidity": 0.2
            },
            "type": "scatter"
           }
          ],
          "scatter3d": [
           {
            "line": {
             "colorbar": {
              "outlinewidth": 0,
              "ticks": ""
             }
            },
            "marker": {
             "colorbar": {
              "outlinewidth": 0,
              "ticks": ""
             }
            },
            "type": "scatter3d"
           }
          ],
          "scattercarpet": [
           {
            "marker": {
             "colorbar": {
              "outlinewidth": 0,
              "ticks": ""
             }
            },
            "type": "scattercarpet"
           }
          ],
          "scattergeo": [
           {
            "marker": {
             "colorbar": {
              "outlinewidth": 0,
              "ticks": ""
             }
            },
            "type": "scattergeo"
           }
          ],
          "scattergl": [
           {
            "marker": {
             "colorbar": {
              "outlinewidth": 0,
              "ticks": ""
             }
            },
            "type": "scattergl"
           }
          ],
          "scattermapbox": [
           {
            "marker": {
             "colorbar": {
              "outlinewidth": 0,
              "ticks": ""
             }
            },
            "type": "scattermapbox"
           }
          ],
          "scatterpolar": [
           {
            "marker": {
             "colorbar": {
              "outlinewidth": 0,
              "ticks": ""
             }
            },
            "type": "scatterpolar"
           }
          ],
          "scatterpolargl": [
           {
            "marker": {
             "colorbar": {
              "outlinewidth": 0,
              "ticks": ""
             }
            },
            "type": "scatterpolargl"
           }
          ],
          "scatterternary": [
           {
            "marker": {
             "colorbar": {
              "outlinewidth": 0,
              "ticks": ""
             }
            },
            "type": "scatterternary"
           }
          ],
          "surface": [
           {
            "colorbar": {
             "outlinewidth": 0,
             "ticks": ""
            },
            "colorscale": [
             [
              0,
              "#0d0887"
             ],
             [
              0.1111111111111111,
              "#46039f"
             ],
             [
              0.2222222222222222,
              "#7201a8"
             ],
             [
              0.3333333333333333,
              "#9c179e"
             ],
             [
              0.4444444444444444,
              "#bd3786"
             ],
             [
              0.5555555555555556,
              "#d8576b"
             ],
             [
              0.6666666666666666,
              "#ed7953"
             ],
             [
              0.7777777777777778,
              "#fb9f3a"
             ],
             [
              0.8888888888888888,
              "#fdca26"
             ],
             [
              1,
              "#f0f921"
             ]
            ],
            "type": "surface"
           }
          ],
          "table": [
           {
            "cells": {
             "fill": {
              "color": "#EBF0F8"
             },
             "line": {
              "color": "white"
             }
            },
            "header": {
             "fill": {
              "color": "#C8D4E3"
             },
             "line": {
              "color": "white"
             }
            },
            "type": "table"
           }
          ]
         },
         "layout": {
          "annotationdefaults": {
           "arrowcolor": "#2a3f5f",
           "arrowhead": 0,
           "arrowwidth": 1
          },
          "autotypenumbers": "strict",
          "coloraxis": {
           "colorbar": {
            "outlinewidth": 0,
            "ticks": ""
           }
          },
          "colorscale": {
           "diverging": [
            [
             0,
             "#8e0152"
            ],
            [
             0.1,
             "#c51b7d"
            ],
            [
             0.2,
             "#de77ae"
            ],
            [
             0.3,
             "#f1b6da"
            ],
            [
             0.4,
             "#fde0ef"
            ],
            [
             0.5,
             "#f7f7f7"
            ],
            [
             0.6,
             "#e6f5d0"
            ],
            [
             0.7,
             "#b8e186"
            ],
            [
             0.8,
             "#7fbc41"
            ],
            [
             0.9,
             "#4d9221"
            ],
            [
             1,
             "#276419"
            ]
           ],
           "sequential": [
            [
             0,
             "#0d0887"
            ],
            [
             0.1111111111111111,
             "#46039f"
            ],
            [
             0.2222222222222222,
             "#7201a8"
            ],
            [
             0.3333333333333333,
             "#9c179e"
            ],
            [
             0.4444444444444444,
             "#bd3786"
            ],
            [
             0.5555555555555556,
             "#d8576b"
            ],
            [
             0.6666666666666666,
             "#ed7953"
            ],
            [
             0.7777777777777778,
             "#fb9f3a"
            ],
            [
             0.8888888888888888,
             "#fdca26"
            ],
            [
             1,
             "#f0f921"
            ]
           ],
           "sequentialminus": [
            [
             0,
             "#0d0887"
            ],
            [
             0.1111111111111111,
             "#46039f"
            ],
            [
             0.2222222222222222,
             "#7201a8"
            ],
            [
             0.3333333333333333,
             "#9c179e"
            ],
            [
             0.4444444444444444,
             "#bd3786"
            ],
            [
             0.5555555555555556,
             "#d8576b"
            ],
            [
             0.6666666666666666,
             "#ed7953"
            ],
            [
             0.7777777777777778,
             "#fb9f3a"
            ],
            [
             0.8888888888888888,
             "#fdca26"
            ],
            [
             1,
             "#f0f921"
            ]
           ]
          },
          "colorway": [
           "#636efa",
           "#EF553B",
           "#00cc96",
           "#ab63fa",
           "#FFA15A",
           "#19d3f3",
           "#FF6692",
           "#B6E880",
           "#FF97FF",
           "#FECB52"
          ],
          "font": {
           "color": "#2a3f5f"
          },
          "geo": {
           "bgcolor": "white",
           "lakecolor": "white",
           "landcolor": "#E5ECF6",
           "showlakes": true,
           "showland": true,
           "subunitcolor": "white"
          },
          "hoverlabel": {
           "align": "left"
          },
          "hovermode": "closest",
          "mapbox": {
           "style": "light"
          },
          "paper_bgcolor": "white",
          "plot_bgcolor": "#E5ECF6",
          "polar": {
           "angularaxis": {
            "gridcolor": "white",
            "linecolor": "white",
            "ticks": ""
           },
           "bgcolor": "#E5ECF6",
           "radialaxis": {
            "gridcolor": "white",
            "linecolor": "white",
            "ticks": ""
           }
          },
          "scene": {
           "xaxis": {
            "backgroundcolor": "#E5ECF6",
            "gridcolor": "white",
            "gridwidth": 2,
            "linecolor": "white",
            "showbackground": true,
            "ticks": "",
            "zerolinecolor": "white"
           },
           "yaxis": {
            "backgroundcolor": "#E5ECF6",
            "gridcolor": "white",
            "gridwidth": 2,
            "linecolor": "white",
            "showbackground": true,
            "ticks": "",
            "zerolinecolor": "white"
           },
           "zaxis": {
            "backgroundcolor": "#E5ECF6",
            "gridcolor": "white",
            "gridwidth": 2,
            "linecolor": "white",
            "showbackground": true,
            "ticks": "",
            "zerolinecolor": "white"
           }
          },
          "shapedefaults": {
           "line": {
            "color": "#2a3f5f"
           }
          },
          "ternary": {
           "aaxis": {
            "gridcolor": "white",
            "linecolor": "white",
            "ticks": ""
           },
           "baxis": {
            "gridcolor": "white",
            "linecolor": "white",
            "ticks": ""
           },
           "bgcolor": "#E5ECF6",
           "caxis": {
            "gridcolor": "white",
            "linecolor": "white",
            "ticks": ""
           }
          },
          "title": {
           "x": 0.05
          },
          "xaxis": {
           "automargin": true,
           "gridcolor": "white",
           "linecolor": "white",
           "ticks": "",
           "title": {
            "standoff": 15
           },
           "zerolinecolor": "white",
           "zerolinewidth": 2
          },
          "yaxis": {
           "automargin": true,
           "gridcolor": "white",
           "linecolor": "white",
           "ticks": "",
           "title": {
            "standoff": 15
           },
           "zerolinecolor": "white",
           "zerolinewidth": 2
          }
         }
        },
        "xaxis": {
         "anchor": "y",
         "domain": [
          0,
          1
         ],
         "title": {
          "text": "level_of_effectiveness"
         }
        },
        "yaxis": {
         "anchor": "x",
         "domain": [
          0,
          1
         ],
         "title": {
          "text": "count"
         }
        }
       }
      }
     },
     "metadata": {},
     "output_type": "display_data"
    }
   ],
   "source": [
    "fig2= px.histogram(df,x= 'level_of_effectiveness',nbins=5,color='Prescription_Type')\n",
    "fig2.show()"
   ]
  },
  {
   "cell_type": "code",
   "execution_count": 220,
   "metadata": {},
   "outputs": [],
   "source": [
    "# That means: Rx is more effective"
   ]
  },
  {
   "cell_type": "markdown",
   "metadata": {},
   "source": [
    "**Don't forget to give an information about the least reviewd drugs**"
   ]
  },
  {
   "cell_type": "code",
   "execution_count": 225,
   "metadata": {},
   "outputs": [
    {
     "data": {
      "text/html": [
       "<div>\n",
       "<style scoped>\n",
       "    .dataframe tbody tr th:only-of-type {\n",
       "        vertical-align: middle;\n",
       "    }\n",
       "\n",
       "    .dataframe tbody tr th {\n",
       "        vertical-align: top;\n",
       "    }\n",
       "\n",
       "    .dataframe thead th {\n",
       "        text-align: right;\n",
       "    }\n",
       "</style>\n",
       "<table border=\"1\" class=\"dataframe\">\n",
       "  <thead>\n",
       "    <tr style=\"text-align: right;\">\n",
       "      <th></th>\n",
       "      <th>Condition</th>\n",
       "      <th>Generic_Name</th>\n",
       "      <th>Ease_Of_Use</th>\n",
       "      <th>Effectiveness</th>\n",
       "      <th>Dosage_Form</th>\n",
       "      <th>Indication</th>\n",
       "      <th>Price</th>\n",
       "      <th>Reviews</th>\n",
       "      <th>Satisfaction</th>\n",
       "      <th>Prescription_Type</th>\n",
       "      <th>level_of_effectiveness</th>\n",
       "      <th>level_of_difficulty</th>\n",
       "      <th>level_of_Satisfaction</th>\n",
       "    </tr>\n",
       "  </thead>\n",
       "  <tbody>\n",
       "    <tr>\n",
       "      <th>630</th>\n",
       "      <td>Meniere'S Disease</td>\n",
       "      <td>Dimenhydrinate</td>\n",
       "      <td>5.0</td>\n",
       "      <td>5.0</td>\n",
       "      <td>Tablet</td>\n",
       "      <td>Off Label</td>\n",
       "      <td>4.0</td>\n",
       "      <td>1.0</td>\n",
       "      <td>5.0</td>\n",
       "      <td>OTC</td>\n",
       "      <td>Very Effective</td>\n",
       "      <td>Very Easy</td>\n",
       "      <td>Very Satisfied</td>\n",
       "    </tr>\n",
       "    <tr>\n",
       "      <th>292</th>\n",
       "      <td>Fever</td>\n",
       "      <td>Chlorpheniramine-Acetaminophen</td>\n",
       "      <td>4.0</td>\n",
       "      <td>3.5</td>\n",
       "      <td>Other</td>\n",
       "      <td>On Label</td>\n",
       "      <td>10.5</td>\n",
       "      <td>1.0</td>\n",
       "      <td>1.5</td>\n",
       "      <td>OTC</td>\n",
       "      <td>Effective</td>\n",
       "      <td>Very Easy</td>\n",
       "      <td>Unsatisfied</td>\n",
       "    </tr>\n",
       "    <tr>\n",
       "      <th>51</th>\n",
       "      <td>Atopic Dermatitis</td>\n",
       "      <td>Hydrocortisone Acetate</td>\n",
       "      <td>4.0</td>\n",
       "      <td>2.0</td>\n",
       "      <td>Cream</td>\n",
       "      <td>On Label</td>\n",
       "      <td>14.6</td>\n",
       "      <td>1.0</td>\n",
       "      <td>2.0</td>\n",
       "      <td>RX/OTC</td>\n",
       "      <td>Partly Effective</td>\n",
       "      <td>Very Easy</td>\n",
       "      <td>Unsatisfied</td>\n",
       "    </tr>\n",
       "    <tr>\n",
       "      <th>626</th>\n",
       "      <td>Impetigo</td>\n",
       "      <td>Mupirocin</td>\n",
       "      <td>4.0</td>\n",
       "      <td>1.0</td>\n",
       "      <td>Other</td>\n",
       "      <td>On Label</td>\n",
       "      <td>365.0</td>\n",
       "      <td>1.0</td>\n",
       "      <td>1.0</td>\n",
       "      <td>RX</td>\n",
       "      <td>Uneffective</td>\n",
       "      <td>Very Easy</td>\n",
       "      <td>Unsatisfied</td>\n",
       "    </tr>\n",
       "    <tr>\n",
       "      <th>111</th>\n",
       "      <td>Bacterial Urinary Tract Infection</td>\n",
       "      <td>Cefazolin In Dextrose (Iso-Os)</td>\n",
       "      <td>3.0</td>\n",
       "      <td>2.0</td>\n",
       "      <td>Injection</td>\n",
       "      <td>On Label</td>\n",
       "      <td>6.0</td>\n",
       "      <td>1.0</td>\n",
       "      <td>1.0</td>\n",
       "      <td>RX</td>\n",
       "      <td>Partly Effective</td>\n",
       "      <td>Difficult</td>\n",
       "      <td>Unsatisfied</td>\n",
       "    </tr>\n",
       "    <tr>\n",
       "      <th>27</th>\n",
       "      <td>Atopic Dermatitis</td>\n",
       "      <td>Desonide-Emollient Combo No 28</td>\n",
       "      <td>4.0</td>\n",
       "      <td>4.0</td>\n",
       "      <td>Cream</td>\n",
       "      <td>On Label</td>\n",
       "      <td>90.0</td>\n",
       "      <td>1.0</td>\n",
       "      <td>4.0</td>\n",
       "      <td>RX</td>\n",
       "      <td>Very Effective</td>\n",
       "      <td>Very Easy</td>\n",
       "      <td>Very Satisfied</td>\n",
       "    </tr>\n",
       "    <tr>\n",
       "      <th>113</th>\n",
       "      <td>Bacterial Urinary Tract Infection</td>\n",
       "      <td>Cefepime</td>\n",
       "      <td>2.0</td>\n",
       "      <td>4.0</td>\n",
       "      <td>Capsule</td>\n",
       "      <td>On Label</td>\n",
       "      <td>78.0</td>\n",
       "      <td>1.0</td>\n",
       "      <td>4.0</td>\n",
       "      <td>RX</td>\n",
       "      <td>Very Effective</td>\n",
       "      <td>Difficult</td>\n",
       "      <td>Very Satisfied</td>\n",
       "    </tr>\n",
       "    <tr>\n",
       "      <th>362</th>\n",
       "      <td>Flatulence</td>\n",
       "      <td>Simethicone, Alpha-D-Galactosidase</td>\n",
       "      <td>5.0</td>\n",
       "      <td>3.0</td>\n",
       "      <td>Liquid (Drink)</td>\n",
       "      <td>On Label</td>\n",
       "      <td>11.9</td>\n",
       "      <td>1.0</td>\n",
       "      <td>3.0</td>\n",
       "      <td>Unkown</td>\n",
       "      <td>Partly Effective</td>\n",
       "      <td>Very Easy</td>\n",
       "      <td>Satisfied</td>\n",
       "    </tr>\n",
       "    <tr>\n",
       "      <th>55</th>\n",
       "      <td>Atopic Dermatitis</td>\n",
       "      <td>Hydrocortisone Sod Succ (PF)</td>\n",
       "      <td>5.0</td>\n",
       "      <td>4.0</td>\n",
       "      <td>Injection</td>\n",
       "      <td>On Label</td>\n",
       "      <td>50.0</td>\n",
       "      <td>1.0</td>\n",
       "      <td>4.0</td>\n",
       "      <td>RX</td>\n",
       "      <td>Very Effective</td>\n",
       "      <td>Very Easy</td>\n",
       "      <td>Very Satisfied</td>\n",
       "    </tr>\n",
       "    <tr>\n",
       "      <th>299</th>\n",
       "      <td>Fever</td>\n",
       "      <td>Dextromethorphan-Guaifenesin, Guaifenesin, Cpm...</td>\n",
       "      <td>2.0</td>\n",
       "      <td>2.0</td>\n",
       "      <td>Liquid (Drink)</td>\n",
       "      <td>On Label</td>\n",
       "      <td>12.0</td>\n",
       "      <td>1.0</td>\n",
       "      <td>1.0</td>\n",
       "      <td>OTC</td>\n",
       "      <td>Partly Effective</td>\n",
       "      <td>Difficult</td>\n",
       "      <td>Unsatisfied</td>\n",
       "    </tr>\n",
       "    <tr>\n",
       "      <th>335</th>\n",
       "      <td>Fever</td>\n",
       "      <td>Pseudoephedrine-Ibuprofen, Ibuprofen</td>\n",
       "      <td>5.0</td>\n",
       "      <td>5.0</td>\n",
       "      <td>Liquid (Drink)</td>\n",
       "      <td>On Label</td>\n",
       "      <td>19.0</td>\n",
       "      <td>1.0</td>\n",
       "      <td>5.0</td>\n",
       "      <td>OTC</td>\n",
       "      <td>Very Effective</td>\n",
       "      <td>Very Easy</td>\n",
       "      <td>Very Satisfied</td>\n",
       "    </tr>\n",
       "    <tr>\n",
       "      <th>300</th>\n",
       "      <td>Fever</td>\n",
       "      <td>Doxylam-PE-DM-Acetaminophen-GG</td>\n",
       "      <td>5.0</td>\n",
       "      <td>4.0</td>\n",
       "      <td>Other</td>\n",
       "      <td>On Label</td>\n",
       "      <td>24.2</td>\n",
       "      <td>1.0</td>\n",
       "      <td>5.0</td>\n",
       "      <td>OTC</td>\n",
       "      <td>Very Effective</td>\n",
       "      <td>Very Easy</td>\n",
       "      <td>Very Satisfied</td>\n",
       "    </tr>\n",
       "    <tr>\n",
       "      <th>400</th>\n",
       "      <td>Gastroesophageal Reflux Disease</td>\n",
       "      <td>Magnesium Hydroxide</td>\n",
       "      <td>4.0</td>\n",
       "      <td>4.0</td>\n",
       "      <td>Liquid (Drink)</td>\n",
       "      <td>Off Label</td>\n",
       "      <td>12.2</td>\n",
       "      <td>1.0</td>\n",
       "      <td>4.0</td>\n",
       "      <td>OTC</td>\n",
       "      <td>Very Effective</td>\n",
       "      <td>Very Easy</td>\n",
       "      <td>Very Satisfied</td>\n",
       "    </tr>\n",
       "    <tr>\n",
       "      <th>399</th>\n",
       "      <td>Gastroesophageal Reflux Disease</td>\n",
       "      <td>Magaldrate</td>\n",
       "      <td>5.0</td>\n",
       "      <td>5.0</td>\n",
       "      <td>Liquid (Drink)</td>\n",
       "      <td>Off Label</td>\n",
       "      <td>6.0</td>\n",
       "      <td>1.0</td>\n",
       "      <td>5.0</td>\n",
       "      <td>OTC</td>\n",
       "      <td>Very Effective</td>\n",
       "      <td>Very Easy</td>\n",
       "      <td>Very Satisfied</td>\n",
       "    </tr>\n",
       "    <tr>\n",
       "      <th>486</th>\n",
       "      <td>Hemorrhoids</td>\n",
       "      <td>Zinc Oxide</td>\n",
       "      <td>1.0</td>\n",
       "      <td>1.0</td>\n",
       "      <td>Other</td>\n",
       "      <td>On Label</td>\n",
       "      <td>19.4</td>\n",
       "      <td>1.0</td>\n",
       "      <td>1.0</td>\n",
       "      <td>OTC</td>\n",
       "      <td>Uneffective</td>\n",
       "      <td>Very difficult</td>\n",
       "      <td>Unsatisfied</td>\n",
       "    </tr>\n",
       "  </tbody>\n",
       "</table>\n",
       "</div>"
      ],
      "text/plain": [
       "                             Condition  \\\n",
       "630                  Meniere'S Disease   \n",
       "292                              Fever   \n",
       "51                   Atopic Dermatitis   \n",
       "626                           Impetigo   \n",
       "111  Bacterial Urinary Tract Infection   \n",
       "27                   Atopic Dermatitis   \n",
       "113  Bacterial Urinary Tract Infection   \n",
       "362                         Flatulence   \n",
       "55                   Atopic Dermatitis   \n",
       "299                              Fever   \n",
       "335                              Fever   \n",
       "300                              Fever   \n",
       "400    Gastroesophageal Reflux Disease   \n",
       "399    Gastroesophageal Reflux Disease   \n",
       "486                        Hemorrhoids   \n",
       "\n",
       "                                          Generic_Name  Ease_Of_Use  \\\n",
       "630                                     Dimenhydrinate          5.0   \n",
       "292                     Chlorpheniramine-Acetaminophen          4.0   \n",
       "51                              Hydrocortisone Acetate          4.0   \n",
       "626                                          Mupirocin          4.0   \n",
       "111                     Cefazolin In Dextrose (Iso-Os)          3.0   \n",
       "27                      Desonide-Emollient Combo No 28          4.0   \n",
       "113                                           Cefepime          2.0   \n",
       "362                 Simethicone, Alpha-D-Galactosidase          5.0   \n",
       "55                        Hydrocortisone Sod Succ (PF)          5.0   \n",
       "299  Dextromethorphan-Guaifenesin, Guaifenesin, Cpm...          2.0   \n",
       "335               Pseudoephedrine-Ibuprofen, Ibuprofen          5.0   \n",
       "300                     Doxylam-PE-DM-Acetaminophen-GG          5.0   \n",
       "400                                Magnesium Hydroxide          4.0   \n",
       "399                                         Magaldrate          5.0   \n",
       "486                                         Zinc Oxide          1.0   \n",
       "\n",
       "     Effectiveness     Dosage_Form Indication  Price  Reviews  Satisfaction  \\\n",
       "630            5.0          Tablet  Off Label    4.0      1.0           5.0   \n",
       "292            3.5           Other   On Label   10.5      1.0           1.5   \n",
       "51             2.0           Cream   On Label   14.6      1.0           2.0   \n",
       "626            1.0           Other   On Label  365.0      1.0           1.0   \n",
       "111            2.0       Injection   On Label    6.0      1.0           1.0   \n",
       "27             4.0           Cream   On Label   90.0      1.0           4.0   \n",
       "113            4.0         Capsule   On Label   78.0      1.0           4.0   \n",
       "362            3.0  Liquid (Drink)   On Label   11.9      1.0           3.0   \n",
       "55             4.0       Injection   On Label   50.0      1.0           4.0   \n",
       "299            2.0  Liquid (Drink)   On Label   12.0      1.0           1.0   \n",
       "335            5.0  Liquid (Drink)   On Label   19.0      1.0           5.0   \n",
       "300            4.0           Other   On Label   24.2      1.0           5.0   \n",
       "400            4.0  Liquid (Drink)  Off Label   12.2      1.0           4.0   \n",
       "399            5.0  Liquid (Drink)  Off Label    6.0      1.0           5.0   \n",
       "486            1.0           Other   On Label   19.4      1.0           1.0   \n",
       "\n",
       "    Prescription_Type level_of_effectiveness level_of_difficulty  \\\n",
       "630               OTC         Very Effective           Very Easy   \n",
       "292               OTC              Effective           Very Easy   \n",
       "51             RX/OTC       Partly Effective           Very Easy   \n",
       "626                RX            Uneffective           Very Easy   \n",
       "111                RX       Partly Effective           Difficult   \n",
       "27                 RX         Very Effective           Very Easy   \n",
       "113                RX         Very Effective           Difficult   \n",
       "362            Unkown       Partly Effective           Very Easy   \n",
       "55                 RX         Very Effective           Very Easy   \n",
       "299               OTC       Partly Effective           Difficult   \n",
       "335               OTC         Very Effective           Very Easy   \n",
       "300               OTC         Very Effective           Very Easy   \n",
       "400               OTC         Very Effective           Very Easy   \n",
       "399               OTC         Very Effective           Very Easy   \n",
       "486               OTC            Uneffective      Very difficult   \n",
       "\n",
       "    level_of_Satisfaction  \n",
       "630        Very Satisfied  \n",
       "292           Unsatisfied  \n",
       "51            Unsatisfied  \n",
       "626           Unsatisfied  \n",
       "111           Unsatisfied  \n",
       "27         Very Satisfied  \n",
       "113        Very Satisfied  \n",
       "362             Satisfied  \n",
       "55         Very Satisfied  \n",
       "299           Unsatisfied  \n",
       "335        Very Satisfied  \n",
       "300        Very Satisfied  \n",
       "400        Very Satisfied  \n",
       "399        Very Satisfied  \n",
       "486           Unsatisfied  "
      ]
     },
     "execution_count": 225,
     "metadata": {},
     "output_type": "execute_result"
    }
   ],
   "source": [
    "least_review = df.sort_values(by='Reviews', ascending=False,).tail(15)\n",
    "\n",
    "least_review"
   ]
  },
  {
   "cell_type": "markdown",
   "metadata": {},
   "source": [
    "# Categorical Data Plot"
   ]
  },
  {
   "cell_type": "code",
   "execution_count": 228,
   "metadata": {},
   "outputs": [
    {
     "data": {
      "application/vnd.plotly.v1+json": {
       "config": {
        "plotlyServerURL": "https://plot.ly"
       },
       "data": [
        {
         "alignmentgroup": "True",
         "box": {
          "visible": true
         },
         "hovertemplate": "Effectiveness=%{y}<extra></extra>",
         "legendgroup": "",
         "marker": {
          "color": "#636efa"
         },
         "name": "",
         "offsetgroup": "",
         "orientation": "v",
         "scalegroup": "True",
         "showlegend": false,
         "type": "violin",
         "x0": " ",
         "xaxis": "x",
         "y": [
          3.7,
          3.3,
          3,
          3,
          3,
          3,
          3.3,
          3.5,
          3.3,
          3.3,
          4,
          2.6,
          2.9,
          2.3,
          2.8,
          5,
          4,
          4.3,
          4.2,
          3.9,
          3.8,
          4.1,
          3.3,
          3.9,
          3.6,
          4.6,
          3.9,
          4,
          1.5,
          3.4,
          3.5,
          5,
          4.1,
          4.7,
          4.7,
          4.3,
          3.8,
          4.5,
          1,
          5,
          4.7,
          5,
          3.5,
          3.5,
          5,
          4.5,
          3.6,
          4.2,
          2.6,
          4.2,
          2,
          4.6,
          3.5,
          1,
          4,
          4,
          2,
          5,
          4,
          1,
          3.8,
          3.2,
          3.2,
          4.8,
          3.3,
          5,
          3.2,
          4.1,
          1,
          4.3,
          3.3,
          1,
          4.3,
          4.1,
          3.4,
          1,
          4,
          2,
          3.7,
          3,
          3.3,
          2.9,
          3.2,
          3,
          4.1,
          4.4,
          2.6,
          4,
          3.8,
          3.5,
          1,
          2.3,
          2.1,
          2.4,
          2.2,
          2.5,
          1,
          3.3,
          2.7,
          3,
          3,
          1,
          5,
          3.5,
          4,
          3,
          2.9,
          2.4,
          2.4,
          2,
          2.4,
          4,
          3,
          5,
          4.5,
          2.7,
          2,
          4.3,
          5,
          3.2,
          5,
          3.2,
          3.6,
          5,
          3.6,
          3.1,
          1,
          1,
          3.5,
          1.9,
          3.4,
          3.8,
          5,
          4.1,
          5,
          3.2,
          2,
          1,
          3.5,
          3.3,
          4.2,
          2.8,
          1,
          4,
          5,
          2.7,
          4.5,
          3.9,
          2.8,
          4.4,
          2.7,
          3.5,
          2.1,
          3.6,
          3.3,
          3.5,
          2.4,
          2.4,
          3.6,
          4.5,
          2.7,
          2.7,
          2.4,
          3.2,
          3.2,
          3.1,
          3.3,
          3.3,
          4,
          2.7,
          3.4,
          3,
          4,
          4.1,
          3.6,
          1.7,
          3,
          3.3,
          2.5,
          4.5,
          2.6,
          3.4,
          5,
          3.3,
          3,
          3,
          2.5,
          5,
          4.9,
          5,
          3.6,
          5,
          4,
          5,
          3.9,
          5,
          5,
          4.3,
          4.3,
          4.2,
          5,
          4.1,
          3,
          3.4,
          2.9,
          4.5,
          3.7,
          3.6,
          3.7,
          3.7,
          3.2,
          3.1,
          3.8,
          3,
          3.3,
          3.3,
          3.7,
          3.5,
          1,
          3,
          3,
          3.6,
          3.6,
          3.1,
          1,
          3,
          2,
          4.5,
          5,
          3.7,
          1,
          2.8,
          2.7,
          3.6,
          2.5,
          2.9,
          3,
          2.7,
          4.3,
          2.8,
          3.5,
          3.8,
          2.8,
          3.9,
          3.5,
          3.3,
          3.2,
          2,
          2.8,
          4,
          3.9,
          3.9,
          4.1,
          4.3,
          4.1,
          3.7,
          3.8,
          1,
          4.5,
          3.8,
          3.8,
          3.7,
          4.3,
          3.8,
          4.3,
          3,
          1,
          2.2,
          2.6,
          3.4,
          2.8,
          5,
          2.7,
          5,
          3.3,
          1,
          4.3,
          4.3,
          5,
          2,
          5,
          5,
          2,
          4.3,
          5,
          3.5,
          4,
          4.1,
          4,
          5,
          4.6,
          3,
          2,
          4,
          4,
          3,
          3.4,
          3.8,
          4,
          4,
          4.1,
          3.5,
          3.7,
          3.3,
          2.8,
          3.7,
          3.8,
          3.1,
          4.5,
          3.4,
          5,
          4,
          5,
          3.4,
          3.9,
          3.2,
          4.2,
          1,
          3.8,
          3,
          3.3,
          4.2,
          3.5,
          3.4,
          5,
          3,
          3.2,
          1,
          5,
          3.5,
          3.1,
          3.6,
          3.4,
          4,
          3.6,
          3.3,
          3.4,
          4.4,
          4,
          3.4,
          3.2,
          1,
          5,
          4,
          5,
          4,
          3,
          5,
          4.5,
          1,
          5,
          4,
          3,
          5,
          3.7,
          3,
          3.8,
          4.5,
          1,
          3.9,
          2,
          2,
          4.8,
          5,
          5,
          2.3,
          5,
          1,
          4,
          3,
          5,
          4.5,
          1,
          1,
          4.3,
          4.5,
          5,
          4,
          3.3,
          3.3,
          4,
          3.3,
          4.3,
          3.5,
          3,
          4.4,
          3.9,
          3.2,
          3.9,
          4.8,
          4.3,
          2.9,
          5,
          4,
          4.2,
          3.4,
          3,
          4,
          3.7,
          4,
          3.8,
          4,
          3.8,
          4.1,
          3.6,
          4,
          4.6,
          3.6,
          5,
          4,
          3.7,
          2.8,
          4.2,
          4,
          3.6,
          3.5,
          2.8,
          4.1,
          5,
          3.4,
          3.7,
          3.9,
          3.7,
          4.1,
          4.1,
          3.9,
          3.3,
          3.4,
          4.8,
          4.1,
          4.1,
          3.5,
          4.6,
          3.7,
          4.5,
          4.2,
          4.4,
          3.6,
          3.4,
          1,
          3,
          3.8,
          4.1,
          3.7,
          3.1,
          3.4,
          3.9,
          5,
          3,
          3.5,
          3.3,
          3,
          4,
          3,
          3.8,
          4.2,
          2.4,
          2,
          2.6,
          1,
          4,
          4.1,
          3.3,
          4.7,
          5,
          3.1,
          4,
          2.8,
          3,
          4,
          3.5,
          2.9,
          5,
          2.7,
          5,
          5,
          5,
          5,
          5,
          1,
          4.2,
          3.5,
          3.9,
          4.1,
          4.3,
          3.8,
          3.4,
          4.3,
          4.3,
          4.2,
          4.4,
          3,
          4.4,
          2.6,
          3.7,
          5,
          3.2,
          4.3,
          3,
          2.1,
          3.9,
          3.7,
          3,
          3.2,
          3.2,
          4,
          3,
          5,
          1,
          2.9,
          4.5,
          3.4,
          3.3,
          2.8,
          3.2,
          3.1,
          3.8,
          3.1,
          2.5,
          3.3,
          3.8,
          3.8,
          3.4,
          3.9,
          3.7,
          3.8,
          3.9,
          4.3,
          4.4,
          3.7,
          3.6,
          4,
          4.5,
          3.4,
          3.6,
          3.9,
          4,
          4.4,
          2.9,
          3.7,
          3.2,
          2.8,
          3.4,
          2.7,
          4.2,
          3.7,
          3.4,
          3.6,
          4,
          3.2,
          3.2,
          3.1,
          3.6,
          4.1,
          3.4,
          4.9,
          4.3,
          3.8,
          4.2,
          1.5,
          2.8,
          3.4,
          2.6,
          1.8,
          3.5,
          3.6,
          3.7,
          3.4,
          3.4,
          3.4,
          3.7,
          3,
          3.6,
          3.7,
          4.7,
          3.4,
          3.5,
          3.4,
          4.4,
          3.3,
          3.2,
          4.5,
          4.5,
          3.6,
          1,
          5,
          3.7,
          3.2,
          3.8,
          3.9,
          3.7,
          5,
          4.6,
          3.8,
          3.9,
          2.8,
          3.7,
          4,
          3.9,
          3.4,
          3.9,
          3.6,
          4.3,
          3.6,
          3.3,
          3,
          3.5,
          4.1,
          4.1,
          3.3,
          3.2,
          2,
          3.3,
          3.8,
          4,
          5,
          3.4,
          3.2,
          3.9,
          1,
          3.9,
          3.9,
          4.1,
          5,
          2.7,
          3.6,
          3.2,
          3.8,
          3,
          4.3,
          3.4,
          4.4,
          3.9,
          3.7,
          3.1,
          2.8,
          2.8,
          3.9,
          3.2,
          3.1,
          3.6,
          3.2,
          1.5,
          4,
          2.8,
          2.4,
          2.6,
          2.7,
          3,
          4,
          5,
          1,
          4,
          5,
          3.4,
          4.1,
          5,
          4.3,
          3.7,
          3.5,
          3.9,
          3.8,
          4,
          1,
          3.5,
          4.2,
          3.5,
          2.3,
          5,
          5,
          4.8,
          3.6,
          2.7,
          2.8,
          3,
          1,
          3,
          2
         ],
         "y0": " ",
         "yaxis": "y"
        }
       ],
       "layout": {
        "legend": {
         "tracegroupgap": 0
        },
        "margin": {
         "t": 60
        },
        "template": {
         "data": {
          "bar": [
           {
            "error_x": {
             "color": "#2a3f5f"
            },
            "error_y": {
             "color": "#2a3f5f"
            },
            "marker": {
             "line": {
              "color": "#E5ECF6",
              "width": 0.5
             },
             "pattern": {
              "fillmode": "overlay",
              "size": 10,
              "solidity": 0.2
             }
            },
            "type": "bar"
           }
          ],
          "barpolar": [
           {
            "marker": {
             "line": {
              "color": "#E5ECF6",
              "width": 0.5
             },
             "pattern": {
              "fillmode": "overlay",
              "size": 10,
              "solidity": 0.2
             }
            },
            "type": "barpolar"
           }
          ],
          "carpet": [
           {
            "aaxis": {
             "endlinecolor": "#2a3f5f",
             "gridcolor": "white",
             "linecolor": "white",
             "minorgridcolor": "white",
             "startlinecolor": "#2a3f5f"
            },
            "baxis": {
             "endlinecolor": "#2a3f5f",
             "gridcolor": "white",
             "linecolor": "white",
             "minorgridcolor": "white",
             "startlinecolor": "#2a3f5f"
            },
            "type": "carpet"
           }
          ],
          "choropleth": [
           {
            "colorbar": {
             "outlinewidth": 0,
             "ticks": ""
            },
            "type": "choropleth"
           }
          ],
          "contour": [
           {
            "colorbar": {
             "outlinewidth": 0,
             "ticks": ""
            },
            "colorscale": [
             [
              0,
              "#0d0887"
             ],
             [
              0.1111111111111111,
              "#46039f"
             ],
             [
              0.2222222222222222,
              "#7201a8"
             ],
             [
              0.3333333333333333,
              "#9c179e"
             ],
             [
              0.4444444444444444,
              "#bd3786"
             ],
             [
              0.5555555555555556,
              "#d8576b"
             ],
             [
              0.6666666666666666,
              "#ed7953"
             ],
             [
              0.7777777777777778,
              "#fb9f3a"
             ],
             [
              0.8888888888888888,
              "#fdca26"
             ],
             [
              1,
              "#f0f921"
             ]
            ],
            "type": "contour"
           }
          ],
          "contourcarpet": [
           {
            "colorbar": {
             "outlinewidth": 0,
             "ticks": ""
            },
            "type": "contourcarpet"
           }
          ],
          "heatmap": [
           {
            "colorbar": {
             "outlinewidth": 0,
             "ticks": ""
            },
            "colorscale": [
             [
              0,
              "#0d0887"
             ],
             [
              0.1111111111111111,
              "#46039f"
             ],
             [
              0.2222222222222222,
              "#7201a8"
             ],
             [
              0.3333333333333333,
              "#9c179e"
             ],
             [
              0.4444444444444444,
              "#bd3786"
             ],
             [
              0.5555555555555556,
              "#d8576b"
             ],
             [
              0.6666666666666666,
              "#ed7953"
             ],
             [
              0.7777777777777778,
              "#fb9f3a"
             ],
             [
              0.8888888888888888,
              "#fdca26"
             ],
             [
              1,
              "#f0f921"
             ]
            ],
            "type": "heatmap"
           }
          ],
          "heatmapgl": [
           {
            "colorbar": {
             "outlinewidth": 0,
             "ticks": ""
            },
            "colorscale": [
             [
              0,
              "#0d0887"
             ],
             [
              0.1111111111111111,
              "#46039f"
             ],
             [
              0.2222222222222222,
              "#7201a8"
             ],
             [
              0.3333333333333333,
              "#9c179e"
             ],
             [
              0.4444444444444444,
              "#bd3786"
             ],
             [
              0.5555555555555556,
              "#d8576b"
             ],
             [
              0.6666666666666666,
              "#ed7953"
             ],
             [
              0.7777777777777778,
              "#fb9f3a"
             ],
             [
              0.8888888888888888,
              "#fdca26"
             ],
             [
              1,
              "#f0f921"
             ]
            ],
            "type": "heatmapgl"
           }
          ],
          "histogram": [
           {
            "marker": {
             "pattern": {
              "fillmode": "overlay",
              "size": 10,
              "solidity": 0.2
             }
            },
            "type": "histogram"
           }
          ],
          "histogram2d": [
           {
            "colorbar": {
             "outlinewidth": 0,
             "ticks": ""
            },
            "colorscale": [
             [
              0,
              "#0d0887"
             ],
             [
              0.1111111111111111,
              "#46039f"
             ],
             [
              0.2222222222222222,
              "#7201a8"
             ],
             [
              0.3333333333333333,
              "#9c179e"
             ],
             [
              0.4444444444444444,
              "#bd3786"
             ],
             [
              0.5555555555555556,
              "#d8576b"
             ],
             [
              0.6666666666666666,
              "#ed7953"
             ],
             [
              0.7777777777777778,
              "#fb9f3a"
             ],
             [
              0.8888888888888888,
              "#fdca26"
             ],
             [
              1,
              "#f0f921"
             ]
            ],
            "type": "histogram2d"
           }
          ],
          "histogram2dcontour": [
           {
            "colorbar": {
             "outlinewidth": 0,
             "ticks": ""
            },
            "colorscale": [
             [
              0,
              "#0d0887"
             ],
             [
              0.1111111111111111,
              "#46039f"
             ],
             [
              0.2222222222222222,
              "#7201a8"
             ],
             [
              0.3333333333333333,
              "#9c179e"
             ],
             [
              0.4444444444444444,
              "#bd3786"
             ],
             [
              0.5555555555555556,
              "#d8576b"
             ],
             [
              0.6666666666666666,
              "#ed7953"
             ],
             [
              0.7777777777777778,
              "#fb9f3a"
             ],
             [
              0.8888888888888888,
              "#fdca26"
             ],
             [
              1,
              "#f0f921"
             ]
            ],
            "type": "histogram2dcontour"
           }
          ],
          "mesh3d": [
           {
            "colorbar": {
             "outlinewidth": 0,
             "ticks": ""
            },
            "type": "mesh3d"
           }
          ],
          "parcoords": [
           {
            "line": {
             "colorbar": {
              "outlinewidth": 0,
              "ticks": ""
             }
            },
            "type": "parcoords"
           }
          ],
          "pie": [
           {
            "automargin": true,
            "type": "pie"
           }
          ],
          "scatter": [
           {
            "fillpattern": {
             "fillmode": "overlay",
             "size": 10,
             "solidity": 0.2
            },
            "type": "scatter"
           }
          ],
          "scatter3d": [
           {
            "line": {
             "colorbar": {
              "outlinewidth": 0,
              "ticks": ""
             }
            },
            "marker": {
             "colorbar": {
              "outlinewidth": 0,
              "ticks": ""
             }
            },
            "type": "scatter3d"
           }
          ],
          "scattercarpet": [
           {
            "marker": {
             "colorbar": {
              "outlinewidth": 0,
              "ticks": ""
             }
            },
            "type": "scattercarpet"
           }
          ],
          "scattergeo": [
           {
            "marker": {
             "colorbar": {
              "outlinewidth": 0,
              "ticks": ""
             }
            },
            "type": "scattergeo"
           }
          ],
          "scattergl": [
           {
            "marker": {
             "colorbar": {
              "outlinewidth": 0,
              "ticks": ""
             }
            },
            "type": "scattergl"
           }
          ],
          "scattermapbox": [
           {
            "marker": {
             "colorbar": {
              "outlinewidth": 0,
              "ticks": ""
             }
            },
            "type": "scattermapbox"
           }
          ],
          "scatterpolar": [
           {
            "marker": {
             "colorbar": {
              "outlinewidth": 0,
              "ticks": ""
             }
            },
            "type": "scatterpolar"
           }
          ],
          "scatterpolargl": [
           {
            "marker": {
             "colorbar": {
              "outlinewidth": 0,
              "ticks": ""
             }
            },
            "type": "scatterpolargl"
           }
          ],
          "scatterternary": [
           {
            "marker": {
             "colorbar": {
              "outlinewidth": 0,
              "ticks": ""
             }
            },
            "type": "scatterternary"
           }
          ],
          "surface": [
           {
            "colorbar": {
             "outlinewidth": 0,
             "ticks": ""
            },
            "colorscale": [
             [
              0,
              "#0d0887"
             ],
             [
              0.1111111111111111,
              "#46039f"
             ],
             [
              0.2222222222222222,
              "#7201a8"
             ],
             [
              0.3333333333333333,
              "#9c179e"
             ],
             [
              0.4444444444444444,
              "#bd3786"
             ],
             [
              0.5555555555555556,
              "#d8576b"
             ],
             [
              0.6666666666666666,
              "#ed7953"
             ],
             [
              0.7777777777777778,
              "#fb9f3a"
             ],
             [
              0.8888888888888888,
              "#fdca26"
             ],
             [
              1,
              "#f0f921"
             ]
            ],
            "type": "surface"
           }
          ],
          "table": [
           {
            "cells": {
             "fill": {
              "color": "#EBF0F8"
             },
             "line": {
              "color": "white"
             }
            },
            "header": {
             "fill": {
              "color": "#C8D4E3"
             },
             "line": {
              "color": "white"
             }
            },
            "type": "table"
           }
          ]
         },
         "layout": {
          "annotationdefaults": {
           "arrowcolor": "#2a3f5f",
           "arrowhead": 0,
           "arrowwidth": 1
          },
          "autotypenumbers": "strict",
          "coloraxis": {
           "colorbar": {
            "outlinewidth": 0,
            "ticks": ""
           }
          },
          "colorscale": {
           "diverging": [
            [
             0,
             "#8e0152"
            ],
            [
             0.1,
             "#c51b7d"
            ],
            [
             0.2,
             "#de77ae"
            ],
            [
             0.3,
             "#f1b6da"
            ],
            [
             0.4,
             "#fde0ef"
            ],
            [
             0.5,
             "#f7f7f7"
            ],
            [
             0.6,
             "#e6f5d0"
            ],
            [
             0.7,
             "#b8e186"
            ],
            [
             0.8,
             "#7fbc41"
            ],
            [
             0.9,
             "#4d9221"
            ],
            [
             1,
             "#276419"
            ]
           ],
           "sequential": [
            [
             0,
             "#0d0887"
            ],
            [
             0.1111111111111111,
             "#46039f"
            ],
            [
             0.2222222222222222,
             "#7201a8"
            ],
            [
             0.3333333333333333,
             "#9c179e"
            ],
            [
             0.4444444444444444,
             "#bd3786"
            ],
            [
             0.5555555555555556,
             "#d8576b"
            ],
            [
             0.6666666666666666,
             "#ed7953"
            ],
            [
             0.7777777777777778,
             "#fb9f3a"
            ],
            [
             0.8888888888888888,
             "#fdca26"
            ],
            [
             1,
             "#f0f921"
            ]
           ],
           "sequentialminus": [
            [
             0,
             "#0d0887"
            ],
            [
             0.1111111111111111,
             "#46039f"
            ],
            [
             0.2222222222222222,
             "#7201a8"
            ],
            [
             0.3333333333333333,
             "#9c179e"
            ],
            [
             0.4444444444444444,
             "#bd3786"
            ],
            [
             0.5555555555555556,
             "#d8576b"
            ],
            [
             0.6666666666666666,
             "#ed7953"
            ],
            [
             0.7777777777777778,
             "#fb9f3a"
            ],
            [
             0.8888888888888888,
             "#fdca26"
            ],
            [
             1,
             "#f0f921"
            ]
           ]
          },
          "colorway": [
           "#636efa",
           "#EF553B",
           "#00cc96",
           "#ab63fa",
           "#FFA15A",
           "#19d3f3",
           "#FF6692",
           "#B6E880",
           "#FF97FF",
           "#FECB52"
          ],
          "font": {
           "color": "#2a3f5f"
          },
          "geo": {
           "bgcolor": "white",
           "lakecolor": "white",
           "landcolor": "#E5ECF6",
           "showlakes": true,
           "showland": true,
           "subunitcolor": "white"
          },
          "hoverlabel": {
           "align": "left"
          },
          "hovermode": "closest",
          "mapbox": {
           "style": "light"
          },
          "paper_bgcolor": "white",
          "plot_bgcolor": "#E5ECF6",
          "polar": {
           "angularaxis": {
            "gridcolor": "white",
            "linecolor": "white",
            "ticks": ""
           },
           "bgcolor": "#E5ECF6",
           "radialaxis": {
            "gridcolor": "white",
            "linecolor": "white",
            "ticks": ""
           }
          },
          "scene": {
           "xaxis": {
            "backgroundcolor": "#E5ECF6",
            "gridcolor": "white",
            "gridwidth": 2,
            "linecolor": "white",
            "showbackground": true,
            "ticks": "",
            "zerolinecolor": "white"
           },
           "yaxis": {
            "backgroundcolor": "#E5ECF6",
            "gridcolor": "white",
            "gridwidth": 2,
            "linecolor": "white",
            "showbackground": true,
            "ticks": "",
            "zerolinecolor": "white"
           },
           "zaxis": {
            "backgroundcolor": "#E5ECF6",
            "gridcolor": "white",
            "gridwidth": 2,
            "linecolor": "white",
            "showbackground": true,
            "ticks": "",
            "zerolinecolor": "white"
           }
          },
          "shapedefaults": {
           "line": {
            "color": "#2a3f5f"
           }
          },
          "ternary": {
           "aaxis": {
            "gridcolor": "white",
            "linecolor": "white",
            "ticks": ""
           },
           "baxis": {
            "gridcolor": "white",
            "linecolor": "white",
            "ticks": ""
           },
           "bgcolor": "#E5ECF6",
           "caxis": {
            "gridcolor": "white",
            "linecolor": "white",
            "ticks": ""
           }
          },
          "title": {
           "x": 0.05
          },
          "xaxis": {
           "automargin": true,
           "gridcolor": "white",
           "linecolor": "white",
           "ticks": "",
           "title": {
            "standoff": 15
           },
           "zerolinecolor": "white",
           "zerolinewidth": 2
          },
          "yaxis": {
           "automargin": true,
           "gridcolor": "white",
           "linecolor": "white",
           "ticks": "",
           "title": {
            "standoff": 15
           },
           "zerolinecolor": "white",
           "zerolinewidth": 2
          }
         }
        },
        "violinmode": "group",
        "xaxis": {
         "anchor": "y",
         "domain": [
          0,
          1
         ]
        },
        "yaxis": {
         "anchor": "x",
         "domain": [
          0,
          1
         ],
         "title": {
          "text": "Effectiveness"
         }
        }
       }
      }
     },
     "metadata": {},
     "output_type": "display_data"
    }
   ],
   "source": [
    "px.violin(df, y='Effectiveness',box=True)"
   ]
  },
  {
   "cell_type": "code",
   "execution_count": 229,
   "metadata": {},
   "outputs": [
    {
     "data": {
      "application/vnd.plotly.v1+json": {
       "config": {
        "plotlyServerURL": "https://plot.ly"
       },
       "data": [
        {
         "alignmentgroup": "True",
         "box": {
          "visible": true
         },
         "hovertemplate": "Satisfaction=%{y}<extra></extra>",
         "legendgroup": "",
         "marker": {
          "color": "#636efa"
         },
         "name": "",
         "offsetgroup": "",
         "orientation": "v",
         "scalegroup": "True",
         "showlegend": false,
         "type": "violin",
         "x0": " ",
         "xaxis": "x",
         "y": [
          3.2,
          2.6,
          2.2,
          1,
          3,
          3,
          2.8,
          2.8,
          2.5,
          3.2,
          3.7,
          2,
          2.5,
          2,
          2.8,
          5,
          4,
          4.3,
          4.2,
          3.2,
          3.5,
          3.9,
          3,
          3.7,
          3.4,
          3.2,
          3.9,
          4,
          1,
          3.3,
          3.1,
          5,
          3.6,
          5,
          4.8,
          3.9,
          3.7,
          4.3,
          1,
          5,
          4.7,
          5,
          4,
          3.5,
          5,
          4.4,
          3.6,
          3.4,
          2.5,
          3.8,
          2,
          4.4,
          3.5,
          1,
          4,
          4.5,
          2,
          5,
          4,
          1,
          3.8,
          3.1,
          2.5,
          4.8,
          3.2,
          5,
          2.5,
          3.8,
          2,
          2.3,
          3,
          1,
          4.3,
          3.6,
          3.3,
          1,
          5,
          2.5,
          3.8,
          2,
          2,
          2.3,
          2.9,
          2.6,
          3.6,
          4,
          2.4,
          4,
          4,
          2.8,
          1,
          2.3,
          1.9,
          3.1,
          2.2,
          2,
          1,
          2.4,
          2.1,
          1,
          3,
          1,
          5,
          2.5,
          4,
          4,
          1.9,
          2,
          1.9,
          1,
          1.8,
          4,
          2.5,
          5,
          4.5,
          1.4,
          2,
          4.2,
          5,
          2.6,
          5,
          2.6,
          2.8,
          5,
          3,
          2.1,
          1,
          1,
          2.9,
          1.6,
          2.6,
          3.7,
          5,
          4,
          4.5,
          2.5,
          1,
          1,
          2.7,
          2.8,
          3.6,
          1.8,
          1,
          2,
          5,
          2.1,
          2,
          3,
          2.8,
          4.2,
          2.2,
          3.1,
          2,
          3.3,
          2.3,
          2.6,
          2,
          1.8,
          2.3,
          4.5,
          1.4,
          2.3,
          1.7,
          2.6,
          2.6,
          2.3,
          2.5,
          3.2,
          3.7,
          2.3,
          3,
          2.7,
          3.6,
          3.9,
          3.2,
          2.3,
          3,
          2.8,
          2,
          2.9,
          2.8,
          3.4,
          4,
          3.2,
          4,
          3,
          2.2,
          5,
          4.8,
          2,
          3.8,
          5,
          5,
          5,
          3.8,
          3,
          5,
          4.2,
          4.1,
          3.8,
          5,
          3.9,
          3,
          3.1,
          2.7,
          4.2,
          3.3,
          3.2,
          3.5,
          3.6,
          3,
          2.9,
          3.7,
          2.9,
          3,
          3,
          3.4,
          3.6,
          1,
          2.2,
          3,
          2.8,
          3,
          2.1,
          1,
          3,
          1,
          4,
          4,
          3,
          1,
          2.8,
          2.1,
          2.9,
          2.2,
          2.7,
          3,
          2.4,
          3,
          2.5,
          3,
          3.4,
          2.2,
          3.4,
          2.9,
          1.7,
          2.8,
          1,
          2.7,
          5,
          2.3,
          2.7,
          2.8,
          2.7,
          3,
          3,
          2.4,
          1,
          3,
          2.6,
          3.5,
          2.5,
          3.4,
          2.3,
          3.4,
          3,
          1,
          2.2,
          2.8,
          3.4,
          2.8,
          4.9,
          3,
          5,
          3.5,
          1,
          4.6,
          4.5,
          4,
          2,
          5,
          5,
          5,
          4,
          5,
          1.5,
          5,
          3.9,
          4.2,
          2,
          4.3,
          3,
          1,
          5,
          3.7,
          4,
          3.2,
          3.2,
          5,
          3.8,
          3.5,
          3.4,
          3.6,
          2.9,
          2.4,
          3.5,
          4,
          2.7,
          3.9,
          2.6,
          5,
          4,
          3,
          3.6,
          3.6,
          3.2,
          3.7,
          1,
          3,
          4,
          3.3,
          4.2,
          2.5,
          3.2,
          5,
          3,
          3.2,
          1,
          5,
          3.2,
          2.8,
          3.4,
          3.1,
          3.5,
          3.6,
          3,
          3.1,
          4,
          3.8,
          3,
          3,
          1,
          5,
          3.5,
          5,
          4,
          3,
          5,
          4.3,
          1,
          5,
          5,
          4,
          5,
          3.7,
          3,
          3.8,
          4,
          1,
          3.8,
          1,
          2,
          3.8,
          5,
          2,
          2.3,
          5,
          1,
          4,
          3,
          5,
          4.3,
          1,
          1,
          4.7,
          4.5,
          5,
          3.4,
          2.5,
          3.2,
          3.7,
          3,
          3.7,
          2.9,
          3,
          4.4,
          3.3,
          3,
          3.9,
          4.5,
          4.4,
          2.5,
          5,
          4,
          4.2,
          3.3,
          2.6,
          3.3,
          3.3,
          4,
          3.2,
          3.2,
          3.5,
          3.4,
          3.6,
          3.5,
          4.4,
          3.3,
          5,
          3.8,
          3.4,
          2.4,
          3.9,
          3.7,
          3.6,
          3.3,
          2.7,
          3.9,
          5,
          3.2,
          3.5,
          3.7,
          3.4,
          3.9,
          3.5,
          3.5,
          3.2,
          3.4,
          4.4,
          4,
          3.5,
          3.4,
          4.5,
          3.6,
          4.5,
          4.2,
          4.4,
          3.7,
          3.1,
          1,
          2.6,
          4,
          4.1,
          3.5,
          2.7,
          3.2,
          3.5,
          5,
          3,
          3.8,
          3.3,
          4,
          4,
          2.5,
          3.3,
          4,
          2.4,
          2,
          2.3,
          1,
          3.2,
          4.1,
          3.2,
          4.3,
          5,
          3.4,
          4,
          2.6,
          1,
          3.5,
          4.5,
          2,
          5,
          2.3,
          5,
          5,
          5,
          5,
          5,
          1,
          3.8,
          3.3,
          3.3,
          3.9,
          3.9,
          3.6,
          2.5,
          4.1,
          4,
          4.3,
          3.8,
          2.5,
          3.6,
          2.3,
          3.7,
          4.5,
          2.4,
          3.1,
          2.3,
          1.7,
          3.2,
          3.2,
          3,
          3,
          3.1,
          4.3,
          3,
          3,
          1,
          2.4,
          4.5,
          3.2,
          2.6,
          2,
          2.6,
          2.2,
          4.2,
          2.6,
          2.2,
          2.6,
          3.6,
          3.2,
          2.5,
          3.2,
          3.4,
          3.5,
          3,
          3.8,
          4,
          3.1,
          3.2,
          3.2,
          4.5,
          3,
          3.2,
          3.6,
          3.4,
          4.3,
          2.7,
          3.7,
          2.7,
          2.4,
          3.1,
          2.4,
          3.5,
          3,
          2.7,
          2.7,
          2,
          2.8,
          2.8,
          2.8,
          3.1,
          3.5,
          3.3,
          4.7,
          3,
          3.2,
          3.9,
          1,
          2.5,
          3.2,
          2,
          1.4,
          3,
          3.2,
          3.2,
          2.9,
          3.2,
          2.7,
          3,
          2.5,
          3,
          2.9,
          4.3,
          2.8,
          2.5,
          2.8,
          4.2,
          2.8,
          2.9,
          3.7,
          4.2,
          3.2,
          1,
          4,
          3,
          2.6,
          3.2,
          3.5,
          3.4,
          4,
          2.2,
          3.6,
          3.7,
          2.1,
          3.5,
          3.2,
          3.5,
          2.9,
          3.4,
          3.2,
          4.3,
          3.2,
          3,
          3,
          2.9,
          3.5,
          4,
          1.7,
          2.8,
          1,
          2.8,
          3.3,
          4,
          5,
          3.1,
          2.6,
          3.1,
          1,
          3.8,
          3.9,
          3.1,
          5,
          2.8,
          3.2,
          2.9,
          3.6,
          3.1,
          4.6,
          2.5,
          3.8,
          3.2,
          3.2,
          3,
          2,
          2.1,
          3.5,
          2.6,
          2.2,
          3.2,
          2.5,
          1,
          3.5,
          2.8,
          2.3,
          2.3,
          3,
          2.5,
          3.5,
          5,
          1,
          4,
          4.5,
          3.2,
          3.1,
          5,
          4.1,
          3.4,
          3.4,
          3.8,
          3.5,
          4,
          1,
          3.5,
          4,
          3.2,
          2,
          5,
          5,
          4.8,
          3.2,
          2.2,
          2.3,
          3,
          1,
          2.7,
          1.8
         ],
         "y0": " ",
         "yaxis": "y"
        }
       ],
       "layout": {
        "legend": {
         "tracegroupgap": 0
        },
        "margin": {
         "t": 60
        },
        "template": {
         "data": {
          "bar": [
           {
            "error_x": {
             "color": "#2a3f5f"
            },
            "error_y": {
             "color": "#2a3f5f"
            },
            "marker": {
             "line": {
              "color": "#E5ECF6",
              "width": 0.5
             },
             "pattern": {
              "fillmode": "overlay",
              "size": 10,
              "solidity": 0.2
             }
            },
            "type": "bar"
           }
          ],
          "barpolar": [
           {
            "marker": {
             "line": {
              "color": "#E5ECF6",
              "width": 0.5
             },
             "pattern": {
              "fillmode": "overlay",
              "size": 10,
              "solidity": 0.2
             }
            },
            "type": "barpolar"
           }
          ],
          "carpet": [
           {
            "aaxis": {
             "endlinecolor": "#2a3f5f",
             "gridcolor": "white",
             "linecolor": "white",
             "minorgridcolor": "white",
             "startlinecolor": "#2a3f5f"
            },
            "baxis": {
             "endlinecolor": "#2a3f5f",
             "gridcolor": "white",
             "linecolor": "white",
             "minorgridcolor": "white",
             "startlinecolor": "#2a3f5f"
            },
            "type": "carpet"
           }
          ],
          "choropleth": [
           {
            "colorbar": {
             "outlinewidth": 0,
             "ticks": ""
            },
            "type": "choropleth"
           }
          ],
          "contour": [
           {
            "colorbar": {
             "outlinewidth": 0,
             "ticks": ""
            },
            "colorscale": [
             [
              0,
              "#0d0887"
             ],
             [
              0.1111111111111111,
              "#46039f"
             ],
             [
              0.2222222222222222,
              "#7201a8"
             ],
             [
              0.3333333333333333,
              "#9c179e"
             ],
             [
              0.4444444444444444,
              "#bd3786"
             ],
             [
              0.5555555555555556,
              "#d8576b"
             ],
             [
              0.6666666666666666,
              "#ed7953"
             ],
             [
              0.7777777777777778,
              "#fb9f3a"
             ],
             [
              0.8888888888888888,
              "#fdca26"
             ],
             [
              1,
              "#f0f921"
             ]
            ],
            "type": "contour"
           }
          ],
          "contourcarpet": [
           {
            "colorbar": {
             "outlinewidth": 0,
             "ticks": ""
            },
            "type": "contourcarpet"
           }
          ],
          "heatmap": [
           {
            "colorbar": {
             "outlinewidth": 0,
             "ticks": ""
            },
            "colorscale": [
             [
              0,
              "#0d0887"
             ],
             [
              0.1111111111111111,
              "#46039f"
             ],
             [
              0.2222222222222222,
              "#7201a8"
             ],
             [
              0.3333333333333333,
              "#9c179e"
             ],
             [
              0.4444444444444444,
              "#bd3786"
             ],
             [
              0.5555555555555556,
              "#d8576b"
             ],
             [
              0.6666666666666666,
              "#ed7953"
             ],
             [
              0.7777777777777778,
              "#fb9f3a"
             ],
             [
              0.8888888888888888,
              "#fdca26"
             ],
             [
              1,
              "#f0f921"
             ]
            ],
            "type": "heatmap"
           }
          ],
          "heatmapgl": [
           {
            "colorbar": {
             "outlinewidth": 0,
             "ticks": ""
            },
            "colorscale": [
             [
              0,
              "#0d0887"
             ],
             [
              0.1111111111111111,
              "#46039f"
             ],
             [
              0.2222222222222222,
              "#7201a8"
             ],
             [
              0.3333333333333333,
              "#9c179e"
             ],
             [
              0.4444444444444444,
              "#bd3786"
             ],
             [
              0.5555555555555556,
              "#d8576b"
             ],
             [
              0.6666666666666666,
              "#ed7953"
             ],
             [
              0.7777777777777778,
              "#fb9f3a"
             ],
             [
              0.8888888888888888,
              "#fdca26"
             ],
             [
              1,
              "#f0f921"
             ]
            ],
            "type": "heatmapgl"
           }
          ],
          "histogram": [
           {
            "marker": {
             "pattern": {
              "fillmode": "overlay",
              "size": 10,
              "solidity": 0.2
             }
            },
            "type": "histogram"
           }
          ],
          "histogram2d": [
           {
            "colorbar": {
             "outlinewidth": 0,
             "ticks": ""
            },
            "colorscale": [
             [
              0,
              "#0d0887"
             ],
             [
              0.1111111111111111,
              "#46039f"
             ],
             [
              0.2222222222222222,
              "#7201a8"
             ],
             [
              0.3333333333333333,
              "#9c179e"
             ],
             [
              0.4444444444444444,
              "#bd3786"
             ],
             [
              0.5555555555555556,
              "#d8576b"
             ],
             [
              0.6666666666666666,
              "#ed7953"
             ],
             [
              0.7777777777777778,
              "#fb9f3a"
             ],
             [
              0.8888888888888888,
              "#fdca26"
             ],
             [
              1,
              "#f0f921"
             ]
            ],
            "type": "histogram2d"
           }
          ],
          "histogram2dcontour": [
           {
            "colorbar": {
             "outlinewidth": 0,
             "ticks": ""
            },
            "colorscale": [
             [
              0,
              "#0d0887"
             ],
             [
              0.1111111111111111,
              "#46039f"
             ],
             [
              0.2222222222222222,
              "#7201a8"
             ],
             [
              0.3333333333333333,
              "#9c179e"
             ],
             [
              0.4444444444444444,
              "#bd3786"
             ],
             [
              0.5555555555555556,
              "#d8576b"
             ],
             [
              0.6666666666666666,
              "#ed7953"
             ],
             [
              0.7777777777777778,
              "#fb9f3a"
             ],
             [
              0.8888888888888888,
              "#fdca26"
             ],
             [
              1,
              "#f0f921"
             ]
            ],
            "type": "histogram2dcontour"
           }
          ],
          "mesh3d": [
           {
            "colorbar": {
             "outlinewidth": 0,
             "ticks": ""
            },
            "type": "mesh3d"
           }
          ],
          "parcoords": [
           {
            "line": {
             "colorbar": {
              "outlinewidth": 0,
              "ticks": ""
             }
            },
            "type": "parcoords"
           }
          ],
          "pie": [
           {
            "automargin": true,
            "type": "pie"
           }
          ],
          "scatter": [
           {
            "fillpattern": {
             "fillmode": "overlay",
             "size": 10,
             "solidity": 0.2
            },
            "type": "scatter"
           }
          ],
          "scatter3d": [
           {
            "line": {
             "colorbar": {
              "outlinewidth": 0,
              "ticks": ""
             }
            },
            "marker": {
             "colorbar": {
              "outlinewidth": 0,
              "ticks": ""
             }
            },
            "type": "scatter3d"
           }
          ],
          "scattercarpet": [
           {
            "marker": {
             "colorbar": {
              "outlinewidth": 0,
              "ticks": ""
             }
            },
            "type": "scattercarpet"
           }
          ],
          "scattergeo": [
           {
            "marker": {
             "colorbar": {
              "outlinewidth": 0,
              "ticks": ""
             }
            },
            "type": "scattergeo"
           }
          ],
          "scattergl": [
           {
            "marker": {
             "colorbar": {
              "outlinewidth": 0,
              "ticks": ""
             }
            },
            "type": "scattergl"
           }
          ],
          "scattermapbox": [
           {
            "marker": {
             "colorbar": {
              "outlinewidth": 0,
              "ticks": ""
             }
            },
            "type": "scattermapbox"
           }
          ],
          "scatterpolar": [
           {
            "marker": {
             "colorbar": {
              "outlinewidth": 0,
              "ticks": ""
             }
            },
            "type": "scatterpolar"
           }
          ],
          "scatterpolargl": [
           {
            "marker": {
             "colorbar": {
              "outlinewidth": 0,
              "ticks": ""
             }
            },
            "type": "scatterpolargl"
           }
          ],
          "scatterternary": [
           {
            "marker": {
             "colorbar": {
              "outlinewidth": 0,
              "ticks": ""
             }
            },
            "type": "scatterternary"
           }
          ],
          "surface": [
           {
            "colorbar": {
             "outlinewidth": 0,
             "ticks": ""
            },
            "colorscale": [
             [
              0,
              "#0d0887"
             ],
             [
              0.1111111111111111,
              "#46039f"
             ],
             [
              0.2222222222222222,
              "#7201a8"
             ],
             [
              0.3333333333333333,
              "#9c179e"
             ],
             [
              0.4444444444444444,
              "#bd3786"
             ],
             [
              0.5555555555555556,
              "#d8576b"
             ],
             [
              0.6666666666666666,
              "#ed7953"
             ],
             [
              0.7777777777777778,
              "#fb9f3a"
             ],
             [
              0.8888888888888888,
              "#fdca26"
             ],
             [
              1,
              "#f0f921"
             ]
            ],
            "type": "surface"
           }
          ],
          "table": [
           {
            "cells": {
             "fill": {
              "color": "#EBF0F8"
             },
             "line": {
              "color": "white"
             }
            },
            "header": {
             "fill": {
              "color": "#C8D4E3"
             },
             "line": {
              "color": "white"
             }
            },
            "type": "table"
           }
          ]
         },
         "layout": {
          "annotationdefaults": {
           "arrowcolor": "#2a3f5f",
           "arrowhead": 0,
           "arrowwidth": 1
          },
          "autotypenumbers": "strict",
          "coloraxis": {
           "colorbar": {
            "outlinewidth": 0,
            "ticks": ""
           }
          },
          "colorscale": {
           "diverging": [
            [
             0,
             "#8e0152"
            ],
            [
             0.1,
             "#c51b7d"
            ],
            [
             0.2,
             "#de77ae"
            ],
            [
             0.3,
             "#f1b6da"
            ],
            [
             0.4,
             "#fde0ef"
            ],
            [
             0.5,
             "#f7f7f7"
            ],
            [
             0.6,
             "#e6f5d0"
            ],
            [
             0.7,
             "#b8e186"
            ],
            [
             0.8,
             "#7fbc41"
            ],
            [
             0.9,
             "#4d9221"
            ],
            [
             1,
             "#276419"
            ]
           ],
           "sequential": [
            [
             0,
             "#0d0887"
            ],
            [
             0.1111111111111111,
             "#46039f"
            ],
            [
             0.2222222222222222,
             "#7201a8"
            ],
            [
             0.3333333333333333,
             "#9c179e"
            ],
            [
             0.4444444444444444,
             "#bd3786"
            ],
            [
             0.5555555555555556,
             "#d8576b"
            ],
            [
             0.6666666666666666,
             "#ed7953"
            ],
            [
             0.7777777777777778,
             "#fb9f3a"
            ],
            [
             0.8888888888888888,
             "#fdca26"
            ],
            [
             1,
             "#f0f921"
            ]
           ],
           "sequentialminus": [
            [
             0,
             "#0d0887"
            ],
            [
             0.1111111111111111,
             "#46039f"
            ],
            [
             0.2222222222222222,
             "#7201a8"
            ],
            [
             0.3333333333333333,
             "#9c179e"
            ],
            [
             0.4444444444444444,
             "#bd3786"
            ],
            [
             0.5555555555555556,
             "#d8576b"
            ],
            [
             0.6666666666666666,
             "#ed7953"
            ],
            [
             0.7777777777777778,
             "#fb9f3a"
            ],
            [
             0.8888888888888888,
             "#fdca26"
            ],
            [
             1,
             "#f0f921"
            ]
           ]
          },
          "colorway": [
           "#636efa",
           "#EF553B",
           "#00cc96",
           "#ab63fa",
           "#FFA15A",
           "#19d3f3",
           "#FF6692",
           "#B6E880",
           "#FF97FF",
           "#FECB52"
          ],
          "font": {
           "color": "#2a3f5f"
          },
          "geo": {
           "bgcolor": "white",
           "lakecolor": "white",
           "landcolor": "#E5ECF6",
           "showlakes": true,
           "showland": true,
           "subunitcolor": "white"
          },
          "hoverlabel": {
           "align": "left"
          },
          "hovermode": "closest",
          "mapbox": {
           "style": "light"
          },
          "paper_bgcolor": "white",
          "plot_bgcolor": "#E5ECF6",
          "polar": {
           "angularaxis": {
            "gridcolor": "white",
            "linecolor": "white",
            "ticks": ""
           },
           "bgcolor": "#E5ECF6",
           "radialaxis": {
            "gridcolor": "white",
            "linecolor": "white",
            "ticks": ""
           }
          },
          "scene": {
           "xaxis": {
            "backgroundcolor": "#E5ECF6",
            "gridcolor": "white",
            "gridwidth": 2,
            "linecolor": "white",
            "showbackground": true,
            "ticks": "",
            "zerolinecolor": "white"
           },
           "yaxis": {
            "backgroundcolor": "#E5ECF6",
            "gridcolor": "white",
            "gridwidth": 2,
            "linecolor": "white",
            "showbackground": true,
            "ticks": "",
            "zerolinecolor": "white"
           },
           "zaxis": {
            "backgroundcolor": "#E5ECF6",
            "gridcolor": "white",
            "gridwidth": 2,
            "linecolor": "white",
            "showbackground": true,
            "ticks": "",
            "zerolinecolor": "white"
           }
          },
          "shapedefaults": {
           "line": {
            "color": "#2a3f5f"
           }
          },
          "ternary": {
           "aaxis": {
            "gridcolor": "white",
            "linecolor": "white",
            "ticks": ""
           },
           "baxis": {
            "gridcolor": "white",
            "linecolor": "white",
            "ticks": ""
           },
           "bgcolor": "#E5ECF6",
           "caxis": {
            "gridcolor": "white",
            "linecolor": "white",
            "ticks": ""
           }
          },
          "title": {
           "x": 0.05
          },
          "xaxis": {
           "automargin": true,
           "gridcolor": "white",
           "linecolor": "white",
           "ticks": "",
           "title": {
            "standoff": 15
           },
           "zerolinecolor": "white",
           "zerolinewidth": 2
          },
          "yaxis": {
           "automargin": true,
           "gridcolor": "white",
           "linecolor": "white",
           "ticks": "",
           "title": {
            "standoff": 15
           },
           "zerolinecolor": "white",
           "zerolinewidth": 2
          }
         }
        },
        "violinmode": "group",
        "xaxis": {
         "anchor": "y",
         "domain": [
          0,
          1
         ]
        },
        "yaxis": {
         "anchor": "x",
         "domain": [
          0,
          1
         ],
         "title": {
          "text": "Satisfaction"
         }
        }
       }
      }
     },
     "metadata": {},
     "output_type": "display_data"
    }
   ],
   "source": [
    "px.violin(df, y='Satisfaction',box=True)"
   ]
  },
  {
   "cell_type": "code",
   "execution_count": 231,
   "metadata": {},
   "outputs": [
    {
     "data": {
      "application/vnd.plotly.v1+json": {
       "config": {
        "plotlyServerURL": "https://plot.ly"
       },
       "data": [
        {
         "alignmentgroup": "True",
         "box": {
          "visible": true
         },
         "hovertemplate": "Price=%{y}<extra></extra>",
         "legendgroup": "",
         "marker": {
          "color": "#636efa"
         },
         "name": "",
         "offsetgroup": "",
         "orientation": "v",
         "scalegroup": "True",
         "showlegend": false,
         "type": "violin",
         "x0": " ",
         "xaxis": "x",
         "y": [
          12.6,
          287.4,
          70.6,
          12.6,
          125.2,
          143.2,
          32.1,
          99.5,
          125.2,
          332.6,
          161.2,
          173,
          75,
          75,
          42,
          224.8,
          54,
          71.7,
          45.9,
          52.6,
          110,
          15.5,
          15.5,
          175,
          266.5,
          96.6,
          397,
          90,
          90,
          48,
          12,
          12,
          65,
          335,
          666,
          13.2,
          210,
          202,
          36,
          36,
          15.5,
          12,
          97,
          431,
          75,
          246,
          14.6,
          14.6,
          14.6,
          14.6,
          14.6,
          345,
          205.5,
          1265,
          50,
          50,
          75,
          14.6,
          59,
          14.6,
          14.6,
          33.8,
          16.6,
          24,
          15.5,
          140,
          278,
          207,
          207,
          157,
          398,
          114,
          233,
          14,
          10.2,
          613,
          14.5,
          14.5,
          303,
          267,
          12,
          28,
          187.5,
          18.8,
          21.5,
          110,
          23,
          185,
          173,
          150,
          48,
          59.7,
          80,
          54,
          184,
          639,
          148,
          78,
          16,
          20.1,
          16,
          20.1,
          16,
          175.9,
          16,
          20.1,
          16,
          43.1,
          6,
          6,
          86,
          78,
          167.5,
          148,
          80,
          87,
          90.7,
          20.1,
          20.1,
          87,
          778.7,
          13.8,
          18.8,
          18.8,
          18.8,
          18.8,
          6,
          881,
          78,
          78,
          78,
          66.9,
          90.7,
          87,
          107.9,
          173,
          78,
          148,
          40.1,
          879,
          87,
          51.5,
          80,
          90.7,
          148,
          16,
          20.1,
          17.7,
          827,
          827,
          39.5,
          102,
          82,
          12.6,
          32.1,
          121.9,
          43.1,
          86,
          331,
          12.6,
          125.2,
          120.8,
          73,
          87,
          13.8,
          99.5,
          125.2,
          332.6,
          161.2,
          159,
          383,
          20.2,
          656.1,
          850,
          362.9,
          23.3,
          26,
          171,
          1516.1,
          2049.6,
          18,
          12,
          18,
          18,
          18.6,
          12,
          18,
          30.1,
          313.5,
          12,
          7.9,
          12,
          8,
          12,
          12,
          12,
          12,
          84.9,
          84.9,
          43,
          168,
          222.8,
          26,
          26,
          44.7,
          47.4,
          209,
          42,
          13.2,
          80.5,
          80.5,
          420,
          72,
          420,
          26,
          80.5,
          79.6,
          157,
          148,
          17.2,
          25,
          18.8,
          18.8,
          18.8,
          20,
          16,
          82,
          20,
          16,
          20,
          25,
          90.1,
          16,
          70.5,
          172.4,
          67,
          12,
          38,
          95,
          12,
          12,
          22,
          29.5,
          23.4,
          26,
          172.4,
          11.5,
          11.5,
          119.6,
          701.2,
          233.1,
          31,
          31,
          99,
          312,
          136,
          32,
          32,
          32,
          29,
          72,
          191.3,
          32,
          30,
          28,
          15,
          12,
          13.5,
          11,
          12,
          62,
          10,
          10.4,
          13.5,
          12,
          12,
          12,
          12,
          10.4,
          10.5,
          10.3,
          15,
          8.3,
          8.8,
          20,
          10.5,
          10.5,
          48.7,
          12,
          12,
          8.3,
          8.7,
          12,
          24.2,
          6.9,
          6.9,
          9.4,
          8.7,
          8.7,
          13.5,
          13.5,
          13.5,
          16,
          15.6,
          15.6,
          61.4,
          61.4,
          61.4,
          19,
          27.5,
          10.3,
          12.1,
          12,
          10.8,
          11,
          11,
          11.4,
          12,
          8.3,
          8.7,
          9.8,
          12.9,
          27.5,
          12,
          11,
          8,
          19,
          19,
          19,
          197,
          207,
          20.4,
          24.2,
          177.3,
          478,
          53,
          99.7,
          422,
          90,
          197,
          26.9,
          11.9,
          6,
          12,
          12,
          12,
          12,
          12,
          12,
          12,
          12,
          12,
          12,
          12,
          11.9,
          11.9,
          23,
          53,
          365,
          53,
          6,
          12,
          12,
          6,
          12,
          12,
          15,
          6,
          12,
          12,
          12,
          12,
          12,
          6,
          12,
          200,
          12,
          341,
          125.2,
          332.6,
          161.2,
          237,
          237,
          237,
          290,
          16.4,
          16.4,
          16.4,
          12,
          185,
          185,
          185,
          6,
          12.2,
          12.2,
          22,
          341,
          12.2,
          23.6,
          146,
          69,
          22.3,
          69,
          69,
          21,
          21,
          21,
          103,
          103,
          294,
          23.6,
          23.6,
          23.6,
          69,
          43,
          168,
          1379.9,
          222.8,
          13.5,
          216,
          424,
          44,
          55,
          73,
          190,
          21.4,
          67,
          99.6,
          99.5,
          13.5,
          13.5,
          13.5,
          997.4,
          16,
          13.5,
          37.4,
          159.6,
          369,
          33,
          24.5,
          15.6,
          61.4,
          61.4,
          61.4,
          61.4,
          194,
          57.6,
          19,
          42.2,
          154,
          19.4,
          9.7,
          14.6,
          14.6,
          154,
          14.6,
          154,
          14.6,
          154,
          154,
          154,
          295,
          295,
          54,
          12,
          12,
          12,
          12,
          154,
          154,
          12,
          12,
          154,
          82,
          9.7,
          9.7,
          6,
          12,
          154,
          19.4,
          43,
          168,
          176.8,
          222.8,
          1388,
          147,
          250,
          56.5,
          79.5,
          56.5,
          1336.1,
          63,
          226,
          59.6,
          59.6,
          59.6,
          59.6,
          59.6,
          156,
          156,
          128,
          138,
          1336.1,
          217,
          1336.1,
          59.6,
          156,
          1336.1,
          1336.1,
          127.7,
          128,
          56.5,
          365.4,
          139.5,
          195.9,
          29,
          24.5,
          82,
          172.4,
          58,
          147,
          89,
          297,
          144,
          240,
          16.4,
          46.8,
          256,
          249,
          80,
          127,
          78,
          45.5,
          51,
          13.2,
          67,
          127,
          87.3,
          32,
          49,
          82,
          266,
          50.5,
          38,
          174,
          123,
          21,
          147,
          256,
          91.9,
          68.9,
          127,
          22,
          34,
          120,
          120.4,
          95,
          62,
          34.6,
          55,
          12,
          41,
          89,
          49.4,
          12,
          22,
          148,
          80,
          49,
          14.8,
          23,
          68,
          105,
          17.3,
          121,
          64,
          811,
          41,
          52.8,
          107.5,
          87.3,
          33,
          71,
          181,
          256,
          34,
          36.7,
          163,
          161,
          243,
          55,
          169.5,
          58,
          30,
          82,
          39.3,
          15.7,
          73,
          55,
          29.5,
          23.4,
          147,
          156,
          132.7,
          68.9,
          13,
          26,
          52,
          160,
          172.4,
          11.5,
          11.5,
          112,
          226,
          172.4,
          174,
          26.7,
          87,
          53,
          365,
          53,
          364,
          8.5,
          4,
          36,
          20.4,
          27,
          147,
          12,
          12,
          250,
          1336.1,
          128,
          138,
          79.5,
          55,
          29,
          55,
          195.9,
          29,
          147,
          173,
          173,
          607,
          138,
          146,
          146,
          10.4,
          46.4,
          8.8,
          20,
          8.8,
          9.6,
          20,
          9.4,
          8.5,
          4,
          8.5,
          8.8,
          9.3,
          15.5,
          8.8,
          19.8,
          20,
          19.8,
          19.8,
          19.8,
          19.8,
          126,
          126,
          25.6,
          18,
          14,
          14,
          14,
          126,
          69,
          23
         ],
         "y0": " ",
         "yaxis": "y"
        }
       ],
       "layout": {
        "legend": {
         "tracegroupgap": 0
        },
        "margin": {
         "t": 60
        },
        "template": {
         "data": {
          "bar": [
           {
            "error_x": {
             "color": "#2a3f5f"
            },
            "error_y": {
             "color": "#2a3f5f"
            },
            "marker": {
             "line": {
              "color": "#E5ECF6",
              "width": 0.5
             },
             "pattern": {
              "fillmode": "overlay",
              "size": 10,
              "solidity": 0.2
             }
            },
            "type": "bar"
           }
          ],
          "barpolar": [
           {
            "marker": {
             "line": {
              "color": "#E5ECF6",
              "width": 0.5
             },
             "pattern": {
              "fillmode": "overlay",
              "size": 10,
              "solidity": 0.2
             }
            },
            "type": "barpolar"
           }
          ],
          "carpet": [
           {
            "aaxis": {
             "endlinecolor": "#2a3f5f",
             "gridcolor": "white",
             "linecolor": "white",
             "minorgridcolor": "white",
             "startlinecolor": "#2a3f5f"
            },
            "baxis": {
             "endlinecolor": "#2a3f5f",
             "gridcolor": "white",
             "linecolor": "white",
             "minorgridcolor": "white",
             "startlinecolor": "#2a3f5f"
            },
            "type": "carpet"
           }
          ],
          "choropleth": [
           {
            "colorbar": {
             "outlinewidth": 0,
             "ticks": ""
            },
            "type": "choropleth"
           }
          ],
          "contour": [
           {
            "colorbar": {
             "outlinewidth": 0,
             "ticks": ""
            },
            "colorscale": [
             [
              0,
              "#0d0887"
             ],
             [
              0.1111111111111111,
              "#46039f"
             ],
             [
              0.2222222222222222,
              "#7201a8"
             ],
             [
              0.3333333333333333,
              "#9c179e"
             ],
             [
              0.4444444444444444,
              "#bd3786"
             ],
             [
              0.5555555555555556,
              "#d8576b"
             ],
             [
              0.6666666666666666,
              "#ed7953"
             ],
             [
              0.7777777777777778,
              "#fb9f3a"
             ],
             [
              0.8888888888888888,
              "#fdca26"
             ],
             [
              1,
              "#f0f921"
             ]
            ],
            "type": "contour"
           }
          ],
          "contourcarpet": [
           {
            "colorbar": {
             "outlinewidth": 0,
             "ticks": ""
            },
            "type": "contourcarpet"
           }
          ],
          "heatmap": [
           {
            "colorbar": {
             "outlinewidth": 0,
             "ticks": ""
            },
            "colorscale": [
             [
              0,
              "#0d0887"
             ],
             [
              0.1111111111111111,
              "#46039f"
             ],
             [
              0.2222222222222222,
              "#7201a8"
             ],
             [
              0.3333333333333333,
              "#9c179e"
             ],
             [
              0.4444444444444444,
              "#bd3786"
             ],
             [
              0.5555555555555556,
              "#d8576b"
             ],
             [
              0.6666666666666666,
              "#ed7953"
             ],
             [
              0.7777777777777778,
              "#fb9f3a"
             ],
             [
              0.8888888888888888,
              "#fdca26"
             ],
             [
              1,
              "#f0f921"
             ]
            ],
            "type": "heatmap"
           }
          ],
          "heatmapgl": [
           {
            "colorbar": {
             "outlinewidth": 0,
             "ticks": ""
            },
            "colorscale": [
             [
              0,
              "#0d0887"
             ],
             [
              0.1111111111111111,
              "#46039f"
             ],
             [
              0.2222222222222222,
              "#7201a8"
             ],
             [
              0.3333333333333333,
              "#9c179e"
             ],
             [
              0.4444444444444444,
              "#bd3786"
             ],
             [
              0.5555555555555556,
              "#d8576b"
             ],
             [
              0.6666666666666666,
              "#ed7953"
             ],
             [
              0.7777777777777778,
              "#fb9f3a"
             ],
             [
              0.8888888888888888,
              "#fdca26"
             ],
             [
              1,
              "#f0f921"
             ]
            ],
            "type": "heatmapgl"
           }
          ],
          "histogram": [
           {
            "marker": {
             "pattern": {
              "fillmode": "overlay",
              "size": 10,
              "solidity": 0.2
             }
            },
            "type": "histogram"
           }
          ],
          "histogram2d": [
           {
            "colorbar": {
             "outlinewidth": 0,
             "ticks": ""
            },
            "colorscale": [
             [
              0,
              "#0d0887"
             ],
             [
              0.1111111111111111,
              "#46039f"
             ],
             [
              0.2222222222222222,
              "#7201a8"
             ],
             [
              0.3333333333333333,
              "#9c179e"
             ],
             [
              0.4444444444444444,
              "#bd3786"
             ],
             [
              0.5555555555555556,
              "#d8576b"
             ],
             [
              0.6666666666666666,
              "#ed7953"
             ],
             [
              0.7777777777777778,
              "#fb9f3a"
             ],
             [
              0.8888888888888888,
              "#fdca26"
             ],
             [
              1,
              "#f0f921"
             ]
            ],
            "type": "histogram2d"
           }
          ],
          "histogram2dcontour": [
           {
            "colorbar": {
             "outlinewidth": 0,
             "ticks": ""
            },
            "colorscale": [
             [
              0,
              "#0d0887"
             ],
             [
              0.1111111111111111,
              "#46039f"
             ],
             [
              0.2222222222222222,
              "#7201a8"
             ],
             [
              0.3333333333333333,
              "#9c179e"
             ],
             [
              0.4444444444444444,
              "#bd3786"
             ],
             [
              0.5555555555555556,
              "#d8576b"
             ],
             [
              0.6666666666666666,
              "#ed7953"
             ],
             [
              0.7777777777777778,
              "#fb9f3a"
             ],
             [
              0.8888888888888888,
              "#fdca26"
             ],
             [
              1,
              "#f0f921"
             ]
            ],
            "type": "histogram2dcontour"
           }
          ],
          "mesh3d": [
           {
            "colorbar": {
             "outlinewidth": 0,
             "ticks": ""
            },
            "type": "mesh3d"
           }
          ],
          "parcoords": [
           {
            "line": {
             "colorbar": {
              "outlinewidth": 0,
              "ticks": ""
             }
            },
            "type": "parcoords"
           }
          ],
          "pie": [
           {
            "automargin": true,
            "type": "pie"
           }
          ],
          "scatter": [
           {
            "fillpattern": {
             "fillmode": "overlay",
             "size": 10,
             "solidity": 0.2
            },
            "type": "scatter"
           }
          ],
          "scatter3d": [
           {
            "line": {
             "colorbar": {
              "outlinewidth": 0,
              "ticks": ""
             }
            },
            "marker": {
             "colorbar": {
              "outlinewidth": 0,
              "ticks": ""
             }
            },
            "type": "scatter3d"
           }
          ],
          "scattercarpet": [
           {
            "marker": {
             "colorbar": {
              "outlinewidth": 0,
              "ticks": ""
             }
            },
            "type": "scattercarpet"
           }
          ],
          "scattergeo": [
           {
            "marker": {
             "colorbar": {
              "outlinewidth": 0,
              "ticks": ""
             }
            },
            "type": "scattergeo"
           }
          ],
          "scattergl": [
           {
            "marker": {
             "colorbar": {
              "outlinewidth": 0,
              "ticks": ""
             }
            },
            "type": "scattergl"
           }
          ],
          "scattermapbox": [
           {
            "marker": {
             "colorbar": {
              "outlinewidth": 0,
              "ticks": ""
             }
            },
            "type": "scattermapbox"
           }
          ],
          "scatterpolar": [
           {
            "marker": {
             "colorbar": {
              "outlinewidth": 0,
              "ticks": ""
             }
            },
            "type": "scatterpolar"
           }
          ],
          "scatterpolargl": [
           {
            "marker": {
             "colorbar": {
              "outlinewidth": 0,
              "ticks": ""
             }
            },
            "type": "scatterpolargl"
           }
          ],
          "scatterternary": [
           {
            "marker": {
             "colorbar": {
              "outlinewidth": 0,
              "ticks": ""
             }
            },
            "type": "scatterternary"
           }
          ],
          "surface": [
           {
            "colorbar": {
             "outlinewidth": 0,
             "ticks": ""
            },
            "colorscale": [
             [
              0,
              "#0d0887"
             ],
             [
              0.1111111111111111,
              "#46039f"
             ],
             [
              0.2222222222222222,
              "#7201a8"
             ],
             [
              0.3333333333333333,
              "#9c179e"
             ],
             [
              0.4444444444444444,
              "#bd3786"
             ],
             [
              0.5555555555555556,
              "#d8576b"
             ],
             [
              0.6666666666666666,
              "#ed7953"
             ],
             [
              0.7777777777777778,
              "#fb9f3a"
             ],
             [
              0.8888888888888888,
              "#fdca26"
             ],
             [
              1,
              "#f0f921"
             ]
            ],
            "type": "surface"
           }
          ],
          "table": [
           {
            "cells": {
             "fill": {
              "color": "#EBF0F8"
             },
             "line": {
              "color": "white"
             }
            },
            "header": {
             "fill": {
              "color": "#C8D4E3"
             },
             "line": {
              "color": "white"
             }
            },
            "type": "table"
           }
          ]
         },
         "layout": {
          "annotationdefaults": {
           "arrowcolor": "#2a3f5f",
           "arrowhead": 0,
           "arrowwidth": 1
          },
          "autotypenumbers": "strict",
          "coloraxis": {
           "colorbar": {
            "outlinewidth": 0,
            "ticks": ""
           }
          },
          "colorscale": {
           "diverging": [
            [
             0,
             "#8e0152"
            ],
            [
             0.1,
             "#c51b7d"
            ],
            [
             0.2,
             "#de77ae"
            ],
            [
             0.3,
             "#f1b6da"
            ],
            [
             0.4,
             "#fde0ef"
            ],
            [
             0.5,
             "#f7f7f7"
            ],
            [
             0.6,
             "#e6f5d0"
            ],
            [
             0.7,
             "#b8e186"
            ],
            [
             0.8,
             "#7fbc41"
            ],
            [
             0.9,
             "#4d9221"
            ],
            [
             1,
             "#276419"
            ]
           ],
           "sequential": [
            [
             0,
             "#0d0887"
            ],
            [
             0.1111111111111111,
             "#46039f"
            ],
            [
             0.2222222222222222,
             "#7201a8"
            ],
            [
             0.3333333333333333,
             "#9c179e"
            ],
            [
             0.4444444444444444,
             "#bd3786"
            ],
            [
             0.5555555555555556,
             "#d8576b"
            ],
            [
             0.6666666666666666,
             "#ed7953"
            ],
            [
             0.7777777777777778,
             "#fb9f3a"
            ],
            [
             0.8888888888888888,
             "#fdca26"
            ],
            [
             1,
             "#f0f921"
            ]
           ],
           "sequentialminus": [
            [
             0,
             "#0d0887"
            ],
            [
             0.1111111111111111,
             "#46039f"
            ],
            [
             0.2222222222222222,
             "#7201a8"
            ],
            [
             0.3333333333333333,
             "#9c179e"
            ],
            [
             0.4444444444444444,
             "#bd3786"
            ],
            [
             0.5555555555555556,
             "#d8576b"
            ],
            [
             0.6666666666666666,
             "#ed7953"
            ],
            [
             0.7777777777777778,
             "#fb9f3a"
            ],
            [
             0.8888888888888888,
             "#fdca26"
            ],
            [
             1,
             "#f0f921"
            ]
           ]
          },
          "colorway": [
           "#636efa",
           "#EF553B",
           "#00cc96",
           "#ab63fa",
           "#FFA15A",
           "#19d3f3",
           "#FF6692",
           "#B6E880",
           "#FF97FF",
           "#FECB52"
          ],
          "font": {
           "color": "#2a3f5f"
          },
          "geo": {
           "bgcolor": "white",
           "lakecolor": "white",
           "landcolor": "#E5ECF6",
           "showlakes": true,
           "showland": true,
           "subunitcolor": "white"
          },
          "hoverlabel": {
           "align": "left"
          },
          "hovermode": "closest",
          "mapbox": {
           "style": "light"
          },
          "paper_bgcolor": "white",
          "plot_bgcolor": "#E5ECF6",
          "polar": {
           "angularaxis": {
            "gridcolor": "white",
            "linecolor": "white",
            "ticks": ""
           },
           "bgcolor": "#E5ECF6",
           "radialaxis": {
            "gridcolor": "white",
            "linecolor": "white",
            "ticks": ""
           }
          },
          "scene": {
           "xaxis": {
            "backgroundcolor": "#E5ECF6",
            "gridcolor": "white",
            "gridwidth": 2,
            "linecolor": "white",
            "showbackground": true,
            "ticks": "",
            "zerolinecolor": "white"
           },
           "yaxis": {
            "backgroundcolor": "#E5ECF6",
            "gridcolor": "white",
            "gridwidth": 2,
            "linecolor": "white",
            "showbackground": true,
            "ticks": "",
            "zerolinecolor": "white"
           },
           "zaxis": {
            "backgroundcolor": "#E5ECF6",
            "gridcolor": "white",
            "gridwidth": 2,
            "linecolor": "white",
            "showbackground": true,
            "ticks": "",
            "zerolinecolor": "white"
           }
          },
          "shapedefaults": {
           "line": {
            "color": "#2a3f5f"
           }
          },
          "ternary": {
           "aaxis": {
            "gridcolor": "white",
            "linecolor": "white",
            "ticks": ""
           },
           "baxis": {
            "gridcolor": "white",
            "linecolor": "white",
            "ticks": ""
           },
           "bgcolor": "#E5ECF6",
           "caxis": {
            "gridcolor": "white",
            "linecolor": "white",
            "ticks": ""
           }
          },
          "title": {
           "x": 0.05
          },
          "xaxis": {
           "automargin": true,
           "gridcolor": "white",
           "linecolor": "white",
           "ticks": "",
           "title": {
            "standoff": 15
           },
           "zerolinecolor": "white",
           "zerolinewidth": 2
          },
          "yaxis": {
           "automargin": true,
           "gridcolor": "white",
           "linecolor": "white",
           "ticks": "",
           "title": {
            "standoff": 15
           },
           "zerolinecolor": "white",
           "zerolinewidth": 2
          }
         }
        },
        "violinmode": "group",
        "xaxis": {
         "anchor": "y",
         "domain": [
          0,
          1
         ]
        },
        "yaxis": {
         "anchor": "x",
         "domain": [
          0,
          1
         ],
         "title": {
          "text": "Price"
         }
        }
       }
      }
     },
     "metadata": {},
     "output_type": "display_data"
    }
   ],
   "source": [
    "px.violin(df, y='Price',box=True)"
   ]
  },
  {
   "cell_type": "code",
   "execution_count": null,
   "metadata": {},
   "outputs": [],
   "source": []
  }
 ],
 "metadata": {
  "kernelspec": {
   "display_name": "base",
   "language": "python",
   "name": "python3"
  },
  "language_info": {
   "codemirror_mode": {
    "name": "ipython",
    "version": 3
   },
   "file_extension": ".py",
   "mimetype": "text/x-python",
   "name": "python",
   "nbconvert_exporter": "python",
   "pygments_lexer": "ipython3",
   "version": "3.10.9"
  }
 },
 "nbformat": 4,
 "nbformat_minor": 2
}
